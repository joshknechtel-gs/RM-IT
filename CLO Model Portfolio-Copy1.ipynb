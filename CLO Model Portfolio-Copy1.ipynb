{
 "cells": [
  {
   "cell_type": "code",
   "execution_count": 1,
   "id": "molecular-prize",
   "metadata": {
    "ExecuteTime": {
     "end_time": "2021-04-08T16:37:02.954686Z",
     "start_time": "2021-04-08T16:37:01.876063Z"
    }
   },
   "outputs": [],
   "source": [
    "import numpy as np  # probably don't need to load\n",
    "import pandas as pd\n",
    "import datetime as dt\n",
    "#import pandas_datareader.data as web  # probably don't need to load\n",
    "#import quandl\n",
    "\n",
    "#import blpapi\n",
    "#from xbbg import blp\n",
    "\n",
    "#import matplotlib.pyplot as plt\n",
    "#import seaborn as sns"
   ]
  },
  {
   "cell_type": "code",
   "execution_count": 2,
   "id": "pressing-weather",
   "metadata": {
    "ExecuteTime": {
     "end_time": "2021-04-08T16:37:03.973452Z",
     "start_time": "2021-04-08T16:37:03.956796Z"
    }
   },
   "outputs": [],
   "source": [
    "from IPython.core.interactiveshell import InteractiveShell\n",
    "InteractiveShell.ast_node_interactivity = 'all'"
   ]
  },
  {
   "cell_type": "code",
   "execution_count": 8,
   "id": "convertible-moderator",
   "metadata": {
    "ExecuteTime": {
     "end_time": "2021-04-08T17:00:06.389633Z",
     "start_time": "2021-04-08T17:00:06.374675Z"
    }
   },
   "outputs": [],
   "source": [
    "path = 'Z:/Shared/Risk Management and Investment Technology/Files for sharing/'\n",
    "file = 'CLO21 model portfolio as of 03.18.21 - With New WARF Logic.xlsm'\n",
    "filepath= path+file\n"
   ]
  },
  {
   "cell_type": "markdown",
   "id": "compound-wholesale",
   "metadata": {
    "ExecuteTime": {
     "end_time": "2021-04-08T16:38:06.953188Z",
     "start_time": "2021-04-08T16:38:06.938229Z"
    }
   },
   "source": [
    "## Functions"
   ]
  },
  {
   "cell_type": "code",
   "execution_count": 358,
   "id": "european-public",
   "metadata": {
    "ExecuteTime": {
     "end_time": "2021-04-09T18:54:49.830531Z",
     "start_time": "2021-04-09T18:54:49.797618Z"
    }
   },
   "outputs": [],
   "source": [
    "# this works; spot checked\n",
    "def moodys_adjusted_warf(df,moodys_score,moodys_rfTable):\n",
    "    \"\"\"\n",
    "    This function creates the new Moody's Ratings Factor based \n",
    "    on the old Moody's rating.\n",
    "    \n",
    "    Arg in:\n",
    "        df: the input data frame (from the MASTER table d/l'd from BMS)\n",
    "        moodys_score: dataframe with alphanumeric rating to numeric map (1 to 1 map; linear)\n",
    "        moodys_rfTable: dataframe with alphanumeric rating to new WARF numeric (1 to 1 map; 1 to 1000 values)\n",
    "    \"\"\"\n",
    "    score = df['Moody\\'s CFR'].map(dict(moodys_score[['Moodys','Score']].values))\n",
    "    updown = df['Moody\\'s Issuer Watch'].\\\n",
    "        apply(lambda x: -1 if x == 'Possible Upgrade' else 1 if x == 'Possible Downgrade' else 0)\n",
    "    aScore = score + updown\n",
    "    Adjusted_CFR_for_WARF = aScore.map(dict(moodys_score[['Score','Moodys']].values))\n",
    "    # I keep the same column name as Jeff to make it easier to double check values\n",
    "    df['Adj. WARF NEW'] = Adjusted_CFR_for_WARF.map(dict(moodys_rfTable[['Moody\\'s Rating Factor Table','Unnamed: 10']].values))\n",
    "    return df\n",
    "\n",
    "def sp_recovery_rate(model_df,lien,new_rr,bond_table):\n",
    "    \"\"\"\n",
    "    This function get the S&P recovery rate as a percent. If it doesn't exist\n",
    "    in the master field, it will look up in the appropriate first and second \n",
    "    lien tables, if not, will look up the bond table.\n",
    "    \n",
    "    Arg in:\n",
    "        model_df: the input data frame (from the MASTER table d/l'd from BMS)\n",
    "        lien: a DF table with the RR's for first and second lien by country\n",
    "        new_rr: a df mapping of the old notation for RR to a new RR in percentage\n",
    "        bond_table: split out of a table for RR for bonds\n",
    "    Arg out:\n",
    "        model_df with inserted new column 'S&P Recovery Rate (AAA)'\n",
    "    \"\"\"\n",
    "     \n",
    "    # if it the Recovery rate exists lookup in AAA table\n",
    "    model_df['S&P Recovery Rate (AAA)'] = model_df['S&P Recovery'].\\\n",
    "        map(dict(new_rr[['S&P Recovery Rating\\nand Recovery\\nIndicator of\\nCollateral Obligations','“AAA”']].values))\n",
    "    \n",
    "    # doesn't exist, but first lien, use first lien table\n",
    "    model_df.loc[pd.isna(model_df['S&P Recovery']) & (model_df['Lien Type']== 'First Lien'),'S&P Recovery Rate (AAA)'] =\\\n",
    "        model_df.loc[pd.isna(model_df['S&P Recovery']) & (model_df['Lien Type']== 'First Lien'),'Issuer Country'].\\\n",
    "        map(dict(lien[['Country Abv','RR']].values))\n",
    "    \n",
    "    \n",
    "    # doesn't exist, but 2nd lien, use 2nd lien table\n",
    "    model_df.loc[pd.isna(model_df['S&P Recovery']) & (model_df['Lien Type']== 'Second Lien'),'S&P Recovery Rate (AAA)'] = \\\n",
    "        model_df.loc[pd.isna(model_df['S&P Recovery']) & (model_df['Lien Type']== 'Second Lien'),'Issuer Country'].\\\n",
    "        map(dict(lien[['Country Abv','RR.2nd']].values))\n",
    "    \n",
    "    # the bonds\n",
    "    model_df.loc[pd.isna(model_df['S&P Recovery']) & pd.isna(model_df['Lien Type']),'S&P Recovery Rate (AAA)'] = \\\n",
    "        model_df.loc[pd.isna(model_df['S&P Recovery']) & pd.isna(model_df['Lien Type']),'Issuer Country'].\\\n",
    "        map(dict(bond_table[['Country Abv.1','RR.1']].values))\n",
    "\n",
    "    return model_df\n",
    "\n",
    "def diversity_score(model_df, ind_avg_eu):\n",
    "    \"\"\"\n",
    "    This function calculates the Moody's Industry Diversity Score for the CLO\n",
    "    \n",
    "    Arg in:\n",
    "        model_df: the input data frame (from the MASTER table d/l'd from BMS)\n",
    "        ind_avg_eu: Moody's discrete lookup table that maps AIEUS to IDS, need to be sorted\n",
    "    Arg out:\n",
    "        dscore: the scalar measure of the IDS\n",
    "    \"\"\"\n",
    "    \n",
    "    #first create the Par amount filtering out defaults\n",
    "    #model_df['Par_no_default'] = model_df['Total']\n",
    "    #model_df.loc[model_df['Default']=='Y','Par_no_default'] = 0\n",
    "    div_df = model_df[['Parent Company','Moody\\'s Industry','Par_no_default']].copy()\n",
    "    div_df.sort_values(by='Moody\\'s Industry',inplace=True)\n",
    "\n",
    "    # this keeps the industry, but groups on parent company for multiple loans\n",
    "    test = div_df.groupby(by=['Parent Company','Moody\\'s Industry']).sum()\n",
    "    avg_par_amt = test.sum()/test.count()   \n",
    "    \n",
    "    # create the EU score for each parent\n",
    "    # Lesser of 1 and Issuer Par Amount for such issuer divided by the Average Par Amount.\n",
    "    test['EU'] = test[['Par_no_default']]/test[['Par_no_default']].mean()\n",
    "    test.loc[test['EU']>1,'EU']=1\n",
    "    \n",
    "    # groupby Industry for the Ind Div Score\n",
    "    IDS = test.groupby(by=['Moody\\'s Industry']).sum()\n",
    "\n",
    "    # this is like vlookup(..,TRUE) where the nearest match on merge is used, direction controls how\n",
    "    # backward is the lesser if EU falls between AIEUS marks\n",
    "    df_merged = pd.merge_asof(IDS.sort_values('EU'), ind_avg_eu, left_on='EU', \n",
    "                          right_on='Aggregate\\nIndustry\\nEquivalent\\nUnit Score', direction='backward', suffixes=['', '_2'])\n",
    "    dscore = df_merged['Industry\\nDiversity\\nScore'].sum()\n",
    "    return dscore\n",
    "\n",
    "def Port_stats(model_df, ind_avg_eu):\n",
    "    Port_stats_df = pd.DataFrame(np.nan,index=['Min Floating Spread Test - no Libor Floors',\n",
    "        'Min Floating Spread Test - With Libor Floors',\n",
    "        'Max Moodys Rating Factor Test (NEW WARF)',\n",
    "        'Max Moodys Rating Factor Test (Orig WARF)',\n",
    "        'Min Moodys Recovery Rate Test',\n",
    "        'Min S&P Recovery Rate Class A-1a',\n",
    "        'Moodys Diversity Test',\n",
    "        'WAP',\n",
    "        'Total Portfolio Par (excl. Defaults)',\n",
    "        'Total Portfolio Par',\n",
    "        'Current Portfolio'],columns = ['Portfolio Stats'])\n",
    "\n",
    "    \n",
    "    Port_stats_df.loc['Min Floating Spread Test - no Libor Floors','Portfolio Stats'] = \\\n",
    "        (model_df['Par_no_default']*model_df['Floating Spread']).sum()/model_df['Par_no_default'].sum()*100\n",
    "    Port_stats_df.loc['Min Floating Spread Test - no Libor Floors'] = \\\n",
    "        Port_stats_df.loc['Min Floating Spread Test - no Libor Floors'].apply('{:.2f}%'.format)\n",
    "    \n",
    "    Port_stats_df.loc['Min Floating Spread Test - With Libor Floors','Portfolio Stats'] = \\\n",
    "        (model_df['Par_no_default']*model_df['Adj. All in Rate']).sum()/model_df['Par_no_default'].sum()*100\n",
    "    Port_stats_df.loc['Min Floating Spread Test - With Libor Floors'] = \\\n",
    "        Port_stats_df.loc['Min Floating Spread Test - With Libor Floors'].apply('{:.2f}%'.format)\n",
    "    \n",
    "    Port_stats_df.loc['Max Moodys Rating Factor Test (NEW WARF)','Portfolio Stats'] = \\\n",
    "        (model_df['Par_no_default']*model_df['Adj. WARF NEW']).sum()/model_df['Par_no_default'].sum()\n",
    "    Port_stats_df.loc['Max Moodys Rating Factor Test (NEW WARF)'] = \\\n",
    "        Port_stats_df.loc['Max Moodys Rating Factor Test (NEW WARF)'].apply('{:.0f}'.format)\n",
    "    \n",
    "    Port_stats_df.loc['Max Moodys Rating Factor Test (Orig WARF)','Portfolio Stats'] = \\\n",
    "        (model_df['Par_no_default']*model_df['WARF']).sum()/model_df['Par_no_default'].sum()\n",
    "    Port_stats_df.loc['Max Moodys Rating Factor Test (Orig WARF)'] = \\\n",
    "        Port_stats_df.loc['Max Moodys Rating Factor Test (Orig WARF)'].apply('{:.0f}'.format)\n",
    "    \n",
    "    Port_stats_df.loc['Min Moodys Recovery Rate Test','Portfolio Stats'] = \\\n",
    "        (model_df['Par_no_default']*model_df['Moodys Recovery Rate']).sum()/model_df['Par_no_default'].sum()*100\n",
    "    Port_stats_df.loc['Min Moodys Recovery Rate Test'] = \\\n",
    "        Port_stats_df.loc['Min Moodys Recovery Rate Test'].apply('{:.1f}%'.format)\n",
    "    \n",
    "    Port_stats_df.loc['Min S&P Recovery Rate Class A-1a','Portfolio Stats'] = \\\n",
    "        (model_df['Par_no_default']*model_df['S&P Recovery Rate (AAA)']).sum()/model_df['Par_no_default'].sum()*100\n",
    "    Port_stats_df.loc['Min S&P Recovery Rate Class A-1a'] = \\\n",
    "        Port_stats_df.loc['Min S&P Recovery Rate Class A-1a'].apply('{:.1f}%'.format)\n",
    "    \n",
    "    Port_stats_df.loc['Moodys Diversity Test','Portfolio Stats'] = diversity_score(model_df, ind_avg_eu)\n",
    "    Port_stats_df.loc['Moodys Diversity Test'] = \\\n",
    "        Port_stats_df.loc['Moodys Diversity Test'].apply('{:.0f}'.format)\n",
    "    \n",
    "    Port_stats_df.loc['WAP','Portfolio Stats'] = \\\n",
    "        sum(model_df['Total']*model_df['Blended Price']/sum(model_df['Total']))\n",
    "    Port_stats_df.loc['WAP'] = \\\n",
    "        Port_stats_df.loc['WAP'].apply('${:.2f}'.format)\n",
    "\n",
    "    Port_stats_df.loc['Total Portfolio Par (excl. Defaults)','Portfolio Stats'] = model_df['Par_no_default'].sum()\n",
    "    Port_stats_df.loc['Total Portfolio Par (excl. Defaults)'] = \\\n",
    "        Port_stats_df.loc['Total Portfolio Par (excl. Defaults)'].apply('{:,.0f}'.format)\n",
    "\n",
    "    \n",
    "    Port_stats_df.loc['Total Portfolio Par','Portfolio Stats'] = model_df['Total'].sum()\n",
    "    Port_stats_df.loc['Total Portfolio Par'] = \\\n",
    "        Port_stats_df.loc['Total Portfolio Par'].apply('{:,.0f}'.format)\n",
    "    \n",
    "    # current portfolio is Quantity + Add'l Amount (manual) TBA later\n",
    "    Port_stats_df.loc['Current Portfolio','Portfolio Stats'] = model_df[['Addt\\'l Purchase Amt','Current Portfolio']].sum(axis=1).sum()\n",
    "    Port_stats_df.loc['Current Portfolio'] = \\\n",
    "        Port_stats_df.loc['Current Portfolio'].apply('{:,.0f}'.format)\n",
    "    \n",
    "    return Port_stats_df"
   ]
  },
  {
   "cell_type": "code",
   "execution_count": 229,
   "id": "unnecessary-undergraduate",
   "metadata": {
    "ExecuteTime": {
     "end_time": "2021-04-09T17:02:11.024785Z",
     "start_time": "2021-04-09T17:02:11.014781Z"
    }
   },
   "outputs": [],
   "source": [
    "# functions for reading the relevant spreadsheet data\n",
    "# I am making them simple and separated so they can be replaced\n",
    "# by other bespoke solutions like direct APIs from the source,\n",
    "# also aides readability and debugging\n",
    "\n",
    "def get_master_df(filepath,sheet='MASTER'):\n",
    "    master_df = pd.read_excel(filepath,sheet_name=sheet,header=1)\n",
    "    master_df = master_df.loc[:,~master_df.columns.str.match(\"Unnamed\")]\n",
    "    return master_df\n",
    "\n",
    "def get_CLO_df(filepath,sheet='CLO 21 Port as of 3.18'):\n",
    "    CLO_df = pd.read_excel(filepath,sheet_name=sheet,header=6,usecols='A:K')\n",
    "    CLO_df.dropna(inplace=True)\n",
    "    \n",
    "    # these comments are here, because this is what I used to check\n",
    "    # his pivot table columns M:0\n",
    "    #CLO_df[['Cusip or LIN','Quantity','/Unit']].sort_values(by='Cusip or LIN')\n",
    "    #CLO_df[['Quantity']].sum()  # verified sum of Quantity\n",
    "    #CLO_df[['/Unit']].mean()    # verified for average /Unit\n",
    "    return CLO_df\n",
    "\n",
    "def get_bidask_df(filepath,sheet='Bid.Ask 3.18'):\n",
    "    bidask_df = pd.read_excel(filepath,sheet_name=sheet,header=0)\n",
    "    bidask_df = bidask_df.loc[:,~bidask_df.columns.str.match(\"Unnamed\")]\n",
    "    return bidask_df\n",
    "\n",
    "def get_moodys_rating2rf_tables(filepath,sheet='New WARF'):\n",
    "    moodys_score = pd.read_excel(filepath,sheet_name=sheet,header=0,usecols='E:F')\n",
    "    moodys_rfTable = pd.read_excel(filepath,sheet_name=sheet,header=0,usecols='J:K')\n",
    "    return moodys_score, moodys_rfTable\n",
    "\n",
    "def get_recovery_rate_tables(filepath,sheet='SP RR Updated'):\n",
    "    new_sp_rr = pd.read_excel(filepath, sheet_name=sheet, header=1, usecols='L:M')\n",
    "    new_sp_rr.dropna(how='all',inplace=True)\n",
    "\n",
    "    lien_rr = pd.read_excel(filepath, sheet_name=sheet, header=1, usecols='A:I')\n",
    "    lien_rr.dropna(how='all',inplace=True)\n",
    "\n",
    "    bond_split = lien_rr[lien_rr['Country.1']=='Bonds'].index.values[0]\n",
    "    bond_table = lien_rr.loc[bond_split+1:]\n",
    "    lien_rr = lien_rr.loc[:bond_split-1]\n",
    "    lien_rr.drop(columns=['Unnamed: 4','Country Abv.1','Country.1','Group.1'],inplace=True)\n",
    "    lien_rr.rename(columns={'RR.1':'RR.2nd'},inplace=True)\n",
    "    \n",
    "    return new_sp_rr, lien_rr, bond_table\n",
    "\n",
    "def get_ind_avg_eu_table(filepath,sheet='Diversity'):\n",
    "    ind_avg_eu = pd.read_excel(filepath, sheet_name=sheet, header=8, usecols='K:L')\n",
    "    ind_avg_eu.dropna(how='all',inplace=True)\n",
    "    return ind_avg_eu\n",
    "\n",
    "def get_pot_trades(filepath,sheet='Model Portfolio'):\n",
    "    pot_trades = pd.read_excel(filepath,sheet_name=sheet,header=16,usecols='C:G')\n",
    "    #bidask_df = bidask_df.loc[:,~bidask_df.columns.str.match(\"Unnamed\")]\n",
    "    return pot_trades"
   ]
  },
  {
   "cell_type": "code",
   "execution_count": 320,
   "id": "analyzed-ebony",
   "metadata": {
    "ExecuteTime": {
     "end_time": "2021-04-09T17:54:47.070085Z",
     "start_time": "2021-04-09T17:54:47.047118Z"
    }
   },
   "outputs": [],
   "source": [
    "def model_pricing(model_df):\n",
    "    model_df.loc[model_df['Close Offer'].isna(),'Close Offer'] = 99\n",
    "    model_df.loc[model_df['Issuer'].str.match('zz_LXREP'),'Close Offer'] = 99.5\n",
    "    model_df.loc[model_df['Issuer'].str.match('zz_LXREP03'),'Close Offer'] = 99\n",
    "    model_df.loc[model_df['Issuer'].str.match('zz_LXREP12'),'Close Offer'] = 99\n",
    "    model_df.loc[model_df['Close Bid'].isna(),'Close Bid'] = 99\n",
    "    model_df.loc[model_df['/Unit'].isna(),'/Unit'] = 0\n",
    "    model_df.rename(columns={'Close Offer':'Ask','Close Bid':'Bid',\n",
    "                               '/Unit':'Actual Purch Price of Current Positions'},inplace=True)\n",
    "    model_df.loc[model_df['Actual Purch Price of Current Positions'].isna(),'Actual Purch Price of Current Positions'] = 0\n",
    "    model_df['Current Portfolio'] = model_df['Quantity']\n",
    "    model_df.loc[model_df['Current Portfolio'].isna(),'Current Portfolio'] = 0\n",
    "    model_df.loc[model_df['Potential Trades\\nBuys as Positives\\nSales as (Negative)'].isna(),\n",
    "               'Potential Trades\\nBuys as Positives\\nSales as (Negative)'] = 0\n",
    "    model_df.loc[model_df['Addt\\'l Purchase Amt'].isna(),'Addt\\'l Purchase Amt'] = 0\n",
    "    model_df.loc[model_df['Purch Price of Addt\\'l Purch'].isna(),'Purch Price of Addt\\'l Purch'] = 0\n",
    "\n",
    "    model_df['Total'] = model_df[['Current Portfolio',\n",
    "                                      'Addt\\'l Purchase Amt',\n",
    "                                      'Potential Trades\\nBuys as Positives\\nSales as (Negative)']].sum(axis=1)\n",
    "    \n",
    "    model_df['Blended Actual Purchase Prices'] = \\\n",
    "        model_df[['Addt\\'l Purchase Amt','Purch Price of Addt\\'l Purch',\n",
    "                    'Current Portfolio','Actual Purch Price of Current Positions']].\\\n",
    "        apply(lambda x: 100*((x[0]*x[1]/100)+(x[2]*x[3]/100))/(x[0]+x[2]),axis=1)\n",
    "    model_df.loc[model_df['Blended Actual Purchase Prices'].isna(),'Blended Actual Purchase Prices'] = 0\n",
    "    \n",
    "    model_df['Blended Price'] = model_df[['Potential Trades\\nBuys as Positives\\nSales as (Negative)',\n",
    "            'Addt\\'l Purchase Amt','Blended Actual Purchase Prices','Total','Bid','Ask','Current Portfolio']].\\\n",
    "            apply(lambda x: ((x[0]*x[4]/100+(x[6]+x[1])*x[2])/x[3])*100 if x[0]<1 else \\\n",
    "                            ((x[0]*x[5]/100+(x[6]+x[1])*x[2])/x[3])*100,axis=1 )\n",
    "    model_df.loc[model_df['Blended Price'].isna(),'Blended Price'] = 0\n",
    "    \n",
    "    model_df['Par_Build_Loss_Sale'] = model_df[['Potential Trades\\nBuys as Positives\\nSales as (Negative)',\n",
    "                                                    'Bid','Actual Purch Price of Current Positions']].\\\n",
    "            apply(lambda x: ((-x[0]*x[1]/100)-(-x[0]*x[2]/100) if x[0]<0 else 0),axis=1)\n",
    "    model_df['Par_Build_Loss_Buy'] = model_df[['Potential Trades\\nBuys as Positives\\nSales as (Negative)','Ask']].\\\n",
    "            apply(lambda x: ((-x[0]*x[1]/100)+x[0]) if x[0]>0 else 0,axis=1)\n",
    "    model_df['Total_Par_Build_Loss'] = model_df[['Par_Build_Loss_Sale','Par_Build_Loss_Buy']].sum(axis=1)\n",
    "    \n",
    "    model_df['Par_no_default'] = model_df['Total'].values\n",
    "    model_df.loc[model_df['Default']=='Y','Par_no_default'] = 0\n",
    "    \n",
    "    return model_df"
   ]
  },
  {
   "cell_type": "code",
   "execution_count": 304,
   "id": "domestic-frank",
   "metadata": {
    "ExecuteTime": {
     "end_time": "2021-04-09T17:47:25.358067Z",
     "start_time": "2021-04-09T17:47:25.342038Z"
    }
   },
   "outputs": [],
   "source": [
    "def create_model_port_df(filepath):\n",
    "    \n",
    "    # first read in all relevant tables from the CLO model sprdsht\n",
    "    master_df = get_master_df(filepath,sheet='MASTER')\n",
    "    CLO_df = get_CLO_df(filepath,sheet='CLO 21 Port as of 3.18')\n",
    "    bidask_df = get_bidask_df(filepath,sheet='Bid.Ask 3.18')\n",
    "    moodys_score, moodys_rfTable = get_moodys_rating2rf_tables(filepath,sheet='New WARF')\n",
    "    new_sp_rr, lien_rr, bond_table = get_recovery_rate_tables(filepath,sheet='SP RR Updated')\n",
    "    ind_avg_eu = get_ind_avg_eu_table(filepath,sheet='Diversity')\n",
    "    pot_trades = get_pot_trades(filepath,sheet='Model Portfolio')\n",
    "    \n",
    "    # Here is where I think I should add subsetting for needed fields & renaming\n",
    "    \n",
    "    # merge MASTER + CLO + Bid.Ask + Potential Trades\n",
    "    model_port = master_df.merge(CLO_df,left_on=\"LoanX ID\",right_on=\"Cusip or LIN\",how='outer') \n",
    "    model_port = model_port.merge(bidask_df,left_on=\"LoanX ID\",right_on=\"LXID\",how='left')\n",
    "    model_port = model_port.merge(pot_trades, left_on='LoanX ID', right_on='LX ID',how='outer')\n",
    "    \n",
    "    # add in metric like New WARF, SP's RR, Par no Default, Adj All in Rate\n",
    "    model_port = moodys_adjusted_warf(model_port,moodys_score,moodys_rfTable)\n",
    "    model_port = sp_recovery_rate(model_port,lien_rr,new_sp_rr,bond_table)\n",
    "    # need a way to pass LIBOR\n",
    "    model_port['Adj. All in Rate'] = model_port[['Floating Spread','Floating Spread Floor']].\\\n",
    "        apply(lambda x: (x[0]+x[1]-.002) if (x[1]>.002) else x[0],axis=1 )\n",
    "    \n",
    "    #add in all the Pricing stats\n",
    "    model_port = model_pricing(model_port)\n",
    "    \n",
    "    return model_port, ind_avg_eu"
   ]
  },
  {
   "cell_type": "markdown",
   "id": "recorded-touch",
   "metadata": {},
   "source": [
    "# Create Model Portfolio Dataframe"
   ]
  },
  {
   "cell_type": "code",
   "execution_count": 305,
   "id": "separate-credits",
   "metadata": {
    "ExecuteTime": {
     "end_time": "2021-04-09T17:47:34.995640Z",
     "start_time": "2021-04-09T17:47:28.768177Z"
    }
   },
   "outputs": [
    {
     "name": "stderr",
     "output_type": "stream",
     "text": [
      "<ipython-input-303-3dc18a72dcc3>:25: RuntimeWarning: invalid value encountered in double_scalars\n",
      "  apply(lambda x: 100*((x[0]*x[1]/100)+(x[2]*x[3]/100))/(x[0]+x[2]),axis=1)\n",
      "<ipython-input-303-3dc18a72dcc3>:30: RuntimeWarning: invalid value encountered in double_scalars\n",
      "  apply(lambda x: ((x[0]*x[4]/100+(x[6]+x[1])*x[2])/x[3])*100 if x[0]<1 else \\\n"
     ]
    }
   ],
   "source": [
    "model_port, ind_avg_eu = create_model_port_df(filepath)\n"
   ]
  },
  {
   "cell_type": "code",
   "execution_count": 326,
   "id": "cellular-ecuador",
   "metadata": {
    "ExecuteTime": {
     "end_time": "2021-04-09T18:04:34.580462Z",
     "start_time": "2021-04-09T18:04:34.557478Z"
    }
   },
   "outputs": [
    {
     "name": "stdout",
     "output_type": "stream",
     "text": [
      "<class 'pandas.core.frame.DataFrame'>\n",
      "Int64Index: 497 entries, 0 to 496\n",
      "Data columns (total 94 columns):\n",
      " #   Column                                                  Non-Null Count  Dtype         \n",
      "---  ------                                                  --------------  -----         \n",
      " 0   Combined                                                497 non-null    object        \n",
      " 1   LoanX ID                                                497 non-null    object        \n",
      " 2   Parent Company                                          497 non-null    object        \n",
      " 3   Issuer                                                  497 non-null    object        \n",
      " 4   Asset                                                   497 non-null    object        \n",
      " 5   Analyst                                                 463 non-null    object        \n",
      " 6   Floating Spread                                         489 non-null    float64       \n",
      " 7   Floating Spread Floor                                   474 non-null    float64       \n",
      " 8   All In Rate                                             471 non-null    float64       \n",
      " 9   Maturity Date                                           495 non-null    datetime64[ns]\n",
      " 10  Mark Price                                              464 non-null    float64       \n",
      " 11  Adjusted Moodys Rating                                  497 non-null    object        \n",
      " 12  WARF                                                    497 non-null    int64         \n",
      " 13  Moody's CFR                                             497 non-null    object        \n",
      " 14  Moody's Facility Rating                                 493 non-null    object        \n",
      " 15  Moody's Issuer Outlook                                  488 non-null    object        \n",
      " 16  Moody's Issuer Watch                                    167 non-null    object        \n",
      " 17  Moodys Recovery Rate                                    497 non-null    float64       \n",
      " 18  S&P Issuer Rating                                       496 non-null    object        \n",
      " 19  S&P Facility Rating                                     431 non-null    object        \n",
      " 20  S&P Issuer Outlook                                      483 non-null    object        \n",
      " 21  S&P Issuer Watch                                        228 non-null    object        \n",
      " 22  S&P Recovery                                            467 non-null    object        \n",
      " 23  Agent Bank                                              463 non-null    object        \n",
      " 24  OCP CLO 2013-4, Ltd.                                    311 non-null    float64       \n",
      " 25  OCP CLO 2014-5, Ltd.                                    368 non-null    float64       \n",
      " 26  OCP CLO 2014-6, Ltd.                                    385 non-null    float64       \n",
      " 27  OCP CLO 2014-7, Ltd.                                    373 non-null    float64       \n",
      " 28  OCP CLO 2015-8, Ltd.                                    261 non-null    float64       \n",
      " 29  OCP CLO 2015-9, Ltd.                                    147 non-null    float64       \n",
      " 30  OCP CLO 2015-10, Ltd.                                   160 non-null    float64       \n",
      " 31  OCP CLO 2016-11, Ltd.                                   374 non-null    float64       \n",
      " 32  OCP CLO 2016-12, Ltd.                                   295 non-null    float64       \n",
      " 33  OCP CLO 2017-13, Ltd.                                   377 non-null    float64       \n",
      " 34  OCP CLO 2017-14, Ltd.                                   380 non-null    float64       \n",
      " 35  OCP CLO 2018-15, Ltd.                                   380 non-null    float64       \n",
      " 36  OCP CLO 2019-16, Ltd.                                   368 non-null    float64       \n",
      " 37  OCP CLO 2019-17, Ltd                                    352 non-null    float64       \n",
      " 38  OCP CLO 2020-18, Ltd.                                   298 non-null    float64       \n",
      " 39  OCP CLO 2020-19, Ltd.                                   293 non-null    float64       \n",
      " 40  OCP CLO 2020-20, Ltd. whse                              288 non-null    float64       \n",
      " 41  OCP CLO 2020-21, Ltd. whse                              137 non-null    float64       \n",
      " 42  Current Global Amount Outstanding                       463 non-null    float64       \n",
      " 43  Moody's Industry                                        497 non-null    object        \n",
      " 44  S&P Industry                                            497 non-null    object        \n",
      " 45  Lien Type                                               489 non-null    object        \n",
      " 46  Issuer Country                                          497 non-null    object        \n",
      " 47  Cov Lite                                                497 non-null    object        \n",
      " 48  Default                                                 497 non-null    object        \n",
      " 49  Libor Contract                                          0 non-null      float64       \n",
      " 50  Loan Only                                               0 non-null      float64       \n",
      " 51  Comments                                                0 non-null      float64       \n",
      " 52  Moody's ADJ. CFR Score                                  497 non-null    int64         \n",
      " 53  Adjusted CFR Score                                      497 non-null    int64         \n",
      " 54  Adjusted CFR for WARF                                   497 non-null    object        \n",
      " 55  Adj. WARF NEW                                           497 non-null    float64       \n",
      " 56  Quantity                                                127 non-null    float64       \n",
      " 57  Security                                                127 non-null    object        \n",
      " 58  Symbol                                                  127 non-null    object        \n",
      " 59  Cusip or LIN                                            127 non-null    object        \n",
      " 60  Date                                                    127 non-null    datetime64[ns]\n",
      " 61  Cost                                                    127 non-null    float64       \n",
      " 62  Actual Purch Price of Current Positions                 497 non-null    float64       \n",
      " 63  Price                                                   127 non-null    float64       \n",
      " 64  Value                                                   127 non-null    float64       \n",
      " 65  Value.1                                                 127 non-null    float64       \n",
      " 66  (-Loss)                                                 127 non-null    float64       \n",
      " 67  LXID                                                    456 non-null    object        \n",
      " 68  Issuer Name                                             456 non-null    object        \n",
      " 69  Deal Name                                               456 non-null    object        \n",
      " 70  Facility                                                456 non-null    object        \n",
      " 71  Maturity                                                456 non-null    datetime64[ns]\n",
      " 72  Initial Spread                                          456 non-null    float64       \n",
      " 73  Bid                                                     497 non-null    float64       \n",
      " 74  Ask                                                     497 non-null    float64       \n",
      " 75  Evaluated Price                                         456 non-null    float64       \n",
      " 76  Close Depth                                             456 non-null    object        \n",
      " 77  As of Date                                              456 non-null    datetime64[ns]\n",
      " 78  Currency                                                456 non-null    object        \n",
      " 79  LX ID                                                   496 non-null    object        \n",
      " 80  Issuer & Facility Name                                  496 non-null    object        \n",
      " 81  Potential Trades\n",
      "Buys as Positives\n",
      "Sales as (Negative)  497 non-null    float64       \n",
      " 82  Addt'l Purchase Amt                                     497 non-null    float64       \n",
      " 83  Purch Price of Addt'l Purch                             497 non-null    float64       \n",
      " 84  S&P Recovery Rate (AAA)                                 497 non-null    float64       \n",
      " 85  Adj. All in Rate                                        489 non-null    float64       \n",
      " 86  Current Portfolio                                       497 non-null    float64       \n",
      " 87  Total                                                   497 non-null    float64       \n",
      " 88  Blended Actual Purchase Prices                          497 non-null    float64       \n",
      " 89  Blended Price                                           497 non-null    float64       \n",
      " 90  Par_Build_Loss_Sale                                     497 non-null    float64       \n",
      " 91  Par_Build_Loss_Buy                                      497 non-null    float64       \n",
      " 92  Total_Par_Build_Loss                                    497 non-null    float64       \n",
      " 93  Par_no_default                                          497 non-null    float64       \n",
      "dtypes: datetime64[ns](4), float64(52), int64(3), object(35)\n",
      "memory usage: 368.9+ KB\n"
     ]
    }
   ],
   "source": [
    "model_port.info()"
   ]
  },
  {
   "cell_type": "markdown",
   "id": "welcome-trailer",
   "metadata": {},
   "source": [
    "# Model Portfolio stats\n",
    "- Estimated Libor\n",
    "- Minimum Floating Spread Test - Without Libor Floors\n",
    "- Minimum Floating Spread Test - WithLibor Floors (adj. All in Rate)\n",
    "- Maximum Moody's Rating Factor Test\n",
    "- Maximum Moody's Rating Factor Test (NEW WARF)\n",
    "- Maximum Moody's Rating Factor Test (Orig WARF)\n",
    "- Minimum Weighted Average Moody's Recovery Rate Test\n",
    "- Minimum Weighted Average S&P Recovery Rate Class A-1a\n",
    "- Moody's Diversity Test\n",
    "- WAP (Current Positions use Actual purchase price, all others use Ask price)\n",
    "- Total Portfolio Par (excluding Defaults)\n",
    "- Total Portfolio Par\n",
    "- Current Portfolio \n",
    "\n",
    "- Replines\t\n",
    "- Amount\t$79.2 \n",
    "- WAS\t3.80%\n",
    "- WAPP\t 99.5 \n",
    "- WARF New\t 3,022 \n",
    "- WARF Orig\t 2,954 \n"
   ]
  },
  {
   "cell_type": "code",
   "execution_count": 359,
   "id": "remarkable-theme",
   "metadata": {
    "ExecuteTime": {
     "end_time": "2021-04-09T18:54:56.428476Z",
     "start_time": "2021-04-09T18:54:56.404540Z"
    }
   },
   "outputs": [
    {
     "data": {
      "text/html": [
       "<div>\n",
       "<style scoped>\n",
       "    .dataframe tbody tr th:only-of-type {\n",
       "        vertical-align: middle;\n",
       "    }\n",
       "\n",
       "    .dataframe tbody tr th {\n",
       "        vertical-align: top;\n",
       "    }\n",
       "\n",
       "    .dataframe thead th {\n",
       "        text-align: right;\n",
       "    }\n",
       "</style>\n",
       "<table border=\"1\" class=\"dataframe\">\n",
       "  <thead>\n",
       "    <tr style=\"text-align: right;\">\n",
       "      <th></th>\n",
       "      <th>Portfolio Stats</th>\n",
       "    </tr>\n",
       "  </thead>\n",
       "  <tbody>\n",
       "    <tr>\n",
       "      <th>Min Floating Spread Test - no Libor Floors</th>\n",
       "      <td>3.31%</td>\n",
       "    </tr>\n",
       "    <tr>\n",
       "      <th>Min Floating Spread Test - With Libor Floors</th>\n",
       "      <td>3.56%</td>\n",
       "    </tr>\n",
       "    <tr>\n",
       "      <th>Max Moodys Rating Factor Test (NEW WARF)</th>\n",
       "      <td>2726</td>\n",
       "    </tr>\n",
       "    <tr>\n",
       "      <th>Max Moodys Rating Factor Test (Orig WARF)</th>\n",
       "      <td>2816</td>\n",
       "    </tr>\n",
       "    <tr>\n",
       "      <th>Min Moodys Recovery Rate Test</th>\n",
       "      <td>47.8%</td>\n",
       "    </tr>\n",
       "    <tr>\n",
       "      <th>Min S&amp;P Recovery Rate Class A-1a</th>\n",
       "      <td>42.2%</td>\n",
       "    </tr>\n",
       "    <tr>\n",
       "      <th>Moodys Diversity Test</th>\n",
       "      <td>80</td>\n",
       "    </tr>\n",
       "    <tr>\n",
       "      <th>WAP</th>\n",
       "      <td>$99.70</td>\n",
       "    </tr>\n",
       "    <tr>\n",
       "      <th>Total Portfolio Par (excl. Defaults)</th>\n",
       "      <td>400,000,000</td>\n",
       "    </tr>\n",
       "    <tr>\n",
       "      <th>Total Portfolio Par</th>\n",
       "      <td>400,000,000</td>\n",
       "    </tr>\n",
       "    <tr>\n",
       "      <th>Current Portfolio</th>\n",
       "      <td>226,333,337</td>\n",
       "    </tr>\n",
       "  </tbody>\n",
       "</table>\n",
       "</div>"
      ],
      "text/plain": [
       "                                             Portfolio Stats\n",
       "Min Floating Spread Test - no Libor Floors             3.31%\n",
       "Min Floating Spread Test - With Libor Floors           3.56%\n",
       "Max Moodys Rating Factor Test (NEW WARF)                2726\n",
       "Max Moodys Rating Factor Test (Orig WARF)               2816\n",
       "Min Moodys Recovery Rate Test                          47.8%\n",
       "Min S&P Recovery Rate Class A-1a                       42.2%\n",
       "Moodys Diversity Test                                     80\n",
       "WAP                                                   $99.70\n",
       "Total Portfolio Par (excl. Defaults)             400,000,000\n",
       "Total Portfolio Par                              400,000,000\n",
       "Current Portfolio                                226,333,337"
      ]
     },
     "execution_count": 359,
     "metadata": {},
     "output_type": "execute_result"
    }
   ],
   "source": [
    "Port_stats(model_port,ind_avg_eu)"
   ]
  },
  {
   "cell_type": "code",
   "execution_count": 349,
   "id": "powered-tracker",
   "metadata": {
    "ExecuteTime": {
     "end_time": "2021-04-09T18:43:39.255497Z",
     "start_time": "2021-04-09T18:43:39.244528Z"
    }
   },
   "outputs": [
    {
     "data": {
      "text/plain": [
       "Portfolio Stats    0.03%\n",
       "Name: Min Floating Spread Test - no Libor Floors, dtype: object"
      ]
     },
     "execution_count": 349,
     "metadata": {},
     "output_type": "execute_result"
    }
   ],
   "source": [
    "pstats.loc['Min Floating Spread Test - no Libor Floors'].apply('{:.2f}%'.format)"
   ]
  },
  {
   "cell_type": "code",
   "execution_count": 343,
   "id": "documentary-princeton",
   "metadata": {
    "ExecuteTime": {
     "end_time": "2021-04-09T18:36:29.475311Z",
     "start_time": "2021-04-09T18:36:29.446387Z"
    }
   },
   "outputs": [
    {
     "data": {
      "text/html": [
       "<div>\n",
       "<style scoped>\n",
       "    .dataframe tbody tr th:only-of-type {\n",
       "        vertical-align: middle;\n",
       "    }\n",
       "\n",
       "    .dataframe tbody tr th {\n",
       "        vertical-align: top;\n",
       "    }\n",
       "\n",
       "    .dataframe thead th {\n",
       "        text-align: right;\n",
       "    }\n",
       "</style>\n",
       "<table border=\"1\" class=\"dataframe\">\n",
       "  <thead>\n",
       "    <tr style=\"text-align: right;\">\n",
       "      <th></th>\n",
       "      <th>Repline Stats</th>\n",
       "    </tr>\n",
       "  </thead>\n",
       "  <tbody>\n",
       "    <tr>\n",
       "      <th>Amount</th>\n",
       "      <td>$79.2</td>\n",
       "    </tr>\n",
       "    <tr>\n",
       "      <th>WAS</th>\n",
       "      <td>3.80%</td>\n",
       "    </tr>\n",
       "    <tr>\n",
       "      <th>WAPP</th>\n",
       "      <td>99.46</td>\n",
       "    </tr>\n",
       "    <tr>\n",
       "      <th>WARF New</th>\n",
       "      <td>3022</td>\n",
       "    </tr>\n",
       "    <tr>\n",
       "      <th>WARF Orig</th>\n",
       "      <td>2954</td>\n",
       "    </tr>\n",
       "  </tbody>\n",
       "</table>\n",
       "</div>"
      ],
      "text/plain": [
       "          Repline Stats\n",
       "Amount            $79.2\n",
       "WAS               3.80%\n",
       "WAPP              99.46\n",
       "WARF New           3022\n",
       "WARF Orig          2954"
      ]
     },
     "execution_count": 343,
     "metadata": {},
     "output_type": "execute_result"
    }
   ],
   "source": [
    "#Amount $79.2\n",
    "#WAS 3.80%\n",
    "#WAPP 99.5\n",
    "#WARF New 3,022\n",
    "#WARF Orig 2,954\n",
    "\n",
    "def replines(model_df):\n",
    "    replines = model_df[model_df['Issuer'].str.match('zz_LXREP')]\n",
    "    repline_stats_df = pd.DataFrame(np.nan,index=['Amount',\n",
    "        'WAS',\n",
    "        'WAPP',\n",
    "        'WARF New',\n",
    "        'WARF Orig'],columns = ['Repline Stats'])\n",
    "    pot_trades = replines['Potential Trades\\nBuys as Positives\\nSales as (Negative)']\n",
    "    repline_stats_df.loc['Amount','Repline Stats'] = pot_trades.sum()/1000000\n",
    "    repline_stats_df.loc['WAS','Repline Stats'] = (pot_trades*replines['Floating Spread']).sum()/pot_trades.sum()*100\n",
    "    repline_stats_df.loc['WAPP','Repline Stats'] = (pot_trades*replines['Ask']).sum()/pot_trades.sum()\n",
    "    repline_stats_df.loc['WARF New','Repline Stats'] = (pot_trades*replines['Adj. WARF NEW']).sum()/pot_trades.sum()\n",
    "    repline_stats_df.loc['WARF Orig','Repline Stats'] = (pot_trades*replines['WARF']).sum()/pot_trades.sum()\n",
    "    \n",
    "    repline_stats_df.loc['Amount'] = repline_stats_df.loc['Amount'].apply('${:.1f}'.format)\n",
    "    repline_stats_df.loc['WAS'] = repline_stats_df.loc['WAS'].apply('{:.2f}%'.format)\n",
    "    repline_stats_df.loc['WAPP'] = repline_stats_df.loc['WAPP'].apply('{:.2f}'.format)\n",
    "    repline_stats_df.loc['WARF New'] = repline_stats_df.loc['WARF New'].apply('{:.0f}'.format)\n",
    "    repline_stats_df.loc['WARF Orig'] = repline_stats_df.loc['WARF Orig'].apply('{:.0f}'.format)\n",
    "    \n",
    "    return repline_stats_df\n",
    "\n",
    "#repline_stats_df =\n",
    "replines(model_port)"
   ]
  },
  {
   "cell_type": "code",
   "execution_count": 340,
   "id": "prospective-remainder",
   "metadata": {
    "ExecuteTime": {
     "end_time": "2021-04-09T18:34:12.186456Z",
     "start_time": "2021-04-09T18:34:12.173977Z"
    }
   },
   "outputs": [],
   "source": [
    "repline_stats_df.loc['Amount'] = repline_stats_df.loc['Amount'].apply('{:.0f}'.format)"
   ]
  },
  {
   "cell_type": "code",
   "execution_count": null,
   "id": "partial-weekly",
   "metadata": {},
   "outputs": [],
   "source": []
  }
 ],
 "metadata": {
  "kernelspec": {
   "display_name": "Python 3",
   "language": "python",
   "name": "python3"
  },
  "language_info": {
   "codemirror_mode": {
    "name": "ipython",
    "version": 3
   },
   "file_extension": ".py",
   "mimetype": "text/x-python",
   "name": "python",
   "nbconvert_exporter": "python",
   "pygments_lexer": "ipython3",
   "version": "3.8.5"
  },
  "latex_envs": {
   "LaTeX_envs_menu_present": true,
   "autoclose": false,
   "autocomplete": true,
   "bibliofile": "biblio.bib",
   "cite_by": "apalike",
   "current_citInitial": 1,
   "eqLabelWithNumbers": true,
   "eqNumInitial": 1,
   "hotkeys": {
    "equation": "Ctrl-E",
    "itemize": "Ctrl-I"
   },
   "labels_anchors": false,
   "latex_user_defs": false,
   "report_style_numbering": false,
   "user_envs_cfg": false
  },
  "toc": {
   "base_numbering": 1,
   "nav_menu": {},
   "number_sections": true,
   "sideBar": true,
   "skip_h1_title": false,
   "title_cell": "Table of Contents",
   "title_sidebar": "Contents",
   "toc_cell": false,
   "toc_position": {
    "height": "calc(100% - 180px)",
    "left": "10px",
    "top": "150px",
    "width": "261.067px"
   },
   "toc_section_display": true,
   "toc_window_display": true
  },
  "varInspector": {
   "cols": {
    "lenName": 16,
    "lenType": 16,
    "lenVar": 40
   },
   "kernels_config": {
    "python": {
     "delete_cmd_postfix": "",
     "delete_cmd_prefix": "del ",
     "library": "var_list.py",
     "varRefreshCmd": "print(var_dic_list())"
    },
    "r": {
     "delete_cmd_postfix": ") ",
     "delete_cmd_prefix": "rm(",
     "library": "var_list.r",
     "varRefreshCmd": "cat(var_dic_list()) "
    }
   },
   "oldHeight": 122.66257399999999,
   "position": {
    "height": "395.651px",
    "left": "1613.12px",
    "right": "20px",
    "top": "113.997px",
    "width": "349.976px"
   },
   "types_to_exclude": [
    "module",
    "function",
    "builtin_function_or_method",
    "instance",
    "_Feature"
   ],
   "varInspector_section_display": "block",
   "window_display": true
  }
 },
 "nbformat": 4,
 "nbformat_minor": 5
}
