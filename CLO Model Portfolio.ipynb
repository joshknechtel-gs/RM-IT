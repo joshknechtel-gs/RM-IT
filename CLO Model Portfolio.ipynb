{
 "cells": [
  {
   "cell_type": "code",
   "execution_count": 1,
   "id": "molecular-prize",
   "metadata": {
    "ExecuteTime": {
     "end_time": "2021-04-07T13:19:30.813979Z",
     "start_time": "2021-04-07T13:19:28.530030Z"
    }
   },
   "outputs": [],
   "source": [
    "import numpy as np  # probably don't need to load\n",
    "import pandas as pd\n",
    "import datetime as dt\n",
    "#import pandas_datareader.data as web  # probably don't need to load\n",
    "#import quandl\n",
    "import blpapi\n",
    "from xbbg import blp\n",
    "\n",
    "import matplotlib.pyplot as plt\n",
    "#import seaborn as sns"
   ]
  },
  {
   "cell_type": "code",
   "execution_count": 2,
   "id": "pressing-weather",
   "metadata": {
    "ExecuteTime": {
     "end_time": "2021-04-07T13:19:30.845047Z",
     "start_time": "2021-04-07T13:19:30.832154Z"
    }
   },
   "outputs": [],
   "source": [
    "from IPython.core.interactiveshell import InteractiveShell\n",
    "InteractiveShell.ast_node_interactivity = 'all'"
   ]
  },
  {
   "cell_type": "markdown",
   "id": "hourly-payroll",
   "metadata": {},
   "source": [
    "# Start with reading Jeff's Master sheet\n",
    "- this comes from BMS (onex.blkmtn.com/?db=238)  columns B:BD\n",
    "- columns BA to BD of that tab to calculate the WARF using the new logic that Moody’s released (see new WARF section)\n",
    "- The CLO 21 Port as of 3.18 tab contains the actual portfolio of CLO 21 as of 3/18 which also feeds into the Model Portfolio tab (column H and K)."
   ]
  },
  {
   "cell_type": "code",
   "execution_count": 3,
   "id": "altered-corruption",
   "metadata": {
    "ExecuteTime": {
     "end_time": "2021-04-07T13:19:32.883834Z",
     "start_time": "2021-04-07T13:19:30.861987Z"
    }
   },
   "outputs": [],
   "source": [
    "filepath = 'Z:/Shared/Risk Management and Investment Technology/Files for sharing/'\n",
    "file = 'CLO21 model portfolio as of 03.18.21 - With New WARF Logic.xlsm'\n",
    "\n",
    "# derived data in MASTER are as follows:\n",
    "# column A 'combined' is just concat('Issuer','-','Asset')\n",
    "# all the above is trivial to add later when spreadsheet read gets replaced\n",
    "# by reading directly from BMS\n",
    "\n",
    "master_df = pd.read_excel(filepath + file,sheet_name='MASTER',header=1)\n",
    "master_df = master_df.loc[:,~master_df.columns.str.match(\"Unnamed\")]"
   ]
  },
  {
   "cell_type": "code",
   "execution_count": 4,
   "id": "married-browse",
   "metadata": {
    "ExecuteTime": {
     "end_time": "2021-04-07T13:19:32.976008Z",
     "start_time": "2021-04-07T13:19:32.931563Z"
    }
   },
   "outputs": [
    {
     "data": {
      "text/html": [
       "<div>\n",
       "<style scoped>\n",
       "    .dataframe tbody tr th:only-of-type {\n",
       "        vertical-align: middle;\n",
       "    }\n",
       "\n",
       "    .dataframe tbody tr th {\n",
       "        vertical-align: top;\n",
       "    }\n",
       "\n",
       "    .dataframe thead th {\n",
       "        text-align: right;\n",
       "    }\n",
       "</style>\n",
       "<table border=\"1\" class=\"dataframe\">\n",
       "  <thead>\n",
       "    <tr style=\"text-align: right;\">\n",
       "      <th></th>\n",
       "      <th>Combined</th>\n",
       "      <th>LoanX ID</th>\n",
       "      <th>Parent Company</th>\n",
       "      <th>Issuer</th>\n",
       "      <th>Asset</th>\n",
       "      <th>Analyst</th>\n",
       "      <th>Floating Spread</th>\n",
       "      <th>Floating Spread Floor</th>\n",
       "      <th>All In Rate</th>\n",
       "      <th>Maturity Date</th>\n",
       "      <th>...</th>\n",
       "      <th>Issuer Country</th>\n",
       "      <th>Cov Lite</th>\n",
       "      <th>Default</th>\n",
       "      <th>Libor Contract</th>\n",
       "      <th>Loan Only</th>\n",
       "      <th>Comments</th>\n",
       "      <th>Moody's ADJ. CFR Score</th>\n",
       "      <th>Adjusted CFR Score</th>\n",
       "      <th>Adjusted CFR for WARF</th>\n",
       "      <th>Adj. WARF NEW</th>\n",
       "    </tr>\n",
       "  </thead>\n",
       "  <tbody>\n",
       "    <tr>\n",
       "      <th>0</th>\n",
       "      <td>CNT Holdings I Corp - Initial Term Loan (Secon...</td>\n",
       "      <td>LX190245</td>\n",
       "      <td>1-800 Contacts</td>\n",
       "      <td>CNT Holdings I Corp</td>\n",
       "      <td>Initial Term Loan (Second Lien)</td>\n",
       "      <td>Adey Delbridge</td>\n",
       "      <td>0.0675</td>\n",
       "      <td>0.0075</td>\n",
       "      <td>0.075000</td>\n",
       "      <td>2028-11-06</td>\n",
       "      <td>...</td>\n",
       "      <td>US</td>\n",
       "      <td>No</td>\n",
       "      <td>N</td>\n",
       "      <td>NaN</td>\n",
       "      <td>NaN</td>\n",
       "      <td>NaN</td>\n",
       "      <td>16</td>\n",
       "      <td>16</td>\n",
       "      <td>B3</td>\n",
       "      <td>3490</td>\n",
       "    </tr>\n",
       "    <tr>\n",
       "      <th>1</th>\n",
       "      <td>CNT Holdings I Corp - Initial Term Loan (First...</td>\n",
       "      <td>LX190219</td>\n",
       "      <td>1-800 Contacts</td>\n",
       "      <td>CNT Holdings I Corp</td>\n",
       "      <td>Initial Term Loan (First Lien)</td>\n",
       "      <td>Adey Delbridge</td>\n",
       "      <td>0.0375</td>\n",
       "      <td>0.0075</td>\n",
       "      <td>0.045000</td>\n",
       "      <td>2027-11-08</td>\n",
       "      <td>...</td>\n",
       "      <td>US</td>\n",
       "      <td>No</td>\n",
       "      <td>N</td>\n",
       "      <td>NaN</td>\n",
       "      <td>NaN</td>\n",
       "      <td>NaN</td>\n",
       "      <td>16</td>\n",
       "      <td>16</td>\n",
       "      <td>B3</td>\n",
       "      <td>3490</td>\n",
       "    </tr>\n",
       "    <tr>\n",
       "      <th>2</th>\n",
       "      <td>1011778 B.C. Unlimited Liability Company (New ...</td>\n",
       "      <td>LX182732</td>\n",
       "      <td>1011778 B.C. Unlimited Liability Company (New ...</td>\n",
       "      <td>1011778 B.C. Unlimited Liability Company (New ...</td>\n",
       "      <td>Term A Loan</td>\n",
       "      <td>Rekha Nayar</td>\n",
       "      <td>0.0125</td>\n",
       "      <td>NaN</td>\n",
       "      <td>0.014913</td>\n",
       "      <td>2024-09-06</td>\n",
       "      <td>...</td>\n",
       "      <td>CA</td>\n",
       "      <td>No</td>\n",
       "      <td>N</td>\n",
       "      <td>NaN</td>\n",
       "      <td>NaN</td>\n",
       "      <td>NaN</td>\n",
       "      <td>13</td>\n",
       "      <td>13</td>\n",
       "      <td>Ba3</td>\n",
       "      <td>1766</td>\n",
       "    </tr>\n",
       "    <tr>\n",
       "      <th>3</th>\n",
       "      <td>1011778 B.C. Unlimited Liability Company (New ...</td>\n",
       "      <td>USC6900PAL34</td>\n",
       "      <td>1011778 B.C. Unlimited Liability Company (New ...</td>\n",
       "      <td>1011778 B.C. Unlimited Liability Company (New ...</td>\n",
       "      <td>3.500% - 02/2029 - USC6900PAL34 REGS</td>\n",
       "      <td>Rekha Nayar</td>\n",
       "      <td>NaN</td>\n",
       "      <td>NaN</td>\n",
       "      <td>0.035000</td>\n",
       "      <td>2029-02-15</td>\n",
       "      <td>...</td>\n",
       "      <td>CA</td>\n",
       "      <td>No</td>\n",
       "      <td>N</td>\n",
       "      <td>NaN</td>\n",
       "      <td>NaN</td>\n",
       "      <td>NaN</td>\n",
       "      <td>13</td>\n",
       "      <td>13</td>\n",
       "      <td>Ba3</td>\n",
       "      <td>1766</td>\n",
       "    </tr>\n",
       "    <tr>\n",
       "      <th>4</th>\n",
       "      <td>1011778 B.C. Unlimited Liability Company (New ...</td>\n",
       "      <td>LX183929</td>\n",
       "      <td>1011778 B.C. Unlimited Liability Company (New ...</td>\n",
       "      <td>1011778 B.C. Unlimited Liability Company (New ...</td>\n",
       "      <td>Term B-4 Loan</td>\n",
       "      <td>Rekha Nayar</td>\n",
       "      <td>0.0175</td>\n",
       "      <td>0.0000</td>\n",
       "      <td>0.019913</td>\n",
       "      <td>2026-11-19</td>\n",
       "      <td>...</td>\n",
       "      <td>CA</td>\n",
       "      <td>No</td>\n",
       "      <td>N</td>\n",
       "      <td>NaN</td>\n",
       "      <td>NaN</td>\n",
       "      <td>NaN</td>\n",
       "      <td>13</td>\n",
       "      <td>13</td>\n",
       "      <td>Ba3</td>\n",
       "      <td>1766</td>\n",
       "    </tr>\n",
       "    <tr>\n",
       "      <th>...</th>\n",
       "      <td>...</td>\n",
       "      <td>...</td>\n",
       "      <td>...</td>\n",
       "      <td>...</td>\n",
       "      <td>...</td>\n",
       "      <td>...</td>\n",
       "      <td>...</td>\n",
       "      <td>...</td>\n",
       "      <td>...</td>\n",
       "      <td>...</td>\n",
       "      <td>...</td>\n",
       "      <td>...</td>\n",
       "      <td>...</td>\n",
       "      <td>...</td>\n",
       "      <td>...</td>\n",
       "      <td>...</td>\n",
       "      <td>...</td>\n",
       "      <td>...</td>\n",
       "      <td>...</td>\n",
       "      <td>...</td>\n",
       "      <td>...</td>\n",
       "    </tr>\n",
       "    <tr>\n",
       "      <th>491</th>\n",
       "      <td>zz_LXREP22 - Rep Line - 22</td>\n",
       "      <td>LXREP22</td>\n",
       "      <td>LXREP22</td>\n",
       "      <td>zz_LXREP22</td>\n",
       "      <td>Rep Line - 22</td>\n",
       "      <td>NaN</td>\n",
       "      <td>0.0425</td>\n",
       "      <td>0.0075</td>\n",
       "      <td>NaN</td>\n",
       "      <td>2029-03-08</td>\n",
       "      <td>...</td>\n",
       "      <td>US</td>\n",
       "      <td>No</td>\n",
       "      <td>N</td>\n",
       "      <td>NaN</td>\n",
       "      <td>NaN</td>\n",
       "      <td>NaN</td>\n",
       "      <td>16</td>\n",
       "      <td>16</td>\n",
       "      <td>B3</td>\n",
       "      <td>3490</td>\n",
       "    </tr>\n",
       "    <tr>\n",
       "      <th>492</th>\n",
       "      <td>zz_LXREP23 - Rep Line - 23</td>\n",
       "      <td>LXREP23</td>\n",
       "      <td>LXREP23</td>\n",
       "      <td>zz_LXREP23</td>\n",
       "      <td>Rep Line - 23</td>\n",
       "      <td>NaN</td>\n",
       "      <td>0.0450</td>\n",
       "      <td>0.0000</td>\n",
       "      <td>NaN</td>\n",
       "      <td>2029-03-09</td>\n",
       "      <td>...</td>\n",
       "      <td>US</td>\n",
       "      <td>No</td>\n",
       "      <td>N</td>\n",
       "      <td>NaN</td>\n",
       "      <td>NaN</td>\n",
       "      <td>NaN</td>\n",
       "      <td>16</td>\n",
       "      <td>16</td>\n",
       "      <td>B3</td>\n",
       "      <td>3490</td>\n",
       "    </tr>\n",
       "    <tr>\n",
       "      <th>493</th>\n",
       "      <td>zz_LXREP24 - Rep Line - 24</td>\n",
       "      <td>LXREP24</td>\n",
       "      <td>LXREP24</td>\n",
       "      <td>zz_LXREP24</td>\n",
       "      <td>Rep Line - 24</td>\n",
       "      <td>NaN</td>\n",
       "      <td>0.0450</td>\n",
       "      <td>0.0075</td>\n",
       "      <td>NaN</td>\n",
       "      <td>2029-03-10</td>\n",
       "      <td>...</td>\n",
       "      <td>US</td>\n",
       "      <td>No</td>\n",
       "      <td>N</td>\n",
       "      <td>NaN</td>\n",
       "      <td>NaN</td>\n",
       "      <td>NaN</td>\n",
       "      <td>16</td>\n",
       "      <td>16</td>\n",
       "      <td>B3</td>\n",
       "      <td>3490</td>\n",
       "    </tr>\n",
       "    <tr>\n",
       "      <th>494</th>\n",
       "      <td>zz_LXREP25 - Rep Line - 25</td>\n",
       "      <td>LXREP25</td>\n",
       "      <td>LXREP25</td>\n",
       "      <td>zz_LXREP25</td>\n",
       "      <td>Rep Line - 25</td>\n",
       "      <td>NaN</td>\n",
       "      <td>0.0475</td>\n",
       "      <td>0.0075</td>\n",
       "      <td>NaN</td>\n",
       "      <td>2029-03-11</td>\n",
       "      <td>...</td>\n",
       "      <td>US</td>\n",
       "      <td>No</td>\n",
       "      <td>N</td>\n",
       "      <td>NaN</td>\n",
       "      <td>NaN</td>\n",
       "      <td>NaN</td>\n",
       "      <td>16</td>\n",
       "      <td>16</td>\n",
       "      <td>B3</td>\n",
       "      <td>3490</td>\n",
       "    </tr>\n",
       "    <tr>\n",
       "      <th>495</th>\n",
       "      <td>zz_LXREP26 - Rep Line - 26</td>\n",
       "      <td>LXREP26</td>\n",
       "      <td>LXREP26</td>\n",
       "      <td>zz_LXREP26</td>\n",
       "      <td>Rep Line - 26</td>\n",
       "      <td>NaN</td>\n",
       "      <td>0.0725</td>\n",
       "      <td>0.0075</td>\n",
       "      <td>NaN</td>\n",
       "      <td>2029-03-12</td>\n",
       "      <td>...</td>\n",
       "      <td>US</td>\n",
       "      <td>No</td>\n",
       "      <td>N</td>\n",
       "      <td>NaN</td>\n",
       "      <td>NaN</td>\n",
       "      <td>NaN</td>\n",
       "      <td>16</td>\n",
       "      <td>16</td>\n",
       "      <td>B3</td>\n",
       "      <td>3490</td>\n",
       "    </tr>\n",
       "  </tbody>\n",
       "</table>\n",
       "<p>496 rows × 56 columns</p>\n",
       "</div>"
      ],
      "text/plain": [
       "                                              Combined      LoanX ID  \\\n",
       "0    CNT Holdings I Corp - Initial Term Loan (Secon...      LX190245   \n",
       "1    CNT Holdings I Corp - Initial Term Loan (First...      LX190219   \n",
       "2    1011778 B.C. Unlimited Liability Company (New ...      LX182732   \n",
       "3    1011778 B.C. Unlimited Liability Company (New ...  USC6900PAL34   \n",
       "4    1011778 B.C. Unlimited Liability Company (New ...      LX183929   \n",
       "..                                                 ...           ...   \n",
       "491                         zz_LXREP22 - Rep Line - 22       LXREP22   \n",
       "492                         zz_LXREP23 - Rep Line - 23       LXREP23   \n",
       "493                         zz_LXREP24 - Rep Line - 24       LXREP24   \n",
       "494                         zz_LXREP25 - Rep Line - 25       LXREP25   \n",
       "495                         zz_LXREP26 - Rep Line - 26       LXREP26   \n",
       "\n",
       "                                        Parent Company  \\\n",
       "0                                       1-800 Contacts   \n",
       "1                                       1-800 Contacts   \n",
       "2    1011778 B.C. Unlimited Liability Company (New ...   \n",
       "3    1011778 B.C. Unlimited Liability Company (New ...   \n",
       "4    1011778 B.C. Unlimited Liability Company (New ...   \n",
       "..                                                 ...   \n",
       "491                                            LXREP22   \n",
       "492                                            LXREP23   \n",
       "493                                            LXREP24   \n",
       "494                                            LXREP25   \n",
       "495                                            LXREP26   \n",
       "\n",
       "                                                Issuer  \\\n",
       "0                                  CNT Holdings I Corp   \n",
       "1                                  CNT Holdings I Corp   \n",
       "2    1011778 B.C. Unlimited Liability Company (New ...   \n",
       "3    1011778 B.C. Unlimited Liability Company (New ...   \n",
       "4    1011778 B.C. Unlimited Liability Company (New ...   \n",
       "..                                                 ...   \n",
       "491                                         zz_LXREP22   \n",
       "492                                         zz_LXREP23   \n",
       "493                                         zz_LXREP24   \n",
       "494                                         zz_LXREP25   \n",
       "495                                         zz_LXREP26   \n",
       "\n",
       "                                    Asset         Analyst  Floating Spread  \\\n",
       "0         Initial Term Loan (Second Lien)  Adey Delbridge           0.0675   \n",
       "1          Initial Term Loan (First Lien)  Adey Delbridge           0.0375   \n",
       "2                             Term A Loan     Rekha Nayar           0.0125   \n",
       "3    3.500% - 02/2029 - USC6900PAL34 REGS     Rekha Nayar              NaN   \n",
       "4                           Term B-4 Loan     Rekha Nayar           0.0175   \n",
       "..                                    ...             ...              ...   \n",
       "491                         Rep Line - 22             NaN           0.0425   \n",
       "492                         Rep Line - 23             NaN           0.0450   \n",
       "493                         Rep Line - 24             NaN           0.0450   \n",
       "494                         Rep Line - 25             NaN           0.0475   \n",
       "495                         Rep Line - 26             NaN           0.0725   \n",
       "\n",
       "     Floating Spread Floor  All In Rate Maturity Date  ...  Issuer Country  \\\n",
       "0                   0.0075     0.075000    2028-11-06  ...              US   \n",
       "1                   0.0075     0.045000    2027-11-08  ...              US   \n",
       "2                      NaN     0.014913    2024-09-06  ...              CA   \n",
       "3                      NaN     0.035000    2029-02-15  ...              CA   \n",
       "4                   0.0000     0.019913    2026-11-19  ...              CA   \n",
       "..                     ...          ...           ...  ...             ...   \n",
       "491                 0.0075          NaN    2029-03-08  ...              US   \n",
       "492                 0.0000          NaN    2029-03-09  ...              US   \n",
       "493                 0.0075          NaN    2029-03-10  ...              US   \n",
       "494                 0.0075          NaN    2029-03-11  ...              US   \n",
       "495                 0.0075          NaN    2029-03-12  ...              US   \n",
       "\n",
       "    Cov Lite  Default Libor Contract Loan Only Comments  \\\n",
       "0         No        N            NaN       NaN      NaN   \n",
       "1         No        N            NaN       NaN      NaN   \n",
       "2         No        N            NaN       NaN      NaN   \n",
       "3         No        N            NaN       NaN      NaN   \n",
       "4         No        N            NaN       NaN      NaN   \n",
       "..       ...      ...            ...       ...      ...   \n",
       "491       No        N            NaN       NaN      NaN   \n",
       "492       No        N            NaN       NaN      NaN   \n",
       "493       No        N            NaN       NaN      NaN   \n",
       "494       No        N            NaN       NaN      NaN   \n",
       "495       No        N            NaN       NaN      NaN   \n",
       "\n",
       "    Moody's ADJ. CFR Score  Adjusted CFR Score Adjusted CFR for WARF  \\\n",
       "0                       16                  16                    B3   \n",
       "1                       16                  16                    B3   \n",
       "2                       13                  13                   Ba3   \n",
       "3                       13                  13                   Ba3   \n",
       "4                       13                  13                   Ba3   \n",
       "..                     ...                 ...                   ...   \n",
       "491                     16                  16                    B3   \n",
       "492                     16                  16                    B3   \n",
       "493                     16                  16                    B3   \n",
       "494                     16                  16                    B3   \n",
       "495                     16                  16                    B3   \n",
       "\n",
       "    Adj. WARF NEW  \n",
       "0            3490  \n",
       "1            3490  \n",
       "2            1766  \n",
       "3            1766  \n",
       "4            1766  \n",
       "..            ...  \n",
       "491          3490  \n",
       "492          3490  \n",
       "493          3490  \n",
       "494          3490  \n",
       "495          3490  \n",
       "\n",
       "[496 rows x 56 columns]"
      ]
     },
     "execution_count": 4,
     "metadata": {},
     "output_type": "execute_result"
    }
   ],
   "source": [
    "# looks like LoanX ID makes the most sense as the index\n",
    "master_df"
   ]
  },
  {
   "cell_type": "markdown",
   "id": "phantom-custom",
   "metadata": {},
   "source": [
    "# Read CLO 21 Port as of 3.18"
   ]
  },
  {
   "cell_type": "code",
   "execution_count": 5,
   "id": "pleasant-cement",
   "metadata": {
    "ExecuteTime": {
     "end_time": "2021-04-07T13:19:33.381091Z",
     "start_time": "2021-04-07T13:19:32.992928Z"
    }
   },
   "outputs": [
    {
     "data": {
      "text/html": [
       "<div>\n",
       "<style scoped>\n",
       "    .dataframe tbody tr th:only-of-type {\n",
       "        vertical-align: middle;\n",
       "    }\n",
       "\n",
       "    .dataframe tbody tr th {\n",
       "        vertical-align: top;\n",
       "    }\n",
       "\n",
       "    .dataframe thead th {\n",
       "        text-align: right;\n",
       "    }\n",
       "</style>\n",
       "<table border=\"1\" class=\"dataframe\">\n",
       "  <thead>\n",
       "    <tr style=\"text-align: right;\">\n",
       "      <th></th>\n",
       "      <th>Cusip or LIN</th>\n",
       "      <th>Quantity</th>\n",
       "      <th>/Unit</th>\n",
       "    </tr>\n",
       "  </thead>\n",
       "  <tbody>\n",
       "    <tr>\n",
       "      <th>111</th>\n",
       "      <td>LX127674</td>\n",
       "      <td>886324.28</td>\n",
       "      <td>1.0035</td>\n",
       "    </tr>\n",
       "    <tr>\n",
       "      <th>30</th>\n",
       "      <td>LX152766</td>\n",
       "      <td>2500000.00</td>\n",
       "      <td>0.9900</td>\n",
       "    </tr>\n",
       "    <tr>\n",
       "      <th>92</th>\n",
       "      <td>LX155959</td>\n",
       "      <td>1771101.45</td>\n",
       "      <td>1.0008</td>\n",
       "    </tr>\n",
       "    <tr>\n",
       "      <th>55</th>\n",
       "      <td>LX159621</td>\n",
       "      <td>3000000.00</td>\n",
       "      <td>1.0012</td>\n",
       "    </tr>\n",
       "    <tr>\n",
       "      <th>6</th>\n",
       "      <td>LX162006</td>\n",
       "      <td>2000000.00</td>\n",
       "      <td>0.9950</td>\n",
       "    </tr>\n",
       "    <tr>\n",
       "      <th>...</th>\n",
       "      <td>...</td>\n",
       "      <td>...</td>\n",
       "      <td>...</td>\n",
       "    </tr>\n",
       "    <tr>\n",
       "      <th>0</th>\n",
       "      <td>LX193380</td>\n",
       "      <td>2000000.00</td>\n",
       "      <td>0.9900</td>\n",
       "    </tr>\n",
       "    <tr>\n",
       "      <th>120</th>\n",
       "      <td>LX193398</td>\n",
       "      <td>1500000.00</td>\n",
       "      <td>0.9950</td>\n",
       "    </tr>\n",
       "    <tr>\n",
       "      <th>24</th>\n",
       "      <td>LX193419</td>\n",
       "      <td>1500000.00</td>\n",
       "      <td>0.9900</td>\n",
       "    </tr>\n",
       "    <tr>\n",
       "      <th>51</th>\n",
       "      <td>LX193422</td>\n",
       "      <td>1000000.00</td>\n",
       "      <td>1.0000</td>\n",
       "    </tr>\n",
       "    <tr>\n",
       "      <th>113</th>\n",
       "      <td>LX193440</td>\n",
       "      <td>1000000.00</td>\n",
       "      <td>0.9950</td>\n",
       "    </tr>\n",
       "  </tbody>\n",
       "</table>\n",
       "<p>127 rows × 3 columns</p>\n",
       "</div>"
      ],
      "text/plain": [
       "    Cusip or LIN    Quantity   /Unit\n",
       "111     LX127674   886324.28  1.0035\n",
       "30      LX152766  2500000.00  0.9900\n",
       "92      LX155959  1771101.45  1.0008\n",
       "55      LX159621  3000000.00  1.0012\n",
       "6       LX162006  2000000.00  0.9950\n",
       "..           ...         ...     ...\n",
       "0       LX193380  2000000.00  0.9900\n",
       "120     LX193398  1500000.00  0.9950\n",
       "24      LX193419  1500000.00  0.9900\n",
       "51      LX193422  1000000.00  1.0000\n",
       "113     LX193440  1000000.00  0.9950\n",
       "\n",
       "[127 rows x 3 columns]"
      ]
     },
     "execution_count": 5,
     "metadata": {},
     "output_type": "execute_result"
    }
   ],
   "source": [
    "CLO_df = pd.read_excel(filepath + file,sheet_name='CLO 21 Port as of 3.18',header=6,usecols='A:K')\n",
    "CLO_df.dropna(inplace=True)\n",
    "\n",
    "# his pivot table columns M:0\n",
    "CLO_df[['Cusip or LIN','Quantity','/Unit']].sort_values(by='Cusip or LIN')"
   ]
  },
  {
   "cell_type": "code",
   "execution_count": 6,
   "id": "incorporated-leadership",
   "metadata": {
    "ExecuteTime": {
     "end_time": "2021-04-07T13:19:35.099782Z",
     "start_time": "2021-04-07T13:19:35.082829Z"
    }
   },
   "outputs": [
    {
     "data": {
      "text/plain": [
       "Quantity    2.263333e+08\n",
       "dtype: float64"
      ]
     },
     "execution_count": 6,
     "metadata": {},
     "output_type": "execute_result"
    },
    {
     "data": {
      "text/plain": [
       "/Unit    0.997052\n",
       "dtype: float64"
      ]
     },
     "execution_count": 6,
     "metadata": {},
     "output_type": "execute_result"
    }
   ],
   "source": [
    "CLO_df[['Quantity']].sum()  # verified sum of Quantity\n",
    "CLO_df[['/Unit']].mean()    # verified for average /Unit"
   ]
  },
  {
   "cell_type": "markdown",
   "id": "fancy-heaven",
   "metadata": {},
   "source": [
    "# Read Bid.Ask 3.18"
   ]
  },
  {
   "cell_type": "code",
   "execution_count": 7,
   "id": "sporting-fluid",
   "metadata": {
    "ExecuteTime": {
     "end_time": "2021-04-07T13:19:38.857810Z",
     "start_time": "2021-04-07T13:19:37.056144Z"
    }
   },
   "outputs": [],
   "source": [
    "# need to use str.match so it isn't date dependent\n",
    "bidask_df = pd.read_excel(filepath + file,sheet_name='Bid.Ask 3.18',header=0)\n",
    "bidask_df = bidask_df.loc[:,~bidask_df.columns.str.match(\"Unnamed\")]"
   ]
  },
  {
   "cell_type": "markdown",
   "id": "pacific-action",
   "metadata": {},
   "source": [
    "# new WARF\n",
    "- column BA looks up the 'CFR' score e.g. B3 and maps it to a number\n",
    "- column BB adjusts +/- 1 if outlook is possible up/downgrade\n",
    "- column BC converts back into an alpanumeric e.g. B3\n",
    "- column BD maps the alphanumeric into the new WARF score (1-1000)"
   ]
  },
  {
   "cell_type": "code",
   "execution_count": 8,
   "id": "psychological-determination",
   "metadata": {
    "ExecuteTime": {
     "end_time": "2021-04-07T13:19:42.604462Z",
     "start_time": "2021-04-07T13:19:41.866946Z"
    }
   },
   "outputs": [],
   "source": [
    "moodys_score = pd.read_excel(filepath + file,sheet_name='New WARF',header=0,usecols='E:F')\n",
    "moodys_rfTable = pd.read_excel(filepath + file,sheet_name='New WARF',header=0,usecols='J:K')"
   ]
  },
  {
   "cell_type": "code",
   "execution_count": 87,
   "id": "european-public",
   "metadata": {
    "ExecuteTime": {
     "end_time": "2021-04-07T19:01:16.379798Z",
     "start_time": "2021-04-07T19:01:16.362872Z"
    }
   },
   "outputs": [],
   "source": [
    "# this works; spot checked\n",
    "def moodys_adjusted_warf(df,moodys_score,moodys_rfTable):\n",
    "    \"\"\"\n",
    "    This function creates the new Moody's Ratings Factor based \n",
    "    on the old Moody's rating.\n",
    "    \n",
    "    Arg in:\n",
    "        df: the input data frame (from the MASTER table d/l'd from BMS)\n",
    "        moodys_score: dataframe with alphanumeric rating to numeric map (1 to 1 map; linear)\n",
    "        moodys_rfTable: dataframe with alphanumeric rating to new WARF numeric (1 to 1 map; 1 to 1000 values)\n",
    "    \"\"\"\n",
    "    score = df['Moody\\'s CFR'].map(dict(moodys_score[['Moodys','Score']].values))\n",
    "    updown = df['Moody\\'s Issuer Watch'].\\\n",
    "        apply(lambda x: -1 if x == 'Possible Upgrade' else 1 if x == 'Possible Downgrade' else 0)\n",
    "    aScore = score + updown\n",
    "    Adjusted_CFR_for_WARF = aScore.map(dict(moodys_score[['Score','Moodys']].values))\n",
    "    # I keep the same column name as Jeff to make it easier to double check values\n",
    "    df['Adj. WARF NEW'] = Adjusted_CFR_for_WARF.map(dict(moodys_rfTable[['Moody\\'s Rating Factor Table','Unnamed: 10']].values))\n",
    "    return df"
   ]
  },
  {
   "cell_type": "code",
   "execution_count": 88,
   "id": "spanish-graph",
   "metadata": {
    "ExecuteTime": {
     "end_time": "2021-04-07T19:01:17.287659Z",
     "start_time": "2021-04-07T19:01:17.273696Z"
    },
    "scrolled": true
   },
   "outputs": [
    {
     "data": {
      "text/plain": [
       "1425500.0"
      ]
     },
     "execution_count": 88,
     "metadata": {},
     "output_type": "execute_result"
    }
   ],
   "source": [
    "master_df = moodys_adjusted_warf(master_df,moodys_score,moodys_rfTable)\n",
    "master_df['Adj. WARF NEW'].sum()"
   ]
  },
  {
   "cell_type": "code",
   "execution_count": 113,
   "id": "greater-latin",
   "metadata": {
    "ExecuteTime": {
     "end_time": "2021-04-08T14:24:10.421858Z",
     "start_time": "2021-04-08T14:24:10.399886Z"
    }
   },
   "outputs": [],
   "source": [
    "model_port = master_df.merge(CLO_df,left_on=\"LoanX ID\",right_on=\"Cusip or LIN\",how='outer') \n"
   ]
  },
  {
   "cell_type": "code",
   "execution_count": 115,
   "id": "convinced-freedom",
   "metadata": {
    "ExecuteTime": {
     "end_time": "2021-04-08T14:25:39.944021Z",
     "start_time": "2021-04-08T14:25:39.920049Z"
    }
   },
   "outputs": [
    {
     "name": "stdout",
     "output_type": "stream",
     "text": [
      "<class 'pandas.core.frame.DataFrame'>\n",
      "Int64Index: 496 entries, 0 to 495\n",
      "Data columns (total 79 columns):\n",
      " #   Column                             Non-Null Count  Dtype         \n",
      "---  ------                             --------------  -----         \n",
      " 0   Combined                           496 non-null    object        \n",
      " 1   LoanX ID                           496 non-null    object        \n",
      " 2   Parent Company                     496 non-null    object        \n",
      " 3   Issuer                             496 non-null    object        \n",
      " 4   Asset                              496 non-null    object        \n",
      " 5   Analyst                            462 non-null    object        \n",
      " 6   Floating Spread                    488 non-null    float64       \n",
      " 7   Floating Spread Floor              473 non-null    float64       \n",
      " 8   All In Rate                        470 non-null    float64       \n",
      " 9   Maturity Date                      494 non-null    datetime64[ns]\n",
      " 10  Mark Price                         463 non-null    float64       \n",
      " 11  Adjusted Moodys Rating             496 non-null    object        \n",
      " 12  WARF                               496 non-null    int64         \n",
      " 13  Moody's CFR                        496 non-null    object        \n",
      " 14  Moody's Facility Rating            492 non-null    object        \n",
      " 15  Moody's Issuer Outlook             487 non-null    object        \n",
      " 16  Moody's Issuer Watch               166 non-null    object        \n",
      " 17  Moodys Recovery Rate               496 non-null    float64       \n",
      " 18  S&P Issuer Rating                  495 non-null    object        \n",
      " 19  S&P Facility Rating                430 non-null    object        \n",
      " 20  S&P Issuer Outlook                 482 non-null    object        \n",
      " 21  S&P Issuer Watch                   227 non-null    object        \n",
      " 22  S&P Recovery                       466 non-null    object        \n",
      " 23  Agent Bank                         462 non-null    object        \n",
      " 24  OCP CLO 2013-4, Ltd.               310 non-null    float64       \n",
      " 25  OCP CLO 2014-5, Ltd.               367 non-null    float64       \n",
      " 26  OCP CLO 2014-6, Ltd.               384 non-null    float64       \n",
      " 27  OCP CLO 2014-7, Ltd.               373 non-null    float64       \n",
      " 28  OCP CLO 2015-8, Ltd.               261 non-null    float64       \n",
      " 29  OCP CLO 2015-9, Ltd.               146 non-null    float64       \n",
      " 30  OCP CLO 2015-10, Ltd.              160 non-null    float64       \n",
      " 31  OCP CLO 2016-11, Ltd.              374 non-null    float64       \n",
      " 32  OCP CLO 2016-12, Ltd.              294 non-null    float64       \n",
      " 33  OCP CLO 2017-13, Ltd.              376 non-null    float64       \n",
      " 34  OCP CLO 2017-14, Ltd.              379 non-null    float64       \n",
      " 35  OCP CLO 2018-15, Ltd.              379 non-null    float64       \n",
      " 36  OCP CLO 2019-16, Ltd.              367 non-null    float64       \n",
      " 37  OCP CLO 2019-17, Ltd               352 non-null    float64       \n",
      " 38  OCP CLO 2020-18, Ltd.              298 non-null    float64       \n",
      " 39  OCP CLO 2020-19, Ltd.              293 non-null    float64       \n",
      " 40  OCP CLO 2020-20, Ltd. whse         288 non-null    float64       \n",
      " 41  OCP CLO 2020-21, Ltd. whse         137 non-null    float64       \n",
      " 42  Current Global Amount Outstanding  462 non-null    float64       \n",
      " 43  Moody's Industry                   496 non-null    object        \n",
      " 44  S&P Industry                       496 non-null    object        \n",
      " 45  Lien Type                          488 non-null    object        \n",
      " 46  Issuer Country                     496 non-null    object        \n",
      " 47  Cov Lite                           496 non-null    object        \n",
      " 48  Default                            496 non-null    object        \n",
      " 49  Libor Contract                     0 non-null      float64       \n",
      " 50  Loan Only                          0 non-null      float64       \n",
      " 51  Comments                           0 non-null      float64       \n",
      " 52  Moody's ADJ. CFR Score             496 non-null    int64         \n",
      " 53  Adjusted CFR Score                 496 non-null    int64         \n",
      " 54  Adjusted CFR for WARF              496 non-null    object        \n",
      " 55  Adj. WARF NEW                      496 non-null    float64       \n",
      " 56  Quantity                           127 non-null    float64       \n",
      " 57  Security                           127 non-null    object        \n",
      " 58  Symbol                             127 non-null    object        \n",
      " 59  Cusip or LIN                       127 non-null    object        \n",
      " 60  Date                               127 non-null    datetime64[ns]\n",
      " 61  Cost                               127 non-null    float64       \n",
      " 62  /Unit                              127 non-null    float64       \n",
      " 63  Price                              127 non-null    float64       \n",
      " 64  Value                              127 non-null    float64       \n",
      " 65  Value.1                            127 non-null    float64       \n",
      " 66  (-Loss)                            127 non-null    float64       \n",
      " 67  LXID                               455 non-null    object        \n",
      " 68  Issuer Name                        455 non-null    object        \n",
      " 69  Deal Name                          455 non-null    object        \n",
      " 70  Facility                           455 non-null    object        \n",
      " 71  Maturity                           455 non-null    datetime64[ns]\n",
      " 72  Initial Spread                     455 non-null    float64       \n",
      " 73  Close Bid                          455 non-null    float64       \n",
      " 74  Close Offer                        455 non-null    float64       \n",
      " 75  Evaluated Price                    455 non-null    float64       \n",
      " 76  Close Depth                        455 non-null    object        \n",
      " 77  As of Date                         455 non-null    datetime64[ns]\n",
      " 78  Currency                           455 non-null    object        \n",
      "dtypes: datetime64[ns](4), float64(39), int64(3), object(33)\n",
      "memory usage: 310.0+ KB\n"
     ]
    }
   ],
   "source": [
    "#model_port = \n",
    "model_port.merge(bidask_df,left_on=\"LoanX ID\",right_on=\"LXID\",how='left').info()\n",
    "#model_port"
   ]
  },
  {
   "cell_type": "markdown",
   "id": "defined-miracle",
   "metadata": {},
   "source": [
    "# S&P's Recovery Rate"
   ]
  },
  {
   "cell_type": "code",
   "execution_count": 12,
   "id": "consecutive-essex",
   "metadata": {
    "ExecuteTime": {
     "end_time": "2021-04-07T13:19:47.204348Z",
     "start_time": "2021-04-07T13:19:46.482506Z"
    }
   },
   "outputs": [],
   "source": [
    "#first_lien_rr = pd.read_excel(filepath + file, sheet_name='SP RR Updated', header=1, usecols='A:D')\n",
    "#second_lien_rr = pd.read_excel(filepath + file, sheet_name='SP RR Updated', header=1, usecols='F:I')\n",
    "new_sp_rr = pd.read_excel(filepath + file, sheet_name='SP RR Updated', header=1, usecols='L:M')\n",
    "new_sp_rr.dropna(how='all',inplace=True)\n",
    "\n",
    "lien_rr = pd.read_excel(filepath + file, sheet_name='SP RR Updated', header=1, usecols='A:I')\n",
    "lien_rr.dropna(how='all',inplace=True)\n",
    "\n",
    "bond_split = lien_rr[lien_rr['Country.1']=='Bonds'].index.values[0]\n",
    "bond_table = lien_rr.loc[bond_split+1:]\n",
    "lien_rr = lien_rr.loc[:bond_split-1]\n",
    "lien_rr.drop(columns=['Unnamed: 4','Country Abv.1','Country.1','Group.1'],inplace=True)\n",
    "lien_rr.rename(columns={'RR.1':'RR.2nd'},inplace=True)"
   ]
  },
  {
   "cell_type": "code",
   "execution_count": 13,
   "id": "outstanding-prague",
   "metadata": {
    "ExecuteTime": {
     "end_time": "2021-04-07T13:19:47.298893Z",
     "start_time": "2021-04-07T13:19:47.284924Z"
    }
   },
   "outputs": [],
   "source": [
    "def sp_recovery_rate(model_df,lien,new_rr,bond_table):\n",
    "    \"\"\"\n",
    "    This function get the S&P recovery rate as a percent. If it doesn't exist\n",
    "    in the master field, it will look up in the appropriate first and second \n",
    "    lien tables, if not, will look up the bond table.\n",
    "    \n",
    "    Arg in:\n",
    "        model_df: the input data frame (from the MASTER table d/l'd from BMS)\n",
    "        lien: a DF table with the RR's for first and second lien by country\n",
    "        new_rr: a df mapping of the old notation for RR to a new RR in percentage\n",
    "        bond_table: split out of a table for RR for bonds\n",
    "    Arg out:\n",
    "        model_df with inserted new column 'S&P Recovery Rate (AAA)'\n",
    "    \"\"\"\n",
    "     \n",
    "    # if it the Recovery rate exists lookup in AAA table\n",
    "    model_df['S&P Recovery Rate (AAA)'] = model_df['S&P Recovery'].\\\n",
    "        map(dict(new_sp_rr[['S&P Recovery Rating\\nand Recovery\\nIndicator of\\nCollateral Obligations','“AAA”']].values))\n",
    "    \n",
    "    # doesn't exist, but first lien, use first lien table\n",
    "    model_df.loc[pd.isna(model_df['S&P Recovery']) & (model_df['Lien Type']== 'First Lien'),'S&P Recovery Rate (AAA)'] =\\\n",
    "        model_df.loc[pd.isna(model_df['S&P Recovery']) & (model_df['Lien Type']== 'First Lien'),'Issuer Country'].\\\n",
    "        map(dict(lien_rr[['Country Abv','RR']].values))\n",
    "    \n",
    "    \n",
    "    # doesn't exist, but 2nd lien, use 2nd lien table\n",
    "    model_df.loc[pd.isna(model_df['S&P Recovery']) & (model_df['Lien Type']== 'Second Lien'),'S&P Recovery Rate (AAA)'] = \\\n",
    "        model_df.loc[pd.isna(model_df['S&P Recovery']) & (model_df['Lien Type']== 'Second Lien'),'Issuer Country'].\\\n",
    "        map(dict(lien_rr[['Country Abv','RR.2nd']].values))\n",
    "    \n",
    "    # the bonds\n",
    "    model_df.loc[pd.isna(model_df['S&P Recovery']) & pd.isna(model_df['Lien Type']),'S&P Recovery Rate (AAA)'] = \\\n",
    "        model_df.loc[pd.isna(model_df['S&P Recovery']) & pd.isna(model_df['Lien Type']),'Issuer Country'].\\\n",
    "        map(dict(bond_table[['Country Abv.1','RR.1']].values))\n",
    "\n",
    "    return model_df"
   ]
  },
  {
   "cell_type": "code",
   "execution_count": 92,
   "id": "graduate-appliance",
   "metadata": {
    "ExecuteTime": {
     "end_time": "2021-04-07T19:02:32.290287Z",
     "start_time": "2021-04-07T19:02:32.265391Z"
    }
   },
   "outputs": [
    {
     "name": "stdout",
     "output_type": "stream",
     "text": [
      "<class 'pandas.core.frame.DataFrame'>\n",
      "Int64Index: 496 entries, 0 to 495\n",
      "Data columns (total 68 columns):\n",
      " #   Column                             Non-Null Count  Dtype         \n",
      "---  ------                             --------------  -----         \n",
      " 0   Combined                           496 non-null    object        \n",
      " 1   LoanX ID                           496 non-null    object        \n",
      " 2   Parent Company                     496 non-null    object        \n",
      " 3   Issuer                             496 non-null    object        \n",
      " 4   Asset                              496 non-null    object        \n",
      " 5   Analyst                            462 non-null    object        \n",
      " 6   Floating Spread                    488 non-null    float64       \n",
      " 7   Floating Spread Floor              473 non-null    float64       \n",
      " 8   All In Rate                        470 non-null    float64       \n",
      " 9   Maturity Date                      494 non-null    datetime64[ns]\n",
      " 10  Mark Price                         463 non-null    float64       \n",
      " 11  Adjusted Moodys Rating             496 non-null    object        \n",
      " 12  WARF                               496 non-null    int64         \n",
      " 13  Moody's CFR                        496 non-null    object        \n",
      " 14  Moody's Facility Rating            492 non-null    object        \n",
      " 15  Moody's Issuer Outlook             487 non-null    object        \n",
      " 16  Moody's Issuer Watch               166 non-null    object        \n",
      " 17  Moodys Recovery Rate               496 non-null    float64       \n",
      " 18  S&P Issuer Rating                  495 non-null    object        \n",
      " 19  S&P Facility Rating                430 non-null    object        \n",
      " 20  S&P Issuer Outlook                 482 non-null    object        \n",
      " 21  S&P Issuer Watch                   227 non-null    object        \n",
      " 22  S&P Recovery                       466 non-null    object        \n",
      " 23  Agent Bank                         462 non-null    object        \n",
      " 24  OCP CLO 2013-4, Ltd.               310 non-null    float64       \n",
      " 25  OCP CLO 2014-5, Ltd.               367 non-null    float64       \n",
      " 26  OCP CLO 2014-6, Ltd.               384 non-null    float64       \n",
      " 27  OCP CLO 2014-7, Ltd.               373 non-null    float64       \n",
      " 28  OCP CLO 2015-8, Ltd.               261 non-null    float64       \n",
      " 29  OCP CLO 2015-9, Ltd.               146 non-null    float64       \n",
      " 30  OCP CLO 2015-10, Ltd.              160 non-null    float64       \n",
      " 31  OCP CLO 2016-11, Ltd.              374 non-null    float64       \n",
      " 32  OCP CLO 2016-12, Ltd.              294 non-null    float64       \n",
      " 33  OCP CLO 2017-13, Ltd.              376 non-null    float64       \n",
      " 34  OCP CLO 2017-14, Ltd.              379 non-null    float64       \n",
      " 35  OCP CLO 2018-15, Ltd.              379 non-null    float64       \n",
      " 36  OCP CLO 2019-16, Ltd.              367 non-null    float64       \n",
      " 37  OCP CLO 2019-17, Ltd               352 non-null    float64       \n",
      " 38  OCP CLO 2020-18, Ltd.              298 non-null    float64       \n",
      " 39  OCP CLO 2020-19, Ltd.              293 non-null    float64       \n",
      " 40  OCP CLO 2020-20, Ltd. whse         288 non-null    float64       \n",
      " 41  OCP CLO 2020-21, Ltd. whse         137 non-null    float64       \n",
      " 42  Current Global Amount Outstanding  462 non-null    float64       \n",
      " 43  Moody's Industry                   496 non-null    object        \n",
      " 44  S&P Industry                       496 non-null    object        \n",
      " 45  Lien Type                          488 non-null    object        \n",
      " 46  Issuer Country                     496 non-null    object        \n",
      " 47  Cov Lite                           496 non-null    object        \n",
      " 48  Default                            496 non-null    object        \n",
      " 49  Libor Contract                     0 non-null      float64       \n",
      " 50  Loan Only                          0 non-null      float64       \n",
      " 51  Comments                           0 non-null      float64       \n",
      " 52  Moody's ADJ. CFR Score             496 non-null    int64         \n",
      " 53  Adjusted CFR Score                 496 non-null    int64         \n",
      " 54  Adjusted CFR for WARF              496 non-null    object        \n",
      " 55  Adj. WARF NEW                      496 non-null    float64       \n",
      " 56  Quantity                           127 non-null    float64       \n",
      " 57  Security                           127 non-null    object        \n",
      " 58  Symbol                             127 non-null    object        \n",
      " 59  Cusip or LIN                       127 non-null    object        \n",
      " 60  Date                               127 non-null    datetime64[ns]\n",
      " 61  Cost                               127 non-null    float64       \n",
      " 62  /Unit                              127 non-null    float64       \n",
      " 63  Price                              127 non-null    float64       \n",
      " 64  Value                              127 non-null    float64       \n",
      " 65  Value.1                            127 non-null    float64       \n",
      " 66  (-Loss)                            127 non-null    float64       \n",
      " 67  S&P Recovery Rate (AAA)            496 non-null    float64       \n",
      "dtypes: datetime64[ns](2), float64(36), int64(3), object(27)\n",
      "memory usage: 267.4+ KB\n"
     ]
    }
   ],
   "source": [
    "model_port = sp_recovery_rate(model_port,lien_rr,new_sp_rr,bond_table)\n",
    "model_port.info()"
   ]
  },
  {
   "cell_type": "markdown",
   "id": "detailed-escape",
   "metadata": {},
   "source": [
    "# Diversity Score"
   ]
  },
  {
   "cell_type": "code",
   "execution_count": 39,
   "id": "sharp-money",
   "metadata": {
    "ExecuteTime": {
     "end_time": "2021-04-07T15:56:24.789165Z",
     "start_time": "2021-04-07T15:56:24.764193Z"
    }
   },
   "outputs": [
    {
     "data": {
      "text/plain": [
       "Par_no_default    1.782152e+06\n",
       "dtype: float64"
      ]
     },
     "execution_count": 39,
     "metadata": {},
     "output_type": "execute_result"
    },
    {
     "data": {
      "text/plain": [
       "Par_no_default    2.263333e+08\n",
       "dtype: float64"
      ]
     },
     "execution_count": 39,
     "metadata": {},
     "output_type": "execute_result"
    },
    {
     "data": {
      "text/plain": [
       "Parent Company    366\n",
       "dtype: int64"
      ]
     },
     "execution_count": 39,
     "metadata": {},
     "output_type": "execute_result"
    }
   ],
   "source": [
    "model_port['Par_no_default'] = model_port['Quantity']\n",
    "model_port.loc[model_port['Default']=='Y','Par_no_default'] = 0\n",
    "\n",
    "div_df = model_port[['Parent Company','Moody\\'s Industry','Par_no_default']].copy()\n",
    "div_df.sort_values(by='Moody\\'s Industry',inplace=True)\n"
   ]
  },
  {
   "cell_type": "code",
   "execution_count": 18,
   "id": "greater-october",
   "metadata": {
    "ExecuteTime": {
     "end_time": "2021-04-07T13:19:57.325176Z",
     "start_time": "2021-04-07T13:19:56.818962Z"
    }
   },
   "outputs": [
    {
     "data": {
      "text/html": [
       "<div>\n",
       "<style scoped>\n",
       "    .dataframe tbody tr th:only-of-type {\n",
       "        vertical-align: middle;\n",
       "    }\n",
       "\n",
       "    .dataframe tbody tr th {\n",
       "        vertical-align: top;\n",
       "    }\n",
       "\n",
       "    .dataframe thead th {\n",
       "        text-align: right;\n",
       "    }\n",
       "</style>\n",
       "<table border=\"1\" class=\"dataframe\">\n",
       "  <thead>\n",
       "    <tr style=\"text-align: right;\">\n",
       "      <th></th>\n",
       "      <th>Aggregate\\nIndustry\\nEquivalent\\nUnit Score</th>\n",
       "      <th>Industry\\nDiversity\\nScore</th>\n",
       "    </tr>\n",
       "  </thead>\n",
       "  <tbody>\n",
       "    <tr>\n",
       "      <th>0</th>\n",
       "      <td>0.00</td>\n",
       "      <td>0.00</td>\n",
       "    </tr>\n",
       "    <tr>\n",
       "      <th>1</th>\n",
       "      <td>0.05</td>\n",
       "      <td>0.10</td>\n",
       "    </tr>\n",
       "    <tr>\n",
       "      <th>2</th>\n",
       "      <td>0.15</td>\n",
       "      <td>0.20</td>\n",
       "    </tr>\n",
       "    <tr>\n",
       "      <th>3</th>\n",
       "      <td>0.25</td>\n",
       "      <td>0.30</td>\n",
       "    </tr>\n",
       "    <tr>\n",
       "      <th>4</th>\n",
       "      <td>0.35</td>\n",
       "      <td>0.40</td>\n",
       "    </tr>\n",
       "    <tr>\n",
       "      <th>...</th>\n",
       "      <td>...</td>\n",
       "      <td>...</td>\n",
       "    </tr>\n",
       "    <tr>\n",
       "      <th>196</th>\n",
       "      <td>19.55</td>\n",
       "      <td>4.96</td>\n",
       "    </tr>\n",
       "    <tr>\n",
       "      <th>197</th>\n",
       "      <td>19.65</td>\n",
       "      <td>4.97</td>\n",
       "    </tr>\n",
       "    <tr>\n",
       "      <th>198</th>\n",
       "      <td>19.75</td>\n",
       "      <td>4.98</td>\n",
       "    </tr>\n",
       "    <tr>\n",
       "      <th>199</th>\n",
       "      <td>19.85</td>\n",
       "      <td>4.99</td>\n",
       "    </tr>\n",
       "    <tr>\n",
       "      <th>200</th>\n",
       "      <td>19.95</td>\n",
       "      <td>5.00</td>\n",
       "    </tr>\n",
       "  </tbody>\n",
       "</table>\n",
       "<p>201 rows × 2 columns</p>\n",
       "</div>"
      ],
      "text/plain": [
       "     Aggregate\\nIndustry\\nEquivalent\\nUnit Score  Industry\\nDiversity\\nScore\n",
       "0                                           0.00                        0.00\n",
       "1                                           0.05                        0.10\n",
       "2                                           0.15                        0.20\n",
       "3                                           0.25                        0.30\n",
       "4                                           0.35                        0.40\n",
       "..                                           ...                         ...\n",
       "196                                        19.55                        4.96\n",
       "197                                        19.65                        4.97\n",
       "198                                        19.75                        4.98\n",
       "199                                        19.85                        4.99\n",
       "200                                        19.95                        5.00\n",
       "\n",
       "[201 rows x 2 columns]"
      ]
     },
     "execution_count": 18,
     "metadata": {},
     "output_type": "execute_result"
    }
   ],
   "source": [
    "ind_avg_eu = pd.read_excel(filepath + file, sheet_name='Diversity', header=8, usecols='K:L')\n",
    "ind_avg_eu.dropna(how='all',inplace=True)\n",
    "ind_avg_eu"
   ]
  },
  {
   "cell_type": "code",
   "execution_count": 59,
   "id": "meaningful-interface",
   "metadata": {
    "ExecuteTime": {
     "end_time": "2021-04-07T17:47:30.756124Z",
     "start_time": "2021-04-07T17:47:30.748111Z"
    }
   },
   "outputs": [],
   "source": [
    "def diversity_score(model_df, ind_avg_eu):\n",
    "    \"\"\"\n",
    "    This function calculates the Moody's Industry Diversity Score for the CLO\n",
    "    \n",
    "    Arg in:\n",
    "        model_df: the input data frame (from the MASTER table d/l'd from BMS)\n",
    "        ind_avg_eu: Moody's discrete lookup table that maps AIEUS to IDS, need to be sorted\n",
    "    Arg out:\n",
    "        dscore: the scalar measure of the IDS\n",
    "    \"\"\"\n",
    "    \n",
    "    #first create the Par amount filtering out defaults\n",
    "    model_port['Par_no_default'] = model_port['Quantity']\n",
    "    model_port.loc[model_port['Default']=='Y','Par_no_default'] = 0\n",
    "    div_df = model_port[['Parent Company','Moody\\'s Industry','Par_no_default']].copy()\n",
    "    div_df.sort_values(by='Moody\\'s Industry',inplace=True)\n",
    "\n",
    "    # this keeps the industry, but groups on parent company for multiple loans\n",
    "    test = div_df.groupby(by=['Parent Company','Moody\\'s Industry']).sum()\n",
    "    avg_par_amt = test.sum()/test.count()   \n",
    "    \n",
    "    # create the EU score for each parent\n",
    "    # Lesser of 1 and Issuer Par Amount for such issuer divided by the Average Par Amount.\n",
    "    test['EU'] = test[['Par_no_default']]/test[['Par_no_default']].mean()\n",
    "    test.loc[test['EU']>1,'EU']=1\n",
    "    \n",
    "    # groupby Industry for the Ind Div Score\n",
    "    IDS = test.groupby(by=['Moody\\'s Industry']).sum()\n",
    "\n",
    "    # this is like vlookup(..,TRUE) where the nearest match on merge is used, direction controls how\n",
    "    # backward is the lesser if EU falls between AIEUS marks\n",
    "    df_merged = pd.merge_asof(IDS.sort_values('EU'), ind_avg_eu, left_on='EU', \n",
    "                          right_on='Aggregate\\nIndustry\\nEquivalent\\nUnit Score', direction='backward', suffixes=['', '_2'])\n",
    "    dscore = df_merged['Industry\\nDiversity\\nScore'].sum()\n",
    "    return dscore"
   ]
  },
  {
   "cell_type": "code",
   "execution_count": 93,
   "id": "literary-richards",
   "metadata": {
    "ExecuteTime": {
     "end_time": "2021-04-07T19:02:46.350670Z",
     "start_time": "2021-04-07T19:02:46.329729Z"
    }
   },
   "outputs": [
    {
     "data": {
      "text/plain": [
       "62.726699999999994"
      ]
     },
     "execution_count": 93,
     "metadata": {},
     "output_type": "execute_result"
    }
   ],
   "source": [
    "diversity_score(model_port, ind_avg_eu)"
   ]
  },
  {
   "cell_type": "markdown",
   "id": "welcome-trailer",
   "metadata": {},
   "source": [
    "# Model Portfolio stats\n",
    "- Estimated Libor\n",
    "- Minimum Floating Spread Test - Without Libor Floors\n",
    "- Minimum Floating Spread Test - WithLibor Floors (adj. All in Rate)\n",
    "- Maximum Moody's Rating Factor Test\n",
    "- Maximum Moody's Rating Factor Test (NEW WARF)\n",
    "- Maximum Moody's Rating Factor Test (Orig WARF)\n",
    "- Minimum Weighted Average Moody's Recovery Rate Test\n",
    "- Minimum Weighted Average S&P Recovery Rate Class A-1a\n",
    "- Moody's Diversity Test\n",
    "- WAP (Current Positions use Actual purchase price, all others use Ask price)\n",
    "- Total Portfolio Par (excluding Defaults)\n",
    "- Total Portfolio Par\n",
    "- Current Portfolio \n",
    "\n",
    "- Replines\t\n",
    "- Amount\t$79.2 \n",
    "- WAS\t3.80%\n",
    "- WAPP\t 99.5 \n",
    "- WARF New\t 3,022 \n",
    "- WARF Orig\t 2,954 \n"
   ]
  },
  {
   "cell_type": "code",
   "execution_count": 103,
   "id": "artistic-brunswick",
   "metadata": {
    "ExecuteTime": {
     "end_time": "2021-04-08T12:43:07.517954Z",
     "start_time": "2021-04-08T12:43:07.492063Z"
    }
   },
   "outputs": [
    {
     "data": {
      "text/plain": [
       "0      0.0730\n",
       "1      0.0430\n",
       "2      0.0125\n",
       "3         NaN\n",
       "4      0.0175\n",
       "        ...  \n",
       "491    0.0480\n",
       "492    0.0450\n",
       "493    0.0505\n",
       "494    0.0530\n",
       "495    0.0780\n",
       "Name: Adj. All in Rate, Length: 496, dtype: float64"
      ]
     },
     "execution_count": 103,
     "metadata": {},
     "output_type": "execute_result"
    }
   ],
   "source": [
    "LIBOR = .0020\n",
    "model_port['Adj. All in Rate'] = \\\n",
    "    model_port[['Floating Spread','Floating Spread Floor']].apply(lambda x: (x[0]+x[1]-.002) if (x[1]>.002) else x[0],axis=1 )\n",
    "model_port['Adj. All in Rate']"
   ]
  },
  {
   "cell_type": "code",
   "execution_count": 110,
   "id": "simplified-shadow",
   "metadata": {
    "ExecuteTime": {
     "end_time": "2021-04-08T13:11:24.980502Z",
     "start_time": "2021-04-08T13:11:24.973547Z"
    }
   },
   "outputs": [
    {
     "data": {
      "text/plain": [
       "226333336.85"
      ]
     },
     "execution_count": 110,
     "metadata": {},
     "output_type": "execute_result"
    }
   ],
   "source": [
    "model_port['Quantity'].sum()"
   ]
  },
  {
   "cell_type": "code",
   "execution_count": 111,
   "id": "physical-crime",
   "metadata": {
    "ExecuteTime": {
     "end_time": "2021-04-08T13:11:48.511547Z",
     "start_time": "2021-04-08T13:11:48.497520Z"
    }
   },
   "outputs": [],
   "source": [
    "def Port_stats(model_df):\n",
    "    Port_stats_df = pd.DataFrame(np.nan,index=['Min Floating Spread Test - no Libor Floors',\n",
    "        'Min Floating Spread Test - With Libor Floors',\n",
    "        'Max Moodys Rating Factor Test (NEW WARF)',\n",
    "        'Max Moodys Rating Factor Test (Orig WARF)',\n",
    "        'Min Moodys Recovery Rate Test',\n",
    "        'Min S&P Recovery Rate Class A-1a',\n",
    "        'Moodys Diversity Test',\n",
    "        'WAP',\n",
    "        'Total Portfolio Par (excl. Defaults)',\n",
    "        'Total Portfolio Par',\n",
    "        'Current Portfolio'],columns = ['Portfolio Stats'])\n",
    "    #model_df['Par_no_default'] = model_df['Quantity']\n",
    "    #model_df.loc[model_df['Default']=='Y','Par_no_default'] = 0\n",
    "    \n",
    "    Port_stats_df.loc['Min Floating Spread Test - no Libor Floors','Portfolio Stats'] = \\\n",
    "        (model_df['Par_no_default']*model_df['Floating Spread']).sum()/model_df['Par_no_default'].sum()\n",
    "    Port_stats_df.loc['Min Floating Spread Test - With Libor Floors','Portfolio Stats'] = \\\n",
    "        (model_df['Par_no_default']*model_df['Adj. All in Rate']).sum()/model_df['Par_no_default'].sum()\n",
    "    Port_stats_df.loc['Max Moodys Rating Factor Test (NEW WARF)','Portfolio Stats'] = \\\n",
    "        (model_df['Par_no_default']*model_df['Adj. WARF NEW']).sum()/model_df['Par_no_default'].sum()\n",
    "    Port_stats_df.loc['Max Moodys Rating Factor Test (Orig WARF)','Portfolio Stats'] = \\\n",
    "        (model_df['Par_no_default']*model_df['WARF']).sum()/model_df['Par_no_default'].sum()\n",
    "    Port_stats_df.loc['Min Moodys Recovery Rate Test','Portfolio Stats'] = \\\n",
    "        (model_df['Par_no_default']*model_df['Moodys Recovery Rate']).sum()/model_df['Par_no_default'].sum()\n",
    "        \n",
    "    \n",
    "    Port_stats_df.loc['Min S&P Recovery Rate Class A-1a','Portfolio Stats'] = \\\n",
    "        (model_df['Par_no_default']*model_df['S&P Recovery Rate (AAA)']).sum()/model_df['Par_no_default'].sum()\n",
    "    Port_stats_df.loc['Moodys Diversity Test','Portfolio Stats'] = diversity_score(model_df, ind_avg_eu)\n",
    "    #Port_stats_df.loc['WAP','Portfolio Stats'] = \\\n",
    "    #    model_df['Par_no_default']*model_df['Spread']/sum(model_df['Par_no_default'])\n",
    "    Port_stats_df.loc['Total Portfolio Par (excl. Defaults)','Portfolio Stats'] = model_df['Par_no_default'].sum()\n",
    "    Port_stats_df.loc['Total Portfolio Par','Portfolio Stats'] = model_df['Quantity'].sum()\n",
    "    \n",
    "    # current portfolio is Quantity + Add'l Amount (manual) TBA later\n",
    "    #Port_stats_df['Current Portfolio'] = model_df['Par_no_default']*model_df['Spread']/sum(model_df['Par_no_default'])\n",
    "    \n",
    "    return Port_stats_df"
   ]
  },
  {
   "cell_type": "markdown",
   "id": "optional-purse",
   "metadata": {},
   "source": [
    "\n",
    "Minimum Floating Spread Test - Without Libor Floors\t3.28%\n",
    "Minimum Floating Spread Test - WithLibor Floors (adj. All in Rate)\t3.47%\n",
    "Maximum Moody's Rating Factor Test\t 2,908 \n",
    "Maximum Moody's Rating Factor Test (NEW WARF)\t 2,785 \n",
    "Maximum Moody's Rating Factor Test (Orig WARF)\t 2,908 \n",
    "Minimum Weighted Average Moody's Recovery Rate Test\t48.0%\n",
    "Minimum Weighted Average S&P Recovery Rate Class A-1a\t41.2%\n",
    "Moody's Diversity Test\t 63 \n",
    "WAP (Current Positions use Actual purchase price, all others use Ask price)\t99.74%\n"
   ]
  },
  {
   "cell_type": "code",
   "execution_count": 112,
   "id": "extreme-minute",
   "metadata": {
    "ExecuteTime": {
     "end_time": "2021-04-08T13:11:51.568478Z",
     "start_time": "2021-04-08T13:11:51.529582Z"
    }
   },
   "outputs": [
    {
     "data": {
      "text/html": [
       "<div>\n",
       "<style scoped>\n",
       "    .dataframe tbody tr th:only-of-type {\n",
       "        vertical-align: middle;\n",
       "    }\n",
       "\n",
       "    .dataframe tbody tr th {\n",
       "        vertical-align: top;\n",
       "    }\n",
       "\n",
       "    .dataframe thead th {\n",
       "        text-align: right;\n",
       "    }\n",
       "</style>\n",
       "<table border=\"1\" class=\"dataframe\">\n",
       "  <thead>\n",
       "    <tr style=\"text-align: right;\">\n",
       "      <th></th>\n",
       "      <th>Portfolio Stats</th>\n",
       "    </tr>\n",
       "  </thead>\n",
       "  <tbody>\n",
       "    <tr>\n",
       "      <th>Min Floating Spread Test - no Libor Floors</th>\n",
       "      <td>3.277878e-02</td>\n",
       "    </tr>\n",
       "    <tr>\n",
       "      <th>Min Floating Spread Test - With Libor Floors</th>\n",
       "      <td>3.465006e-02</td>\n",
       "    </tr>\n",
       "    <tr>\n",
       "      <th>Max Moodys Rating Factor Test (NEW WARF)</th>\n",
       "      <td>2.784696e+03</td>\n",
       "    </tr>\n",
       "    <tr>\n",
       "      <th>Max Moodys Rating Factor Test (Orig WARF)</th>\n",
       "      <td>2.908407e+03</td>\n",
       "    </tr>\n",
       "    <tr>\n",
       "      <th>Min Moodys Recovery Rate Test</th>\n",
       "      <td>4.796017e-01</td>\n",
       "    </tr>\n",
       "    <tr>\n",
       "      <th>Min S&amp;P Recovery Rate Class A-1a</th>\n",
       "      <td>4.121602e-01</td>\n",
       "    </tr>\n",
       "    <tr>\n",
       "      <th>Moodys Diversity Test</th>\n",
       "      <td>6.272670e+01</td>\n",
       "    </tr>\n",
       "    <tr>\n",
       "      <th>WAP</th>\n",
       "      <td>NaN</td>\n",
       "    </tr>\n",
       "    <tr>\n",
       "      <th>Total Portfolio Par (excl. Defaults)</th>\n",
       "      <td>2.263333e+08</td>\n",
       "    </tr>\n",
       "    <tr>\n",
       "      <th>Total Portfolio Par</th>\n",
       "      <td>2.263333e+08</td>\n",
       "    </tr>\n",
       "    <tr>\n",
       "      <th>Current Portfolio</th>\n",
       "      <td>NaN</td>\n",
       "    </tr>\n",
       "  </tbody>\n",
       "</table>\n",
       "</div>"
      ],
      "text/plain": [
       "                                              Portfolio Stats\n",
       "Min Floating Spread Test - no Libor Floors       3.277878e-02\n",
       "Min Floating Spread Test - With Libor Floors     3.465006e-02\n",
       "Max Moodys Rating Factor Test (NEW WARF)         2.784696e+03\n",
       "Max Moodys Rating Factor Test (Orig WARF)        2.908407e+03\n",
       "Min Moodys Recovery Rate Test                    4.796017e-01\n",
       "Min S&P Recovery Rate Class A-1a                 4.121602e-01\n",
       "Moodys Diversity Test                            6.272670e+01\n",
       "WAP                                                       NaN\n",
       "Total Portfolio Par (excl. Defaults)             2.263333e+08\n",
       "Total Portfolio Par                              2.263333e+08\n",
       "Current Portfolio                                         NaN"
      ]
     },
     "execution_count": 112,
     "metadata": {},
     "output_type": "execute_result"
    }
   ],
   "source": [
    "Port_stats(model_port)"
   ]
  },
  {
   "cell_type": "code",
   "execution_count": null,
   "id": "circular-wages",
   "metadata": {},
   "outputs": [],
   "source": []
  }
 ],
 "metadata": {
  "kernelspec": {
   "display_name": "Python 3",
   "language": "python",
   "name": "python3"
  },
  "language_info": {
   "codemirror_mode": {
    "name": "ipython",
    "version": 3
   },
   "file_extension": ".py",
   "mimetype": "text/x-python",
   "name": "python",
   "nbconvert_exporter": "python",
   "pygments_lexer": "ipython3",
   "version": "3.8.5"
  },
  "latex_envs": {
   "LaTeX_envs_menu_present": true,
   "autoclose": false,
   "autocomplete": true,
   "bibliofile": "biblio.bib",
   "cite_by": "apalike",
   "current_citInitial": 1,
   "eqLabelWithNumbers": true,
   "eqNumInitial": 1,
   "hotkeys": {
    "equation": "Ctrl-E",
    "itemize": "Ctrl-I"
   },
   "labels_anchors": false,
   "latex_user_defs": false,
   "report_style_numbering": false,
   "user_envs_cfg": false
  },
  "toc": {
   "base_numbering": 1,
   "nav_menu": {},
   "number_sections": true,
   "sideBar": true,
   "skip_h1_title": false,
   "title_cell": "Table of Contents",
   "title_sidebar": "Contents",
   "toc_cell": false,
   "toc_position": {
    "height": "calc(100% - 180px)",
    "left": "10px",
    "top": "150px",
    "width": "261.067px"
   },
   "toc_section_display": true,
   "toc_window_display": true
  },
  "varInspector": {
   "cols": {
    "lenName": 16,
    "lenType": 16,
    "lenVar": 40
   },
   "kernels_config": {
    "python": {
     "delete_cmd_postfix": "",
     "delete_cmd_prefix": "del ",
     "library": "var_list.py",
     "varRefreshCmd": "print(var_dic_list())"
    },
    "r": {
     "delete_cmd_postfix": ") ",
     "delete_cmd_prefix": "rm(",
     "library": "var_list.r",
     "varRefreshCmd": "cat(var_dic_list()) "
    }
   },
   "oldHeight": 122.66257399999999,
   "position": {
    "height": "395.651px",
    "left": "1613.12px",
    "right": "20px",
    "top": "113.997px",
    "width": "349.976px"
   },
   "types_to_exclude": [
    "module",
    "function",
    "builtin_function_or_method",
    "instance",
    "_Feature"
   ],
   "varInspector_section_display": "block",
   "window_display": true
  }
 },
 "nbformat": 4,
 "nbformat_minor": 5
}
