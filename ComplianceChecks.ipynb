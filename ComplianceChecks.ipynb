{
 "cells": [
  {
   "cell_type": "code",
   "execution_count": 1,
   "id": "a5b2b529",
   "metadata": {
    "ExecuteTime": {
     "end_time": "2021-06-22T12:38:31.350006Z",
     "start_time": "2021-06-22T12:38:25.906770Z"
    }
   },
   "outputs": [],
   "source": [
    "import numpy as np  # probably don't need to load\n",
    "import pandas as pd\n",
    "#import datetime as dt\n",
    "#import pandas_datareader.data as web  # probably don't need to load\n",
    "#import quandl\n",
    "\n",
    "#import blpapi\n",
    "#from xbbg import blp\n",
    "import CLOutilsPyXLL as clo\n",
    "\n",
    "#import matplotlib.pyplot as plt\n",
    "import seaborn as sns\n",
    "\n",
    "from IPython.core.interactiveshell import InteractiveShell\n",
    "InteractiveShell.ast_node_interactivity = 'all'"
   ]
  },
  {
   "cell_type": "markdown",
   "id": "b6df9adb",
   "metadata": {},
   "source": [
    "# Read the files"
   ]
  },
  {
   "cell_type": "code",
   "execution_count": 4,
   "id": "ce2b6362",
   "metadata": {
    "ExecuteTime": {
     "end_time": "2021-06-22T12:38:49.111188Z",
     "start_time": "2021-06-22T12:38:49.101215Z"
    }
   },
   "outputs": [],
   "source": [
    "path = 'Z:/Shared/Risk Management and Investment Technology/CLO Optimization/'\n",
    "file_prefix = 'Portfolio Assets_ Trustee Recon Detail'\n",
    "suffixes = [' (CLO 2020-18)',' (CLO 2013-4)',' (CLO 2014-6)',' (CLO 2020-19)',\n",
    "            ' (CLO 2020-20)',' (CLO 2014-7)',' (CLO 2015-9)',' (CLO 2020-8r)',\n",
    "            ' (CLO 2016-12)',' (CLO 2017-13)',' (CLO 2017-14)',' (CLO 2018-15)',\n",
    "            ' (CLO 2019-16)',' (CLO 2019-17)']"
   ]
  },
  {
   "cell_type": "code",
   "execution_count": 3,
   "id": "6b26aaea",
   "metadata": {
    "ExecuteTime": {
     "end_time": "2021-06-22T12:38:38.004548Z",
     "start_time": "2021-06-22T12:38:31.400653Z"
    }
   },
   "outputs": [
    {
     "ename": "NameError",
     "evalue": "name 'get_trustee_recon' is not defined",
     "output_type": "error",
     "traceback": [
      "\u001b[1;31m---------------------------------------------------------------------------\u001b[0m",
      "\u001b[1;31mNameError\u001b[0m                                 Traceback (most recent call last)",
      "\u001b[1;32m<ipython-input-3-b628ff08956d>\u001b[0m in \u001b[0;36m<module>\u001b[1;34m\u001b[0m\n\u001b[0;32m      1\u001b[0m \u001b[1;31m# Portfolio Assets_ Trustee Recon Detail (CLO 2020-18).CSV\u001b[0m\u001b[1;33m\u001b[0m\u001b[1;33m\u001b[0m\u001b[1;33m\u001b[0m\u001b[0m\n\u001b[0;32m      2\u001b[0m \u001b[0mfilepath\u001b[0m \u001b[1;33m=\u001b[0m \u001b[0mpath\u001b[0m\u001b[1;33m+\u001b[0m\u001b[0mfile_prefix\u001b[0m\u001b[1;33m+\u001b[0m\u001b[0msuffixes\u001b[0m\u001b[1;33m[\u001b[0m\u001b[1;36m13\u001b[0m\u001b[1;33m]\u001b[0m\u001b[1;33m+\u001b[0m\u001b[1;34m'.CSV'\u001b[0m\u001b[1;33m\u001b[0m\u001b[1;33m\u001b[0m\u001b[0m\n\u001b[1;32m----> 3\u001b[1;33m \u001b[0mtrustee_df\u001b[0m \u001b[1;33m=\u001b[0m \u001b[0mget_trustee_recon\u001b[0m\u001b[1;33m(\u001b[0m\u001b[0mfilepath\u001b[0m\u001b[1;33m)\u001b[0m\u001b[1;33m\u001b[0m\u001b[1;33m\u001b[0m\u001b[0m\n\u001b[0m\u001b[0;32m      4\u001b[0m \u001b[1;31m#\u001b[0m\u001b[1;33m\u001b[0m\u001b[1;33m\u001b[0m\u001b[1;33m\u001b[0m\u001b[0m\n\u001b[0;32m      5\u001b[0m \u001b[1;31m#filepath = path+file_prefix+suffixes[1]+'.CSV'\u001b[0m\u001b[1;33m\u001b[0m\u001b[1;33m\u001b[0m\u001b[1;33m\u001b[0m\u001b[0m\n",
      "\u001b[1;31mNameError\u001b[0m: name 'get_trustee_recon' is not defined"
     ]
    }
   ],
   "source": [
    "# Portfolio Assets_ Trustee Recon Detail (CLO 2020-18).CSV\n",
    "filepath = path+file_prefix+suffixes[13]+'.CSV'\n",
    "trustee_df = get_trustee_recon(filepath)\n",
    "#\n",
    "#filepath = path+file_prefix+suffixes[1]+'.CSV'\n",
    "#temp = get_trustee_recon(filepath)\n",
    "\n"
   ]
  },
  {
   "cell_type": "code",
   "execution_count": null,
   "id": "d230263e",
   "metadata": {},
   "outputs": [],
   "source": []
  },
  {
   "cell_type": "code",
   "execution_count": 98,
   "id": "6f25ecf6",
   "metadata": {
    "ExecuteTime": {
     "end_time": "2021-06-21T19:49:58.725415Z",
     "start_time": "2021-06-21T19:49:58.722424Z"
    }
   },
   "outputs": [],
   "source": [
    "#trustee_df.merge(temp,left_on=\"LXID\",right_on=\"LXID\",how='left',suffixes=(suffixes[0], suffixes[1])).info()"
   ]
  },
  {
   "cell_type": "code",
   "execution_count": 13,
   "id": "8ef4877b",
   "metadata": {
    "ExecuteTime": {
     "end_time": "2021-06-22T13:01:09.084830Z",
     "start_time": "2021-06-22T13:01:09.068836Z"
    }
   },
   "outputs": [],
   "source": [
    "def DataLabelMap(df):\n",
    "    datalabelmap = {'Parent Company': 'Parent Company',\n",
    "        'Issuer': 'Issuer',\n",
    "        'Asset': 'Asset',\n",
    "        'CUSIP': 'CUSIP',\n",
    "        'ISIN': 'ISIN',\n",
    "        'Asset Type': 'Asset Type',\n",
    "        'Analyst': 'Analyst',\n",
    "        'Floating Spread': 'Floating Spread',\n",
    "        'Floating Spread Floor': 'Floating Spread Floor',\n",
    "        'All In Rate': 'All In Rate',\n",
    "        'Maturity Date': 'Maturity Date',\n",
    "        'Mark Price': 'Mark Price',\n",
    "        'Adjusted Moodys Rating': 'Adjusted Moodys Rating',\n",
    "        'WARF': 'WARF',\n",
    "        'MDPR': 'MDPR',\n",
    "        'Moody\\'s CFR': 'Moodys CFR',\n",
    "        'Moody\\'s Facility Rating': 'Moodys Facility Rating',\n",
    "        'Moody\\'s Issuer Outlook': 'Moodys Issuer Outlook',\n",
    "        'Moody\\'s Issuer Watch': 'Moodys Issuer Watch',\n",
    "        'Moodys Recovery Rate': 'Moodys Recovery Rate',\n",
    "        'S&P Issuer Rating': 'S&P Issuer Rating',\n",
    "        'S&P Facility Rating': 'S&P Facility Rating',\n",
    "        'S&P Issuer Outlook': 'S&P Issuer Outlook',\n",
    "        'S&P Issuer Watch': 'S&P Issuer Watch',\n",
    "        'S&P Recovery': 'S&P Recovery',\n",
    "        'Agent Bank': 'Agent Bank',\n",
    "        'OCP CLO 2013-4, Ltd.': 'CLO 2013-4',\n",
    "        'OCP CLO 2014-5, Ltd.': 'CLO 2014-5',\n",
    "        'OCP CLO 2014-6, Ltd.': 'CLO 2014-6, Ltd.',\n",
    "        'OCP CLO 2014-7, Ltd.': 'CLO 2014-7',\n",
    "        'OCP CLO 2020-8R, Ltd.': 'CLO 2020-8R',\n",
    "        'OCP CLO 2015-9, Ltd.': 'CLO 2015-9',\n",
    "        'OCP CLO 2015-10, Ltd.': 'CLO 2015-10',\n",
    "        'OCP CLO 2016-11, Ltd.': 'CLO 2016-11',\n",
    "        'OCP CLO 2016-12, Ltd.': 'CLO 2016-12',\n",
    "        'OCP CLO 2017-13, Ltd.': 'CLO 2017-13',\n",
    "        'OCP CLO 2017-14, Ltd.': 'CLO 2017-14',\n",
    "        'OCP CLO 2018-15, Ltd.': 'CLO 2018-15',\n",
    "        'OCP CLO 2019-16, Ltd.': 'CLO 2019-16',\n",
    "        'OCP CLO 2019-17, Ltd': 'CLO 2019-17',\n",
    "        'OCP CLO 2020-18, Ltd.': 'CLO 2020-18',\n",
    "        'OCP CLO 2020-19, Ltd.': 'CLO 2020-19',\n",
    "        'OCP CLO 2020-20, Ltd.': 'CLO 2020-20',\n",
    "        'OCP CLO 2021-21 Ltd.': 'CLO 2021-21',\n",
    "        'Current Global Amount Outstanding': 'Current Global Amount Outstanding',\n",
    "        'Moody\\'s Industry': 'Moodys Industry',\n",
    "        'S&P Industry': 'S&P Industry',\n",
    "        'Lien Type': 'Lien Type',\n",
    "        'Issuer Country': 'Issuer Country'}\n",
    "    df.rename(columns=datalabelmap,inplace=True)\n",
    "    return df\n",
    "\n",
    "def get_trustee_recon(filepath):\n",
    "    master_df = pd.read_csv(filepath,header=0)\n",
    "    master_df = master_df.loc[:,~master_df.columns.str.match(\"Unnamed\")]\n",
    "    master_df.rename(columns={'LoanX Id':'LXID'},inplace=True)\n",
    "    master_df.set_index('LXID', inplace=True)\n",
    "    return master_df\n",
    "\n",
    "def get_master_position_report(filepath):\n",
    "    master_df = pd.read_excel(filepath,header=0)\n",
    "    master_df = master_df.loc[:,~master_df.columns.str.match(\"Unnamed\")]\n",
    "    master_df.rename(columns={'LoanX ID':'LXID'},inplace=True)\n",
    "    master_df.set_index('LXID', inplace=True)\n",
    "    master_df = DataLabelMap(master_df)\n",
    "    return master_df"
   ]
  },
  {
   "cell_type": "code",
   "execution_count": 14,
   "id": "a4492602",
   "metadata": {
    "ExecuteTime": {
     "end_time": "2021-06-22T13:01:10.451121Z",
     "start_time": "2021-06-22T13:01:10.437132Z"
    }
   },
   "outputs": [],
   "source": [
    "path = 'Z:/Shared/Risk Management and Investment Technology/CLO Optimization/CLO Reports/'\n",
    "file = 'Master Position Report.xlsx'\n",
    "filepath = path + file"
   ]
  },
  {
   "cell_type": "code",
   "execution_count": 15,
   "id": "ec401ce2",
   "metadata": {
    "ExecuteTime": {
     "end_time": "2021-06-22T13:01:11.467466Z",
     "start_time": "2021-06-22T13:01:10.873152Z"
    }
   },
   "outputs": [],
   "source": [
    "clo_df = get_master_position_report(filepath)"
   ]
  },
  {
   "cell_type": "code",
   "execution_count": 16,
   "id": "8b680f96",
   "metadata": {
    "ExecuteTime": {
     "end_time": "2021-06-22T13:01:11.528351Z",
     "start_time": "2021-06-22T13:01:11.515385Z"
    }
   },
   "outputs": [
    {
     "name": "stdout",
     "output_type": "stream",
     "text": [
      "<class 'pandas.core.frame.DataFrame'>\n",
      "Index: 474 entries, LX190245 to LX185219\n",
      "Data columns (total 49 columns):\n",
      " #   Column                             Non-Null Count  Dtype         \n",
      "---  ------                             --------------  -----         \n",
      " 0   Parent Company                     474 non-null    object        \n",
      " 1   Issuer                             474 non-null    object        \n",
      " 2   Asset                              474 non-null    object        \n",
      " 3   CUSIP                              447 non-null    object        \n",
      " 4   ISIN                               436 non-null    object        \n",
      " 5   Asset Type                         474 non-null    object        \n",
      " 6   Analyst                            466 non-null    object        \n",
      " 7   Floating Spread                    466 non-null    float64       \n",
      " 8   Floating Spread Floor              459 non-null    float64       \n",
      " 9   All In Rate                        474 non-null    float64       \n",
      " 10  Maturity Date                      474 non-null    datetime64[ns]\n",
      " 11  Mark Price                         474 non-null    float64       \n",
      " 12  Adjusted Moodys Rating             474 non-null    object        \n",
      " 13  WARF                               474 non-null    int64         \n",
      " 14  MDPR                               474 non-null    object        \n",
      " 15  Moodys CFR                         470 non-null    object        \n",
      " 16  Moodys Facility Rating             467 non-null    object        \n",
      " 17  Moodys Issuer Outlook              468 non-null    object        \n",
      " 18  Moodys Issuer Watch                167 non-null    object        \n",
      " 19  Moodys Recovery Rate               474 non-null    float64       \n",
      " 20  S&P Issuer Rating                  467 non-null    object        \n",
      " 21  S&P Facility Rating                405 non-null    object        \n",
      " 22  S&P Issuer Outlook                 459 non-null    object        \n",
      " 23  S&P Issuer Watch                   225 non-null    object        \n",
      " 24  S&P Recovery                       458 non-null    object        \n",
      " 25  Agent Bank                         466 non-null    object        \n",
      " 26  CLO 2013-4                         268 non-null    float64       \n",
      " 27  CLO 2014-5                         358 non-null    float64       \n",
      " 28  CLO 2014-6, Ltd.                   379 non-null    float64       \n",
      " 29  CLO 2014-7                         370 non-null    float64       \n",
      " 30  CLO 2020-8R                        272 non-null    float64       \n",
      " 31  OCP CLO 2015-9, Ltd.               129 non-null    float64       \n",
      " 32  OCP CLO 2015-10, Ltd.              145 non-null    float64       \n",
      " 33  CLO 2016-11                        369 non-null    float64       \n",
      " 34  CLO 2016-12                        269 non-null    float64       \n",
      " 35  CLO 2017-13                        373 non-null    float64       \n",
      " 36  CLO 2017-14                        371 non-null    float64       \n",
      " 37  CLO 2018-15                        367 non-null    float64       \n",
      " 38  CLO 2019-16                        364 non-null    float64       \n",
      " 39  CLO 2019-17                        351 non-null    float64       \n",
      " 40  CLO 2020-18                        307 non-null    float64       \n",
      " 41  CLO 2020-19                        293 non-null    float64       \n",
      " 42  CLO 2020-20                        289 non-null    float64       \n",
      " 43  CLO 2021-21                        235 non-null    float64       \n",
      " 44  Current Global Amount Outstanding  466 non-null    float64       \n",
      " 45  Moodys Industry                    474 non-null    object        \n",
      " 46  S&P Industry                       474 non-null    object        \n",
      " 47  Lien Type                          466 non-null    object        \n",
      " 48  Issuer Country                     474 non-null    object        \n",
      "dtypes: datetime64[ns](1), float64(24), int64(1), object(23)\n",
      "memory usage: 185.2+ KB\n"
     ]
    }
   ],
   "source": [
    "clo_df.info()"
   ]
  },
  {
   "cell_type": "code",
   "execution_count": null,
   "id": "9a5ea6dc",
   "metadata": {},
   "outputs": [],
   "source": []
  },
  {
   "cell_type": "markdown",
   "id": "aa95a463",
   "metadata": {},
   "source": [
    "# Collateral Quality Tests"
   ]
  },
  {
   "cell_type": "code",
   "execution_count": 67,
   "id": "780c9d03",
   "metadata": {
    "ExecuteTime": {
     "end_time": "2021-06-21T17:24:09.230311Z",
     "start_time": "2021-06-21T17:24:09.217276Z"
    }
   },
   "outputs": [],
   "source": [
    "def Port_stats(model_df, weight_col='Par_no_default',format_output=True):\n",
    "    \"\"\"\n",
    "    Arg in:\n",
    "        model_df\n",
    "        #ind_avg_eu: table (df) Moody's discrete lookup table that maps AIEUS to IDS\n",
    "    \n",
    "    - Estimated Libor\n",
    "    - Minimum Floating Spread Test - Without Libor Floors\n",
    "    - Minimum Floating Spread Test - WithLibor Floors (adj. All in Rate)\n",
    "    - Maximum Moody's Rating Factor Test\n",
    "    - Maximum Moody's Rating Factor Test (NEW WARF)\n",
    "    - Maximum Moody's Rating Factor Test (Orig WARF)\n",
    "    - Minimum Weighted Average Moody's Recovery Rate Test\n",
    "    - Minimum Weighted Average S&P Recovery Rate Class A-1a\n",
    "    - Moody's Diversity Test\n",
    "    - WAP (Current Positions use Actual purchase price, all others use Ask price)\n",
    "    - Total Portfolio Par (excluding Defaults)\n",
    "    - Total Portfolio Par\n",
    "    - Current Portfolio \n",
    "    \n",
    "    \n",
    "    \"\"\"\n",
    "    \n",
    "    Port_stats_df = pd.DataFrame(np.nan,index=['Min Floating Spread Test - no Libor Floors',\n",
    "        'Min Floating Spread Test - With Libor Floors',\n",
    "        'Max Moodys Rating Factor Test (NEW WARF)',\n",
    "    #    'Max Moodys Rating Factor Test (Orig WARF)',\n",
    "        'Min Moodys Recovery Rate Test',\n",
    "        'Min S&P Recovery Rate Class A-1a',\n",
    "        'Moodys Diversity Test',\n",
    "    #    'WAP',\n",
    "    #    'Percent CCC & lower',\n",
    "    #    'Percent 2nd Lien',\n",
    "    #    'Percent Sub80',\n",
    "    #    'Percent Sub90',\n",
    "    #    'Percent CovLite',\n",
    "    #    'Pot Par B/L Sale',\n",
    "    #    'Pot Par B/L Buy',\n",
    "    #    'Pot Par B/L Total',\n",
    "        'Total Portfolio Par (excl. Defaults)',\n",
    "    #    'Total Portfolio Par',\n",
    "     #   'Current Portfolio'\n",
    "                                              ],columns = ['Portfolio Stats'])\n",
    "\n",
    "    # Par_no_default works for current positions only\n",
    "    # if trying to compare potential new trades, need updated field\n",
    "    # also Total isn't dynamically updated for Potential Trades once\n",
    "    # model_df is created.  Need to find solution\n",
    "    \n",
    "    Port_stats_df.loc['Min Floating Spread Test - no Libor Floors','Portfolio Stats'] = \\\n",
    "        weighted_average(model_df,cols=[weight_col,'Libor Spread'])*100\n",
    "    \n",
    "    Port_stats_df.loc['Min Floating Spread Test - With Libor Floors','Portfolio Stats'] = \\\n",
    "        weighted_average(model_df,cols=[weight_col,'All In Rate'])*100\n",
    "    \n",
    "    Port_stats_df.loc['Max Moodys Rating Factor Test (NEW WARF)','Portfolio Stats'] = \\\n",
    "        weighted_average(model_df,cols=[weight_col,'Adjusted Moody\\'s WARF Rating'])\n",
    "     \n",
    "    #Port_stats_df.loc['Max Moodys Rating Factor Test (Orig WARF)','Portfolio Stats'] = \\\n",
    "    #    weighted_average(model_df,cols=[weight_col,'WARF'])\n",
    "    \n",
    "    Port_stats_df.loc['Min Moodys Recovery Rate Test','Portfolio Stats'] = \\\n",
    "        weighted_average(model_df,cols=[weight_col,'Recovery Rate Moody'])*100    \n",
    "    \n",
    "    Port_stats_df.loc['Min S&P Recovery Rate Class A-1a','Portfolio Stats'] = \\\n",
    "            weighted_average(model_df,cols=[weight_col,'S&P Recovery Rate (AAA)'])*100\n",
    "    \n",
    "    Port_stats_df.loc['Moodys Diversity Test','Portfolio Stats'] = diversity_score(model_df, weight_col)\n",
    "    \n",
    "    ######   Was Total?\n",
    "    #Port_stats_df.loc['WAP','Portfolio Stats'] = \\\n",
    "    #    weighted_average(model_df,cols=[weight_col,'Blended Price'])\n",
    "    \n",
    "    #Port_stats_df.loc['Percent CCC & lower','Portfolio Stats'] = percentage_C(model_df, weight_col)*100\n",
    "    \n",
    "    #Port_stats_df.loc['Percent 2nd Lien','Portfolio Stats'] = percentage_SecondLien(model_df, weight_col)*100\n",
    "    \n",
    "    #Port_stats_df.loc['Percent Sub80','Portfolio Stats'] = percentage_SubEighty(model_df, weight_col)*100\n",
    "    \n",
    "    #Port_stats_df.loc['Percent Sub90','Portfolio Stats'] = percentage_SubNinety(model_df, weight_col)*100\n",
    "    \n",
    "    Port_stats_df.loc['Percent CovLite','Portfolio Stats'] = percentage_CovLite(model_df, weight_col)*100\n",
    "    Port_stats_df.loc['Total Portfolio Par (excl. Defaults)','Portfolio Stats'] = model_df[weight_col].sum()\n",
    "\n",
    "    \n",
    "    if format_output:\n",
    "        Port_stats_df.loc['Min Floating Spread Test - no Libor Floors'] = \\\n",
    "            Port_stats_df.loc['Min Floating Spread Test - no Libor Floors'].apply('{:.2f}%'.format)\n",
    "        Port_stats_df.loc['Min Floating Spread Test - With Libor Floors'] = \\\n",
    "            Port_stats_df.loc['Min Floating Spread Test - With Libor Floors'].apply('{:.2f}%'.format)\n",
    "        Port_stats_df.loc['Max Moodys Rating Factor Test (NEW WARF)'] = \\\n",
    "            Port_stats_df.loc['Max Moodys Rating Factor Test (NEW WARF)'].apply('{:.0f}'.format)\n",
    "        #Port_stats_df.loc['Max Moodys Rating Factor Test (Orig WARF)'] = \\\n",
    "        #    Port_stats_df.loc['Max Moodys Rating Factor Test (Orig WARF)'].apply('{:.0f}'.format)\n",
    "        Port_stats_df.loc['Min Moodys Recovery Rate Test'] = \\\n",
    "            Port_stats_df.loc['Min Moodys Recovery Rate Test'].apply('{:.1f}%'.format)\n",
    "        Port_stats_df.loc['Min S&P Recovery Rate Class A-1a'] = \\\n",
    "            Port_stats_df.loc['Min S&P Recovery Rate Class A-1a'].apply('{:.1f}%'.format)\n",
    "        Port_stats_df.loc['Moodys Diversity Test'] = \\\n",
    "            Port_stats_df.loc['Moodys Diversity Test'].apply('{:.0f}'.format)\n",
    "        #Port_stats_df.loc['WAP'] = \\\n",
    "        #    Port_stats_df.loc['WAP'].apply('${:.2f}'.format)\n",
    "        #Port_stats_df.loc['Percent CCC & lower'] = \\\n",
    "        #    Port_stats_df.loc['Percent CCC & lower'].apply('{:.1f}%'.format)\n",
    "        #Port_stats_df.loc['Percent 2nd Lien'] = \\\n",
    "        #    Port_stats_df.loc['Percent 2nd Lien'].apply('{:.1f}%'.format)\n",
    "        #Port_stats_df.loc['Percent Sub80'] = \\\n",
    "        #    Port_stats_df.loc['Percent Sub80'].apply('{:.1f}%'.format)\n",
    "        #Port_stats_df.loc['Percent Sub90'] = \\\n",
    "        #    Port_stats_df.loc['Percent Sub90'].apply('{:.1f}%'.format)\n",
    "        #Port_stats_df.loc['Percent CovLite'] = \\\n",
    "        #    Port_stats_df.loc['Percent CovLite'].apply('{:.1f}%'.format)\n",
    "        Port_stats_df.loc['Total Portfolio Par (excl. Defaults)'] = \\\n",
    "            Port_stats_df.loc['Total Portfolio Par (excl. Defaults)'].apply('{:,.0f}'.format)\n",
    "        \n",
    "  \n",
    "    #Port_stats_df.loc['Pot Par B/L Sale','Portfolio Stats'] = model_df['Par_Build_Loss_Sale'].sum()\n",
    "    #Port_stats_df.loc['Pot Par B/L Sale'] = \\\n",
    "    #    Port_stats_df.loc['Pot Par B/L Sale'].apply('{:,.0f}'.format)    \n",
    "    \n",
    "    #Port_stats_df.loc['Pot Par B/L Buy','Portfolio Stats'] = model_df['Par_Build_Loss_Buy'].sum()\n",
    "    #Port_stats_df.loc['Pot Par B/L Buy'] = \\\n",
    "    #    Port_stats_df.loc['Pot Par B/L Buy'].apply('{:,.0f}'.format)    \n",
    "    \n",
    "    #Port_stats_df.loc['Pot Par B/L Total','Portfolio Stats'] = model_df['Total_Par_Build_Loss'].sum()\n",
    "    #Port_stats_df.loc['Pot Par B/L Total'] = \\\n",
    "    #    Port_stats_df.loc['Pot Par B/L Total'].apply('{:,.0f}'.format)    \n",
    "\n",
    "    \n",
    "#    Port_stats_df.loc['Total Portfolio Par','Portfolio Stats'] = model_df['Total'].sum()\n",
    "#    Port_stats_df.loc['Total Portfolio Par'] = \\\n",
    "#        Port_stats_df.loc['Total Portfolio Par'].apply('{:,.0f}'.format)\n",
    "    \n",
    "    # current portfolio is Quantity + Add'l Amount (manual) TBA later\n",
    "#    Port_stats_df.loc['Current Portfolio','Portfolio Stats'] = model_df[['Addtl Purchase Amt','Current Portfolio']].sum(axis=1).sum()\n",
    "#    Port_stats_df.loc['Current Portfolio'] = \\\n",
    "#        Port_stats_df.loc['Current Portfolio'].apply('{:,.0f}'.format)\n",
    "    \n",
    "    return Port_stats_df"
   ]
  },
  {
   "cell_type": "code",
   "execution_count": 66,
   "id": "1db922d6",
   "metadata": {
    "ExecuteTime": {
     "end_time": "2021-06-21T17:23:06.811628Z",
     "start_time": "2021-06-21T17:23:06.780676Z"
    }
   },
   "outputs": [],
   "source": [
    "def diversity_score(model_df, weight_col='Par_no_default'):\n",
    "    \"\"\"\n",
    "    This function calculates the Moody's Industry Diversity Score for the CLO\n",
    "    \n",
    "    Arg in:\n",
    "        model_df: the input data frame (from the MASTER table d/l'd from BMS)\n",
    "        #ind_avg_eu: Moody's discrete lookup table that maps AIEUS to IDS, need to be sorted\n",
    "    Arg out:\n",
    "        dscore: the scalar measure of the IDS\n",
    "    \"\"\"\n",
    "    # calling this each time (like in MC Diversity)\n",
    "    # makes the function unbearably slow. I tried setting it\n",
    "    # as a global variable but that didn't solve the issue.\n",
    "    # I need to look into a solution to set something up \n",
    "    # permanently in memory after the first call (thought global would do it)\n",
    "    # ind_avg_eu = get_ind_avg_eu_table(filepath,sheet='Diversity')\n",
    "    # thus I've hard-coded it, but if this ever changes from Moody's\n",
    "    # we need to update here.\n",
    "    ind_avg_eu = pd.DataFrame([[ 0.    ,  0.    ], [ 0.05  ,  0.1   ], [ 0.15  ,  0.2   ],\n",
    "       [ 0.25  ,  0.3   ], [ 0.35  ,  0.4   ], [ 0.45  ,  0.5   ], [ 0.55  ,  0.6   ], \n",
    "       [ 0.65  ,  0.7   ], [ 0.75  ,  0.8   ], [ 0.85  ,  0.9   ], [ 0.95  ,  1.    ],\n",
    "       [ 1.05  ,  1.05  ], [ 1.15  ,  1.1   ], [ 1.25  ,  1.15  ], [ 1.35  ,  1.2   ],\n",
    "       [ 1.45  ,  1.25  ], [ 1.55  ,  1.3   ], [ 1.65  ,  1.35  ], [ 1.75  ,  1.4   ],\n",
    "       [ 1.85  ,  1.45  ], [ 1.95  ,  1.5   ], [ 2.05  ,  1.55  ], [ 2.15  ,  1.6   ],\n",
    "       [ 2.25  ,  1.65  ], [ 2.35  ,  1.7   ], [ 2.45  ,  1.75  ], [ 2.55  ,  1.8   ],\n",
    "       [ 2.65  ,  1.85  ], [ 2.75  ,  1.9   ], [ 2.85  ,  1.95  ], [ 2.95  ,  2.    ],\n",
    "       [ 3.05  ,  2.0333], [ 3.15  ,  2.0667], [ 3.25  ,  2.1   ], [ 3.35  ,  2.1333],\n",
    "       [ 3.45  ,  2.1667], [ 3.55  ,  2.2   ], [ 3.65  ,  2.2333], [ 3.75  ,  2.2667],\n",
    "       [ 3.85  ,  2.3   ], [ 3.95  ,  2.3333], [ 4.05  ,  2.3667], [ 4.15  ,  2.4   ],\n",
    "       [ 4.25  ,  2.4333], [ 4.35  ,  2.4667], [ 4.45  ,  2.5   ], [ 4.55  ,  2.5333],\n",
    "       [ 4.65  ,  2.5667], [ 4.75  ,  2.6   ], [ 4.85  ,  2.6333], [ 4.95  ,  2.6667],\n",
    "       [ 5.05  ,  2.7   ], [ 5.15  ,  2.7333], [ 5.25  ,  2.7667], [ 5.35  ,  2.8   ],\n",
    "       [ 5.45  ,  2.8333], [ 5.55  ,  2.8667], [ 5.65  ,  2.9   ], [ 5.75  ,  2.9333],\n",
    "       [ 5.85  ,  2.9667], [ 5.95  ,  3.    ], [ 6.05  ,  3.025 ], [ 6.15  ,  3.05  ],\n",
    "       [ 6.25  ,  3.075 ], [ 6.35  ,  3.1   ], [ 6.45  ,  3.125 ], [ 6.55  ,  3.15  ],\n",
    "       [ 6.65  ,  3.175 ], [ 6.75  ,  3.2   ], [ 6.85  ,  3.225 ], [ 6.95  ,  3.25  ],\n",
    "       [ 7.05  ,  3.275 ], [ 7.15  ,  3.3   ], [ 7.25  ,  3.325 ], [ 7.35  ,  3.35  ],\n",
    "       [ 7.45  ,  3.375 ], [ 7.55  ,  3.4   ], [ 7.65  ,  3.425 ], [ 7.75  ,  3.45  ],\n",
    "       [ 7.85  ,  3.475 ], [ 7.95  ,  3.5   ], [ 8.05  ,  3.525 ], [ 8.15  ,  3.55  ],\n",
    "       [ 8.25  ,  3.575 ], [ 8.35  ,  3.6   ], [ 8.45  ,  3.625 ], [ 8.55  ,  3.65  ],\n",
    "       [ 8.65  ,  3.675 ], [ 8.75  ,  3.7   ], [ 8.85  ,  3.725 ], [ 8.95  ,  3.75  ],\n",
    "       [ 9.05  ,  3.775 ], [ 9.15  ,  3.8   ], [ 9.25  ,  3.825 ], [ 9.35  ,  3.85  ],\n",
    "       [ 9.45  ,  3.875 ], [ 9.55  ,  3.9   ], [ 9.65  ,  3.925 ], [ 9.75  ,  3.95  ],\n",
    "       [ 9.85  ,  3.975 ], [ 9.95  ,  4.    ], [10.05  ,  4.01  ], [10.15  ,  4.02  ],\n",
    "       [10.25  ,  4.03  ], [10.35  ,  4.04  ], [10.45  ,  4.05  ], [10.55  ,  4.06  ],\n",
    "       [10.65  ,  4.07  ], [10.75  ,  4.08  ], [10.85  ,  4.09  ], [10.95  ,  4.1   ],\n",
    "       [11.05  ,  4.11  ], [11.15  ,  4.12  ], [11.25  ,  4.13  ], [11.35  ,  4.14  ],\n",
    "       [11.45  ,  4.15  ], [11.55  ,  4.16  ], [11.65  ,  4.17  ], [11.75  ,  4.18  ],\n",
    "       [11.85  ,  4.19  ], [11.95  ,  4.2   ], [12.05  ,  4.21  ], [12.15  ,  4.22  ],\n",
    "       [12.25  ,  4.23  ], [12.35  ,  4.24  ], [12.45  ,  4.25  ], [12.55  ,  4.26  ],\n",
    "       [12.65  ,  4.27  ], [12.75  ,  4.28  ], [12.85  ,  4.29  ], [12.95  ,  4.3   ],\n",
    "       [13.05  ,  4.31  ], [13.15  ,  4.32  ], [13.25  ,  4.33  ], [13.35  ,  4.34  ],\n",
    "       [13.45  ,  4.35  ], [13.55  ,  4.36  ], [13.65  ,  4.37  ], [13.75  ,  4.38  ],\n",
    "       [13.85  ,  4.39  ], [13.95  ,  4.4   ], [14.05  ,  4.41  ], [14.15  ,  4.42  ],\n",
    "       [14.25  ,  4.43  ], [14.35  ,  4.44  ], [14.45  ,  4.45  ], [14.55  ,  4.46  ],\n",
    "       [14.65  ,  4.47  ], [14.75  ,  4.48  ], [14.85  ,  4.49  ], [14.95  ,  4.5   ],\n",
    "       [15.05  ,  4.51  ], [15.15  ,  4.52  ], [15.25  ,  4.53  ], [15.35  ,  4.54  ],\n",
    "       [15.45  ,  4.55  ], [15.55  ,  4.56  ], [15.65  ,  4.57  ], [15.75  ,  4.58  ],\n",
    "       [15.85  ,  4.59  ], [15.95  ,  4.6   ], [16.05  ,  4.61  ], [16.15  ,  4.62  ],\n",
    "       [16.25  ,  4.63  ], [16.35  ,  4.64  ], [16.45  ,  4.65  ], [16.55  ,  4.66  ],\n",
    "       [16.65  ,  4.67  ], [16.75  ,  4.68  ], [16.85  ,  4.69  ], [16.95  ,  4.7   ],\n",
    "       [17.05  ,  4.71  ], [17.15  ,  4.72  ], [17.25  ,  4.73  ], [17.35  ,  4.74  ],\n",
    "       [17.45  ,  4.75  ], [17.55  ,  4.76  ], [17.65  ,  4.77  ], [17.75  ,  4.78  ],\n",
    "       [17.85  ,  4.79  ], [17.95  ,  4.8   ], [18.05  ,  4.81  ], [18.15  ,  4.82  ],\n",
    "       [18.25  ,  4.83  ], [18.35  ,  4.84  ], [18.45  ,  4.85  ], [18.55  ,  4.86  ],\n",
    "       [18.65  ,  4.87  ], [18.75  ,  4.88  ], [18.85  ,  4.89  ], [18.95  ,  4.9   ],\n",
    "       [19.05  ,  4.91  ], [19.15  ,  4.92  ], [19.25  ,  4.93  ], [19.35  ,  4.94  ], [19.45  ,  4.95  ],\n",
    "       [19.55  ,  4.96  ], [19.65  ,  4.97  ], [19.75  ,  4.98  ], [19.85  ,  4.99  ], [19.95  ,  5.    ]], \n",
    "                              columns = ['Aggregate\\nIndustry\\nEquivalent\\nUnit Score', 'Industry\\nDiversity\\nScore'])    \n",
    "    #first create the Par amount filtering out defaults\n",
    "    #model_df['Par_no_default'] = model_df['Total']\n",
    "    #model_df.loc[model_df['Default']=='Y','Par_no_default'] = 0\n",
    "    \n",
    "    # 6/14/2021 added this...it is correct\n",
    "    # filters out the zero names from the average Par Amount (in the count)\n",
    "    mask = abs(model_df[weight_col]) > 0\n",
    "    \n",
    "    \n",
    "    div_df = model_df.loc[mask,['Parent Company','Moodys Industry',weight_col]].copy()\n",
    "    div_df.sort_values(by='Moodys Industry',inplace=True)\n",
    "\n",
    "    # this keeps the industry, but groups on parent company for multiple loans\n",
    "    # shouldn't this be Obligor for Diversity field and not Parent Company?\n",
    "    # they are the same in our spreadsheet, but maybe need to be careful\n",
    "    test = div_df.groupby(by=['Parent Company','Moodys Industry']).sum()\n",
    "    avg_par_amt = test.sum()/test.count()   \n",
    "    \n",
    "    # create the EU score for each parent\n",
    "    # Lesser of 1 and Issuer Par Amount for such issuer divided by the Average Par Amount.\n",
    "    test['EU'] = test[[weight_col]]/test[[weight_col]].mean()\n",
    "    test.loc[test['EU']>1,'EU']=1\n",
    "    \n",
    "    # groupby Industry for the Ind Div Score\n",
    "    IDS = test.groupby(by=['Moodys Industry']).sum()\n",
    "\n",
    "    # this is like vlookup(..,TRUE) where the nearest match on merge is used, direction controls how\n",
    "    # backward is the lesser if EU falls between AIEUS marks\n",
    "    df_merged = pd.merge_asof(IDS.sort_values('EU'), ind_avg_eu, left_on='EU', \n",
    "                          right_on='Aggregate\\nIndustry\\nEquivalent\\nUnit Score', direction='backward', suffixes=['', '_2'])\n",
    "    dscore = df_merged['Industry\\nDiversity\\nScore'].sum()\n",
    "    return dscore"
   ]
  },
  {
   "cell_type": "code",
   "execution_count": 58,
   "id": "83a2ed32",
   "metadata": {
    "ExecuteTime": {
     "end_time": "2021-06-21T16:33:32.656875Z",
     "start_time": "2021-06-21T16:33:32.640917Z"
    }
   },
   "outputs": [],
   "source": [
    "def weighted_average(model_df,cols):\n",
    "    \"\"\"\n",
    "    Calculates the weighted average variable\n",
    "    Args in:\n",
    "        model_df\n",
    "        cols: must be a list of two elements with the first element\n",
    "                the weighting elements and the second the statistic to be weighted\n",
    "                i.e. ['weight','stat']\n",
    "    Arg out: \n",
    "        wa: scalar\n",
    "    \"\"\"\n",
    "    #wa = model_df[cols].apply(lambda x: (x[0]*x[1]).sum()/x[0].sum())\n",
    "    wa = (model_df[cols[0]]*model_df[cols[1]]).sum()/model_df[cols[0]].sum()\n",
    "    return wa"
   ]
  },
  {
   "cell_type": "code",
   "execution_count": 56,
   "id": "48d503f4",
   "metadata": {
    "ExecuteTime": {
     "end_time": "2021-06-21T16:32:59.393363Z",
     "start_time": "2021-06-21T16:32:59.378403Z"
    }
   },
   "outputs": [],
   "source": [
    "def Weighted_Average_Life_Test(clo_df):\n",
    "    \n",
    "    WAL_value = {'1/9/2021':9.00, '4/9/2021':8.67,'7/9/2021':8.42,'10/9/2021':8.17 ,\n",
    "        '1/9/2022':7.92,'4/9/2022':7.67,'7/9/2022':7.42 ,'10/9/2022':7.17 ,'1/9/2023':6.92 ,\n",
    "        '4/9/2023':6.67 ,'7/9/2023':6.42 ,'10/9/2023':6.17 ,'1/9/2024':5.92 ,'4/9/2024':5.67 ,\n",
    "        '7/9/2024':5.42 ,'10/9/2024':5.17 ,'1/9/2025':4.92 ,'4/9/2025':4.67 ,'7/9/2025':4.42 ,\n",
    "        '10/9/2025':4.17 ,'1/9/2026':3.92 ,'4/9/2026':3.67 ,'7/9/2026':3.42 ,'10/9/2026':3.17 ,\n",
    "        '1/9/2027':2.92 ,'4/9/2027':2.67 ,'7/9/2027':2.42 ,'10/9/2027':2.17 ,'1/9/2028':1.92 ,\n",
    "        '4/9/2028':1.67 ,'7/9/2028':1.42 ,'10/9/2028':1.17 ,'1/9/2029':0.92 ,'4/9/2029':0.67 ,\n",
    "        '7/9/2029':0.42 ,'10/9/2029':0.17 ,'1/9/2030':0.00 ,'4/9/2030':0.00 ,'7/9/2030':0.00 ,\n",
    "        '10/9/2030':0.00 ,'1/9/2031':0.00 ,'4/9/2031':0.00 ,'7/9/2031':0.00 ,'10/9/2031':0.00 ,\n",
    "        '1/9/2032':0.00 ,'4/9/2032':0.00 ,'7/9/2032':0.00 ,'10/9/2032':0.00 ,'1/9/2033':0.00 ,\n",
    "        '4/9/2033':0.00 ,'7/9/2033':0.00 ,'10/9/2033':0.0}\n",
    "    WAL_val = pd.DataFrame.from_dict(WAL_value,orient='index',columns=['Value'])\n",
    "    WAL_val.index = pd.to_datetime(WAL_val.index, dayfirst=False)\n",
    "    clo_df['Maturity Date'] = pd.to_datetime(trustee_df['Maturity Date'], infer_datetime_format=True)\n",
    "    clo_df = pd.merge_asof(clo_df.sort_values('Maturity Date'), WAL_val, left_on='Maturity Date', \n",
    "                          right_on=WAL_val.index, direction='backward', suffixes=['', '_2'])\n",
    "\n",
    "    WAL_stat = weighted_average(clo_df,cols=['S&P CLO Specified Assets','Value'])\n",
    "    \n",
    "    return WAL_stat"
   ]
  },
  {
   "cell_type": "code",
   "execution_count": 44,
   "id": "cc6a6777",
   "metadata": {
    "ExecuteTime": {
     "end_time": "2021-06-21T16:17:07.312195Z",
     "start_time": "2021-06-21T16:17:07.292912Z"
    }
   },
   "outputs": [],
   "source": [
    "WAL_value = {'1/9/2021':9.00, '4/9/2021':8.67,'7/9/2021':8.42,'10/9/2021':8.17 ,\n",
    "        '1/9/2022':7.92,'4/9/2022':7.67,'7/9/2022':7.42 ,'10/9/2022':7.17 ,'1/9/2023':6.92 ,\n",
    "        '4/9/2023':6.67 ,'7/9/2023':6.42 ,'10/9/2023':6.17 ,'1/9/2024':5.92 ,'4/9/2024':5.67 ,\n",
    "        '7/9/2024':5.42 ,'10/9/2024':5.17 ,'1/9/2025':4.92 ,'4/9/2025':4.67 ,'7/9/2025':4.42 ,\n",
    "        '10/9/2025':4.17 ,'1/9/2026':3.92 ,'4/9/2026':3.67 ,'7/9/2026':3.42 ,'10/9/2026':3.17 ,\n",
    "        '1/9/2027':2.92 ,'4/9/2027':2.67 ,'7/9/2027':2.42 ,'10/9/2027':2.17 ,'1/9/2028':1.92 ,\n",
    "        '4/9/2028':1.67 ,'7/9/2028':1.42 ,'10/9/2028':1.17 ,'1/9/2029':0.92 ,'4/9/2029':0.67 ,\n",
    "        '7/9/2029':0.42 ,'10/9/2029':0.17 ,'1/9/2030':0.00 ,'4/9/2030':0.00 ,'7/9/2030':0.00 ,\n",
    "        '10/9/2030':0.00 ,'1/9/2031':0.00 ,'4/9/2031':0.00 ,'7/9/2031':0.00 ,'10/9/2031':0.00 ,\n",
    "        '1/9/2032':0.00 ,'4/9/2032':0.00 ,'7/9/2032':0.00 ,'10/9/2032':0.00 ,'1/9/2033':0.00 ,\n",
    "        '4/9/2033':0.00 ,'7/9/2033':0.00 ,'10/9/2033':0.0}\n",
    "WAL_val = pd.DataFrame.from_dict(WAL_value,orient='index',columns=['Value'])\n",
    "WAL_val.index = pd.to_datetime(WAL_val.index, dayfirst=False)"
   ]
  },
  {
   "cell_type": "code",
   "execution_count": 49,
   "id": "28312394",
   "metadata": {
    "ExecuteTime": {
     "end_time": "2021-06-21T16:19:49.080314Z",
     "start_time": "2021-06-21T16:19:49.061334Z"
    }
   },
   "outputs": [],
   "source": [
    "trustee_df['Maturity Date'] = pd.to_datetime(trustee_df['Maturity Date'], infer_datetime_format=True)"
   ]
  },
  {
   "cell_type": "code",
   "execution_count": 53,
   "id": "f044f02d",
   "metadata": {
    "ExecuteTime": {
     "end_time": "2021-06-21T16:22:58.848210Z",
     "start_time": "2021-06-21T16:22:58.813302Z"
    }
   },
   "outputs": [
    {
     "data": {
      "text/html": [
       "<div>\n",
       "<style scoped>\n",
       "    .dataframe tbody tr th:only-of-type {\n",
       "        vertical-align: middle;\n",
       "    }\n",
       "\n",
       "    .dataframe tbody tr th {\n",
       "        vertical-align: top;\n",
       "    }\n",
       "\n",
       "    .dataframe thead th {\n",
       "        text-align: right;\n",
       "    }\n",
       "</style>\n",
       "<table border=\"1\" class=\"dataframe\">\n",
       "  <thead>\n",
       "    <tr style=\"text-align: right;\">\n",
       "      <th></th>\n",
       "      <th>Issuer</th>\n",
       "      <th>Maturity Date</th>\n",
       "      <th>Value</th>\n",
       "    </tr>\n",
       "  </thead>\n",
       "  <tbody>\n",
       "    <tr>\n",
       "      <th>0</th>\n",
       "      <td>Gruden Acquisition, Inc. (aka Quality Distribu...</td>\n",
       "      <td>2022-08-18</td>\n",
       "      <td>7.42</td>\n",
       "    </tr>\n",
       "    <tr>\n",
       "      <th>1</th>\n",
       "      <td>American Airlines, Inc.</td>\n",
       "      <td>2023-04-28</td>\n",
       "      <td>6.67</td>\n",
       "    </tr>\n",
       "    <tr>\n",
       "      <th>2</th>\n",
       "      <td>CHG Healthcare Services, Inc. (fka CHG Buyer C...</td>\n",
       "      <td>2023-06-07</td>\n",
       "      <td>6.67</td>\n",
       "    </tr>\n",
       "    <tr>\n",
       "      <th>3</th>\n",
       "      <td>Cengage Learning, Inc.</td>\n",
       "      <td>2023-06-07</td>\n",
       "      <td>6.67</td>\n",
       "    </tr>\n",
       "    <tr>\n",
       "      <th>4</th>\n",
       "      <td>Formula One Management Limited</td>\n",
       "      <td>2024-02-01</td>\n",
       "      <td>5.92</td>\n",
       "    </tr>\n",
       "    <tr>\n",
       "      <th>...</th>\n",
       "      <td>...</td>\n",
       "      <td>...</td>\n",
       "      <td>...</td>\n",
       "    </tr>\n",
       "    <tr>\n",
       "      <th>271</th>\n",
       "      <td>Endo Luxembourg Finance Company I S.a r.l.</td>\n",
       "      <td>2029-04-01</td>\n",
       "      <td>0.92</td>\n",
       "    </tr>\n",
       "    <tr>\n",
       "      <th>272</th>\n",
       "      <td>Univision Communications Inc.</td>\n",
       "      <td>2029-05-01</td>\n",
       "      <td>0.67</td>\n",
       "    </tr>\n",
       "    <tr>\n",
       "      <th>273</th>\n",
       "      <td>West Marine, Inc.</td>\n",
       "      <td>2029-05-25</td>\n",
       "      <td>0.67</td>\n",
       "    </tr>\n",
       "    <tr>\n",
       "      <th>274</th>\n",
       "      <td>WMG Acquisition Corp.</td>\n",
       "      <td>2031-02-15</td>\n",
       "      <td>0.00</td>\n",
       "    </tr>\n",
       "    <tr>\n",
       "      <th>275</th>\n",
       "      <td>Calpine Corporation</td>\n",
       "      <td>2031-03-01</td>\n",
       "      <td>0.00</td>\n",
       "    </tr>\n",
       "  </tbody>\n",
       "</table>\n",
       "<p>276 rows × 3 columns</p>\n",
       "</div>"
      ],
      "text/plain": [
       "                                                Issuer Maturity Date  Value\n",
       "0    Gruden Acquisition, Inc. (aka Quality Distribu...    2022-08-18   7.42\n",
       "1                              American Airlines, Inc.    2023-04-28   6.67\n",
       "2    CHG Healthcare Services, Inc. (fka CHG Buyer C...    2023-06-07   6.67\n",
       "3                               Cengage Learning, Inc.    2023-06-07   6.67\n",
       "4                       Formula One Management Limited    2024-02-01   5.92\n",
       "..                                                 ...           ...    ...\n",
       "271         Endo Luxembourg Finance Company I S.a r.l.    2029-04-01   0.92\n",
       "272                      Univision Communications Inc.    2029-05-01   0.67\n",
       "273                                  West Marine, Inc.    2029-05-25   0.67\n",
       "274                              WMG Acquisition Corp.    2031-02-15   0.00\n",
       "275                                Calpine Corporation    2031-03-01   0.00\n",
       "\n",
       "[276 rows x 3 columns]"
      ]
     },
     "execution_count": 53,
     "metadata": {},
     "output_type": "execute_result"
    }
   ],
   "source": [
    "trustee_df = pd.merge_asof(trustee_df.sort_values('Maturity Date'), WAL_val, left_on='Maturity Date', \n",
    "                          right_on=WAL_val.index, direction='backward', suffixes=['', '_2'])\n",
    "\n",
    "trustee_df[['Issuer','Maturity Date','Value']]"
   ]
  },
  {
   "cell_type": "code",
   "execution_count": 62,
   "id": "33c001c0",
   "metadata": {
    "ExecuteTime": {
     "end_time": "2021-06-21T17:11:27.185808Z",
     "start_time": "2021-06-21T17:11:27.151897Z"
    }
   },
   "outputs": [
    {
     "data": {
      "text/plain": [
       "3.5151481447676796"
      ]
     },
     "execution_count": 62,
     "metadata": {},
     "output_type": "execute_result"
    }
   ],
   "source": [
    "Weighted_Average_Life_Test(trustee_df)"
   ]
  },
  {
   "cell_type": "code",
   "execution_count": 77,
   "id": "57c685bc",
   "metadata": {
    "ExecuteTime": {
     "end_time": "2021-06-21T18:16:21.643503Z",
     "start_time": "2021-06-21T18:16:21.582665Z"
    }
   },
   "outputs": [
    {
     "ename": "TypeError",
     "evalue": "can't multiply sequence by non-int of type 'float'",
     "output_type": "error",
     "traceback": [
      "\u001b[1;31m---------------------------------------------------------------------------\u001b[0m",
      "\u001b[1;31mTypeError\u001b[0m                                 Traceback (most recent call last)",
      "\u001b[1;32m~\\Miniconda3\\lib\\site-packages\\pandas\\core\\ops\\array_ops.py\u001b[0m in \u001b[0;36m_na_arithmetic_op\u001b[1;34m(left, right, op, is_cmp)\u001b[0m\n\u001b[0;32m    141\u001b[0m     \u001b[1;32mtry\u001b[0m\u001b[1;33m:\u001b[0m\u001b[1;33m\u001b[0m\u001b[1;33m\u001b[0m\u001b[0m\n\u001b[1;32m--> 142\u001b[1;33m         \u001b[0mresult\u001b[0m \u001b[1;33m=\u001b[0m \u001b[0mexpressions\u001b[0m\u001b[1;33m.\u001b[0m\u001b[0mevaluate\u001b[0m\u001b[1;33m(\u001b[0m\u001b[0mop\u001b[0m\u001b[1;33m,\u001b[0m \u001b[0mleft\u001b[0m\u001b[1;33m,\u001b[0m \u001b[0mright\u001b[0m\u001b[1;33m)\u001b[0m\u001b[1;33m\u001b[0m\u001b[1;33m\u001b[0m\u001b[0m\n\u001b[0m\u001b[0;32m    143\u001b[0m     \u001b[1;32mexcept\u001b[0m \u001b[0mTypeError\u001b[0m\u001b[1;33m:\u001b[0m\u001b[1;33m\u001b[0m\u001b[1;33m\u001b[0m\u001b[0m\n",
      "\u001b[1;32m~\\Miniconda3\\lib\\site-packages\\pandas\\core\\computation\\expressions.py\u001b[0m in \u001b[0;36mevaluate\u001b[1;34m(op, a, b, use_numexpr)\u001b[0m\n\u001b[0;32m    234\u001b[0m             \u001b[1;31m# error: \"None\" not callable\u001b[0m\u001b[1;33m\u001b[0m\u001b[1;33m\u001b[0m\u001b[1;33m\u001b[0m\u001b[0m\n\u001b[1;32m--> 235\u001b[1;33m             \u001b[1;32mreturn\u001b[0m \u001b[0m_evaluate\u001b[0m\u001b[1;33m(\u001b[0m\u001b[0mop\u001b[0m\u001b[1;33m,\u001b[0m \u001b[0mop_str\u001b[0m\u001b[1;33m,\u001b[0m \u001b[0ma\u001b[0m\u001b[1;33m,\u001b[0m \u001b[0mb\u001b[0m\u001b[1;33m)\u001b[0m  \u001b[1;31m# type: ignore[misc]\u001b[0m\u001b[1;33m\u001b[0m\u001b[1;33m\u001b[0m\u001b[0m\n\u001b[0m\u001b[0;32m    236\u001b[0m     \u001b[1;32mreturn\u001b[0m \u001b[0m_evaluate_standard\u001b[0m\u001b[1;33m(\u001b[0m\u001b[0mop\u001b[0m\u001b[1;33m,\u001b[0m \u001b[0mop_str\u001b[0m\u001b[1;33m,\u001b[0m \u001b[0ma\u001b[0m\u001b[1;33m,\u001b[0m \u001b[0mb\u001b[0m\u001b[1;33m)\u001b[0m\u001b[1;33m\u001b[0m\u001b[1;33m\u001b[0m\u001b[0m\n",
      "\u001b[1;32m~\\Miniconda3\\lib\\site-packages\\pandas\\core\\computation\\expressions.py\u001b[0m in \u001b[0;36m_evaluate_standard\u001b[1;34m(op, op_str, a, b)\u001b[0m\n\u001b[0;32m     68\u001b[0m     \u001b[1;32mwith\u001b[0m \u001b[0mnp\u001b[0m\u001b[1;33m.\u001b[0m\u001b[0merrstate\u001b[0m\u001b[1;33m(\u001b[0m\u001b[0mall\u001b[0m\u001b[1;33m=\u001b[0m\u001b[1;34m\"ignore\"\u001b[0m\u001b[1;33m)\u001b[0m\u001b[1;33m:\u001b[0m\u001b[1;33m\u001b[0m\u001b[1;33m\u001b[0m\u001b[0m\n\u001b[1;32m---> 69\u001b[1;33m         \u001b[1;32mreturn\u001b[0m \u001b[0mop\u001b[0m\u001b[1;33m(\u001b[0m\u001b[0ma\u001b[0m\u001b[1;33m,\u001b[0m \u001b[0mb\u001b[0m\u001b[1;33m)\u001b[0m\u001b[1;33m\u001b[0m\u001b[1;33m\u001b[0m\u001b[0m\n\u001b[0m\u001b[0;32m     70\u001b[0m \u001b[1;33m\u001b[0m\u001b[0m\n",
      "\u001b[1;31mTypeError\u001b[0m: can't multiply sequence by non-int of type 'float'",
      "\nDuring handling of the above exception, another exception occurred:\n",
      "\u001b[1;31mTypeError\u001b[0m                                 Traceback (most recent call last)",
      "\u001b[1;32m<ipython-input-77-de9f8c41c13f>\u001b[0m in \u001b[0;36m<module>\u001b[1;34m\u001b[0m\n\u001b[1;32m----> 1\u001b[1;33m \u001b[0mPort_stats\u001b[0m\u001b[1;33m(\u001b[0m\u001b[0mtrustee_df\u001b[0m\u001b[1;33m,\u001b[0m \u001b[0mweight_col\u001b[0m\u001b[1;33m=\u001b[0m\u001b[1;34m'Principal Balance'\u001b[0m\u001b[1;33m)\u001b[0m\u001b[1;33m\u001b[0m\u001b[1;33m\u001b[0m\u001b[0m\n\u001b[0m",
      "\u001b[1;32m<ipython-input-67-f3022837f0c1>\u001b[0m in \u001b[0;36mPort_stats\u001b[1;34m(model_df, weight_col, format_output)\u001b[0m\n\u001b[0;32m     55\u001b[0m \u001b[1;33m\u001b[0m\u001b[0m\n\u001b[0;32m     56\u001b[0m     \u001b[0mPort_stats_df\u001b[0m\u001b[1;33m.\u001b[0m\u001b[0mloc\u001b[0m\u001b[1;33m[\u001b[0m\u001b[1;34m'Max Moodys Rating Factor Test (NEW WARF)'\u001b[0m\u001b[1;33m,\u001b[0m\u001b[1;34m'Portfolio Stats'\u001b[0m\u001b[1;33m]\u001b[0m \u001b[1;33m=\u001b[0m\u001b[0;31m \u001b[0m\u001b[0;31m\\\u001b[0m\u001b[1;33m\u001b[0m\u001b[1;33m\u001b[0m\u001b[0m\n\u001b[1;32m---> 57\u001b[1;33m         \u001b[0mweighted_average\u001b[0m\u001b[1;33m(\u001b[0m\u001b[0mmodel_df\u001b[0m\u001b[1;33m,\u001b[0m\u001b[0mcols\u001b[0m\u001b[1;33m=\u001b[0m\u001b[1;33m[\u001b[0m\u001b[0mweight_col\u001b[0m\u001b[1;33m,\u001b[0m\u001b[1;34m'Adjusted Moody\\'s WARF Rating'\u001b[0m\u001b[1;33m]\u001b[0m\u001b[1;33m)\u001b[0m\u001b[1;33m\u001b[0m\u001b[1;33m\u001b[0m\u001b[0m\n\u001b[0m\u001b[0;32m     58\u001b[0m \u001b[1;33m\u001b[0m\u001b[0m\n\u001b[0;32m     59\u001b[0m     \u001b[1;31m#Port_stats_df.loc['Max Moodys Rating Factor Test (Orig WARF)','Portfolio Stats'] = \\\u001b[0m\u001b[1;33m\u001b[0m\u001b[1;33m\u001b[0m\u001b[1;33m\u001b[0m\u001b[0m\n",
      "\u001b[1;32m<ipython-input-58-eedaa6ff8297>\u001b[0m in \u001b[0;36mweighted_average\u001b[1;34m(model_df, cols)\u001b[0m\n\u001b[0;32m     11\u001b[0m     \"\"\"\n\u001b[0;32m     12\u001b[0m     \u001b[1;31m#wa = model_df[cols].apply(lambda x: (x[0]*x[1]).sum()/x[0].sum())\u001b[0m\u001b[1;33m\u001b[0m\u001b[1;33m\u001b[0m\u001b[1;33m\u001b[0m\u001b[0m\n\u001b[1;32m---> 13\u001b[1;33m     \u001b[0mwa\u001b[0m \u001b[1;33m=\u001b[0m \u001b[1;33m(\u001b[0m\u001b[0mmodel_df\u001b[0m\u001b[1;33m[\u001b[0m\u001b[0mcols\u001b[0m\u001b[1;33m[\u001b[0m\u001b[1;36m0\u001b[0m\u001b[1;33m]\u001b[0m\u001b[1;33m]\u001b[0m\u001b[1;33m*\u001b[0m\u001b[0mmodel_df\u001b[0m\u001b[1;33m[\u001b[0m\u001b[0mcols\u001b[0m\u001b[1;33m[\u001b[0m\u001b[1;36m1\u001b[0m\u001b[1;33m]\u001b[0m\u001b[1;33m]\u001b[0m\u001b[1;33m)\u001b[0m\u001b[1;33m.\u001b[0m\u001b[0msum\u001b[0m\u001b[1;33m(\u001b[0m\u001b[1;33m)\u001b[0m\u001b[1;33m/\u001b[0m\u001b[0mmodel_df\u001b[0m\u001b[1;33m[\u001b[0m\u001b[0mcols\u001b[0m\u001b[1;33m[\u001b[0m\u001b[1;36m0\u001b[0m\u001b[1;33m]\u001b[0m\u001b[1;33m]\u001b[0m\u001b[1;33m.\u001b[0m\u001b[0msum\u001b[0m\u001b[1;33m(\u001b[0m\u001b[1;33m)\u001b[0m\u001b[1;33m\u001b[0m\u001b[1;33m\u001b[0m\u001b[0m\n\u001b[0m\u001b[0;32m     14\u001b[0m     \u001b[1;32mreturn\u001b[0m \u001b[0mwa\u001b[0m\u001b[1;33m\u001b[0m\u001b[1;33m\u001b[0m\u001b[0m\n",
      "\u001b[1;32m~\\Miniconda3\\lib\\site-packages\\pandas\\core\\ops\\common.py\u001b[0m in \u001b[0;36mnew_method\u001b[1;34m(self, other)\u001b[0m\n\u001b[0;32m     63\u001b[0m         \u001b[0mother\u001b[0m \u001b[1;33m=\u001b[0m \u001b[0mitem_from_zerodim\u001b[0m\u001b[1;33m(\u001b[0m\u001b[0mother\u001b[0m\u001b[1;33m)\u001b[0m\u001b[1;33m\u001b[0m\u001b[1;33m\u001b[0m\u001b[0m\n\u001b[0;32m     64\u001b[0m \u001b[1;33m\u001b[0m\u001b[0m\n\u001b[1;32m---> 65\u001b[1;33m         \u001b[1;32mreturn\u001b[0m \u001b[0mmethod\u001b[0m\u001b[1;33m(\u001b[0m\u001b[0mself\u001b[0m\u001b[1;33m,\u001b[0m \u001b[0mother\u001b[0m\u001b[1;33m)\u001b[0m\u001b[1;33m\u001b[0m\u001b[1;33m\u001b[0m\u001b[0m\n\u001b[0m\u001b[0;32m     66\u001b[0m \u001b[1;33m\u001b[0m\u001b[0m\n\u001b[0;32m     67\u001b[0m     \u001b[1;32mreturn\u001b[0m \u001b[0mnew_method\u001b[0m\u001b[1;33m\u001b[0m\u001b[1;33m\u001b[0m\u001b[0m\n",
      "\u001b[1;32m~\\Miniconda3\\lib\\site-packages\\pandas\\core\\arraylike.py\u001b[0m in \u001b[0;36m__mul__\u001b[1;34m(self, other)\u001b[0m\n\u001b[0;32m    103\u001b[0m     \u001b[1;33m@\u001b[0m\u001b[0munpack_zerodim_and_defer\u001b[0m\u001b[1;33m(\u001b[0m\u001b[1;34m\"__mul__\"\u001b[0m\u001b[1;33m)\u001b[0m\u001b[1;33m\u001b[0m\u001b[1;33m\u001b[0m\u001b[0m\n\u001b[0;32m    104\u001b[0m     \u001b[1;32mdef\u001b[0m \u001b[0m__mul__\u001b[0m\u001b[1;33m(\u001b[0m\u001b[0mself\u001b[0m\u001b[1;33m,\u001b[0m \u001b[0mother\u001b[0m\u001b[1;33m)\u001b[0m\u001b[1;33m:\u001b[0m\u001b[1;33m\u001b[0m\u001b[1;33m\u001b[0m\u001b[0m\n\u001b[1;32m--> 105\u001b[1;33m         \u001b[1;32mreturn\u001b[0m \u001b[0mself\u001b[0m\u001b[1;33m.\u001b[0m\u001b[0m_arith_method\u001b[0m\u001b[1;33m(\u001b[0m\u001b[0mother\u001b[0m\u001b[1;33m,\u001b[0m \u001b[0moperator\u001b[0m\u001b[1;33m.\u001b[0m\u001b[0mmul\u001b[0m\u001b[1;33m)\u001b[0m\u001b[1;33m\u001b[0m\u001b[1;33m\u001b[0m\u001b[0m\n\u001b[0m\u001b[0;32m    106\u001b[0m \u001b[1;33m\u001b[0m\u001b[0m\n\u001b[0;32m    107\u001b[0m     \u001b[1;33m@\u001b[0m\u001b[0munpack_zerodim_and_defer\u001b[0m\u001b[1;33m(\u001b[0m\u001b[1;34m\"__rmul__\"\u001b[0m\u001b[1;33m)\u001b[0m\u001b[1;33m\u001b[0m\u001b[1;33m\u001b[0m\u001b[0m\n",
      "\u001b[1;32m~\\Miniconda3\\lib\\site-packages\\pandas\\core\\series.py\u001b[0m in \u001b[0;36m_arith_method\u001b[1;34m(self, other, op)\u001b[0m\n\u001b[0;32m   4996\u001b[0m         \u001b[0mlvalues\u001b[0m \u001b[1;33m=\u001b[0m \u001b[0mextract_array\u001b[0m\u001b[1;33m(\u001b[0m\u001b[0mself\u001b[0m\u001b[1;33m,\u001b[0m \u001b[0mextract_numpy\u001b[0m\u001b[1;33m=\u001b[0m\u001b[1;32mTrue\u001b[0m\u001b[1;33m)\u001b[0m\u001b[1;33m\u001b[0m\u001b[1;33m\u001b[0m\u001b[0m\n\u001b[0;32m   4997\u001b[0m         \u001b[0mrvalues\u001b[0m \u001b[1;33m=\u001b[0m \u001b[0mextract_array\u001b[0m\u001b[1;33m(\u001b[0m\u001b[0mother\u001b[0m\u001b[1;33m,\u001b[0m \u001b[0mextract_numpy\u001b[0m\u001b[1;33m=\u001b[0m\u001b[1;32mTrue\u001b[0m\u001b[1;33m)\u001b[0m\u001b[1;33m\u001b[0m\u001b[1;33m\u001b[0m\u001b[0m\n\u001b[1;32m-> 4998\u001b[1;33m         \u001b[0mresult\u001b[0m \u001b[1;33m=\u001b[0m \u001b[0mops\u001b[0m\u001b[1;33m.\u001b[0m\u001b[0marithmetic_op\u001b[0m\u001b[1;33m(\u001b[0m\u001b[0mlvalues\u001b[0m\u001b[1;33m,\u001b[0m \u001b[0mrvalues\u001b[0m\u001b[1;33m,\u001b[0m \u001b[0mop\u001b[0m\u001b[1;33m)\u001b[0m\u001b[1;33m\u001b[0m\u001b[1;33m\u001b[0m\u001b[0m\n\u001b[0m\u001b[0;32m   4999\u001b[0m \u001b[1;33m\u001b[0m\u001b[0m\n\u001b[0;32m   5000\u001b[0m         \u001b[1;32mreturn\u001b[0m \u001b[0mself\u001b[0m\u001b[1;33m.\u001b[0m\u001b[0m_construct_result\u001b[0m\u001b[1;33m(\u001b[0m\u001b[0mresult\u001b[0m\u001b[1;33m,\u001b[0m \u001b[0mname\u001b[0m\u001b[1;33m=\u001b[0m\u001b[0mres_name\u001b[0m\u001b[1;33m)\u001b[0m\u001b[1;33m\u001b[0m\u001b[1;33m\u001b[0m\u001b[0m\n",
      "\u001b[1;32m~\\Miniconda3\\lib\\site-packages\\pandas\\core\\ops\\array_ops.py\u001b[0m in \u001b[0;36marithmetic_op\u001b[1;34m(left, right, op)\u001b[0m\n\u001b[0;32m    187\u001b[0m     \u001b[1;32melse\u001b[0m\u001b[1;33m:\u001b[0m\u001b[1;33m\u001b[0m\u001b[1;33m\u001b[0m\u001b[0m\n\u001b[0;32m    188\u001b[0m         \u001b[1;32mwith\u001b[0m \u001b[0mnp\u001b[0m\u001b[1;33m.\u001b[0m\u001b[0merrstate\u001b[0m\u001b[1;33m(\u001b[0m\u001b[0mall\u001b[0m\u001b[1;33m=\u001b[0m\u001b[1;34m\"ignore\"\u001b[0m\u001b[1;33m)\u001b[0m\u001b[1;33m:\u001b[0m\u001b[1;33m\u001b[0m\u001b[1;33m\u001b[0m\u001b[0m\n\u001b[1;32m--> 189\u001b[1;33m             \u001b[0mres_values\u001b[0m \u001b[1;33m=\u001b[0m \u001b[0m_na_arithmetic_op\u001b[0m\u001b[1;33m(\u001b[0m\u001b[0mlvalues\u001b[0m\u001b[1;33m,\u001b[0m \u001b[0mrvalues\u001b[0m\u001b[1;33m,\u001b[0m \u001b[0mop\u001b[0m\u001b[1;33m)\u001b[0m\u001b[1;33m\u001b[0m\u001b[1;33m\u001b[0m\u001b[0m\n\u001b[0m\u001b[0;32m    190\u001b[0m \u001b[1;33m\u001b[0m\u001b[0m\n\u001b[0;32m    191\u001b[0m     \u001b[1;32mreturn\u001b[0m \u001b[0mres_values\u001b[0m\u001b[1;33m\u001b[0m\u001b[1;33m\u001b[0m\u001b[0m\n",
      "\u001b[1;32m~\\Miniconda3\\lib\\site-packages\\pandas\\core\\ops\\array_ops.py\u001b[0m in \u001b[0;36m_na_arithmetic_op\u001b[1;34m(left, right, op, is_cmp)\u001b[0m\n\u001b[0;32m    147\u001b[0m             \u001b[1;31m#  will handle complex numbers incorrectly, see GH#32047\u001b[0m\u001b[1;33m\u001b[0m\u001b[1;33m\u001b[0m\u001b[1;33m\u001b[0m\u001b[0m\n\u001b[0;32m    148\u001b[0m             \u001b[1;32mraise\u001b[0m\u001b[1;33m\u001b[0m\u001b[1;33m\u001b[0m\u001b[0m\n\u001b[1;32m--> 149\u001b[1;33m         \u001b[0mresult\u001b[0m \u001b[1;33m=\u001b[0m \u001b[0m_masked_arith_op\u001b[0m\u001b[1;33m(\u001b[0m\u001b[0mleft\u001b[0m\u001b[1;33m,\u001b[0m \u001b[0mright\u001b[0m\u001b[1;33m,\u001b[0m \u001b[0mop\u001b[0m\u001b[1;33m)\u001b[0m\u001b[1;33m\u001b[0m\u001b[1;33m\u001b[0m\u001b[0m\n\u001b[0m\u001b[0;32m    150\u001b[0m \u001b[1;33m\u001b[0m\u001b[0m\n\u001b[0;32m    151\u001b[0m     \u001b[1;32mif\u001b[0m \u001b[0mis_cmp\u001b[0m \u001b[1;32mand\u001b[0m \u001b[1;33m(\u001b[0m\u001b[0mis_scalar\u001b[0m\u001b[1;33m(\u001b[0m\u001b[0mresult\u001b[0m\u001b[1;33m)\u001b[0m \u001b[1;32mor\u001b[0m \u001b[0mresult\u001b[0m \u001b[1;32mis\u001b[0m \u001b[0mNotImplemented\u001b[0m\u001b[1;33m)\u001b[0m\u001b[1;33m:\u001b[0m\u001b[1;33m\u001b[0m\u001b[1;33m\u001b[0m\u001b[0m\n",
      "\u001b[1;32m~\\Miniconda3\\lib\\site-packages\\pandas\\core\\ops\\array_ops.py\u001b[0m in \u001b[0;36m_masked_arith_op\u001b[1;34m(x, y, op)\u001b[0m\n\u001b[0;32m     89\u001b[0m         \u001b[1;32mif\u001b[0m \u001b[0mmask\u001b[0m\u001b[1;33m.\u001b[0m\u001b[0many\u001b[0m\u001b[1;33m(\u001b[0m\u001b[1;33m)\u001b[0m\u001b[1;33m:\u001b[0m\u001b[1;33m\u001b[0m\u001b[1;33m\u001b[0m\u001b[0m\n\u001b[0;32m     90\u001b[0m             \u001b[1;32mwith\u001b[0m \u001b[0mnp\u001b[0m\u001b[1;33m.\u001b[0m\u001b[0merrstate\u001b[0m\u001b[1;33m(\u001b[0m\u001b[0mall\u001b[0m\u001b[1;33m=\u001b[0m\u001b[1;34m\"ignore\"\u001b[0m\u001b[1;33m)\u001b[0m\u001b[1;33m:\u001b[0m\u001b[1;33m\u001b[0m\u001b[1;33m\u001b[0m\u001b[0m\n\u001b[1;32m---> 91\u001b[1;33m                 \u001b[0mresult\u001b[0m\u001b[1;33m[\u001b[0m\u001b[0mmask\u001b[0m\u001b[1;33m]\u001b[0m \u001b[1;33m=\u001b[0m \u001b[0mop\u001b[0m\u001b[1;33m(\u001b[0m\u001b[0mxrav\u001b[0m\u001b[1;33m[\u001b[0m\u001b[0mmask\u001b[0m\u001b[1;33m]\u001b[0m\u001b[1;33m,\u001b[0m \u001b[0myrav\u001b[0m\u001b[1;33m[\u001b[0m\u001b[0mmask\u001b[0m\u001b[1;33m]\u001b[0m\u001b[1;33m)\u001b[0m\u001b[1;33m\u001b[0m\u001b[1;33m\u001b[0m\u001b[0m\n\u001b[0m\u001b[0;32m     92\u001b[0m \u001b[1;33m\u001b[0m\u001b[0m\n\u001b[0;32m     93\u001b[0m     \u001b[1;32melse\u001b[0m\u001b[1;33m:\u001b[0m\u001b[1;33m\u001b[0m\u001b[1;33m\u001b[0m\u001b[0m\n",
      "\u001b[1;31mTypeError\u001b[0m: can't multiply sequence by non-int of type 'float'"
     ]
    }
   ],
   "source": [
    "Port_stats(trustee_df, weight_col='Principal Balance')"
   ]
  },
  {
   "cell_type": "code",
   "execution_count": 74,
   "id": "6145771a",
   "metadata": {
    "ExecuteTime": {
     "end_time": "2021-06-21T18:02:07.940377Z",
     "start_time": "2021-06-21T18:02:07.924418Z"
    }
   },
   "outputs": [],
   "source": [
    "def moodys_adjusted_warf(df):\n",
    "    \"\"\"\n",
    "    This function creates the new Moody's Ratings Factor based \n",
    "    on the old Moody's rating.\n",
    "    \n",
    "    Arg in:\n",
    "        df: the input data frame (from the MASTER table d/l'd from BMS)     \n",
    "    \"\"\"\n",
    "    \n",
    "    # moodys_score: dataframe with alphanumeric rating to numeric map (1 to 1 map; linear)\n",
    "    moodys_score = pd.DataFrame([[ 'Aaa',1],['Aa1',2],['Aa2',3],['Aa3',4],\n",
    "              ['A1',5],['A2',6],['A3',7],['Baa1',8],['Baa2',9],\n",
    "              ['Baa3',10],['Ba1',11],['Ba2',12],['Ba3',13],\n",
    "              ['B1',14],['B2',15],['B3',16],['Caa1',17],\n",
    "              ['Caa2',18],['Caa3',19],['Ca',20],['C',21]],columns=['Moodys','Score'])\n",
    "    \n",
    "    # moodys_rfTable: dataframe with alphanumeric rating to new WARF numeric (1 to 1 map; 1 to 1000 values)\n",
    "    moodys_rfTable = pd.DataFrame([[ 'Aaa',1],['Aa1',10],['Aa2',20],['Aa3',40],\n",
    "              ['A1',70],['A2',120],['A3',180],['Baa1',260],['Baa2',360],\n",
    "              ['Baa3',610],['Ba1',940],['Ba2',1350],['Ba3',1766],\n",
    "              ['B1',2220],['B2',2720],['B3',3490],['Caa1',4770],\n",
    "              ['Caa2',6500],['Caa3',8070],['Ca',10000],['C',10000],\n",
    "              ['NR',10000],['W/D',10000]],columns=['Moody\\'s Rating Factor Table','RF'])\n",
    "    \n",
    "    score = df['Moody\\'s Default Probability Rating'].map(dict(moodys_score[['Moodys','Score']].values))\n",
    "    updown = df['Moodys Issuer Watch'].\\\n",
    "        apply(lambda x: -1 if x == 'Possible Upgrade' else 1 if x == 'Possible Downgrade' else 0)\n",
    "    aScore = score + updown\n",
    "    Adjusted_CFR_for_WARF = aScore.map(dict(moodys_score[['Score','Moodys']].values))\n",
    "    # I keep the same column name as Jeff to make it easier to double check values\n",
    "    df['Adj. WARF NEW'] = Adjusted_CFR_for_WARF.map(dict(moodys_rfTable[['Moody\\'s Rating Factor Table','RF']].values))\n",
    "    return df"
   ]
  },
  {
   "cell_type": "code",
   "execution_count": null,
   "id": "3a390d31",
   "metadata": {},
   "outputs": [],
   "source": [
    "def sp_grf(df):\n",
    "    sp_grf = pd.DataFrame([['AAA',13.51],['AA+',26.75],['AA',46.36],['AA-',63.90],\n",
    "                            ['A+',99.50],['A',146.35],['A-',199.83],['BBB+',271.01],\n",
    "                            ['BBB',361.17],['BBB-',540.42],['BB+',784.92],['BB',1233.63],\n",
    "                            ['BB-',1565.44],['B+',1982.00],['B',2859.50],['B-',3610.11],\n",
    "                            ['CCC+',4641.40],['CCC',5293.00],['CCC-',5751.00],['CC',10000.00],\n",
    "                            ['SD',10000.00],['D',10000.00]],columns = ['S&P Rating','S&P Global Ratings Factor'])\n",
    "    df['S&P Global Ratings Factor'] = df.map(dict(sp_grf[['S&P Rating','S&P Global Ratings Factor']].values))\n",
    "    return df"
   ]
  },
  {
   "cell_type": "code",
   "execution_count": 75,
   "id": "83894707",
   "metadata": {
    "ExecuteTime": {
     "end_time": "2021-06-21T18:02:08.468966Z",
     "start_time": "2021-06-21T18:02:08.337318Z"
    }
   },
   "outputs": [
    {
     "ename": "KeyError",
     "evalue": "'Moodys Issuer Watch'",
     "output_type": "error",
     "traceback": [
      "\u001b[1;31m---------------------------------------------------------------------------\u001b[0m",
      "\u001b[1;31mKeyError\u001b[0m                                  Traceback (most recent call last)",
      "\u001b[1;32m~\\Miniconda3\\lib\\site-packages\\pandas\\core\\indexes\\base.py\u001b[0m in \u001b[0;36mget_loc\u001b[1;34m(self, key, method, tolerance)\u001b[0m\n\u001b[0;32m   3079\u001b[0m             \u001b[1;32mtry\u001b[0m\u001b[1;33m:\u001b[0m\u001b[1;33m\u001b[0m\u001b[1;33m\u001b[0m\u001b[0m\n\u001b[1;32m-> 3080\u001b[1;33m                 \u001b[1;32mreturn\u001b[0m \u001b[0mself\u001b[0m\u001b[1;33m.\u001b[0m\u001b[0m_engine\u001b[0m\u001b[1;33m.\u001b[0m\u001b[0mget_loc\u001b[0m\u001b[1;33m(\u001b[0m\u001b[0mcasted_key\u001b[0m\u001b[1;33m)\u001b[0m\u001b[1;33m\u001b[0m\u001b[1;33m\u001b[0m\u001b[0m\n\u001b[0m\u001b[0;32m   3081\u001b[0m             \u001b[1;32mexcept\u001b[0m \u001b[0mKeyError\u001b[0m \u001b[1;32mas\u001b[0m \u001b[0merr\u001b[0m\u001b[1;33m:\u001b[0m\u001b[1;33m\u001b[0m\u001b[1;33m\u001b[0m\u001b[0m\n",
      "\u001b[1;32mpandas\\_libs\\index.pyx\u001b[0m in \u001b[0;36mpandas._libs.index.IndexEngine.get_loc\u001b[1;34m()\u001b[0m\n",
      "\u001b[1;32mpandas\\_libs\\index.pyx\u001b[0m in \u001b[0;36mpandas._libs.index.IndexEngine.get_loc\u001b[1;34m()\u001b[0m\n",
      "\u001b[1;32mpandas\\_libs\\hashtable_class_helper.pxi\u001b[0m in \u001b[0;36mpandas._libs.hashtable.PyObjectHashTable.get_item\u001b[1;34m()\u001b[0m\n",
      "\u001b[1;32mpandas\\_libs\\hashtable_class_helper.pxi\u001b[0m in \u001b[0;36mpandas._libs.hashtable.PyObjectHashTable.get_item\u001b[1;34m()\u001b[0m\n",
      "\u001b[1;31mKeyError\u001b[0m: 'Moodys Issuer Watch'",
      "\nThe above exception was the direct cause of the following exception:\n",
      "\u001b[1;31mKeyError\u001b[0m                                  Traceback (most recent call last)",
      "\u001b[1;32m<ipython-input-75-0db8592b9575>\u001b[0m in \u001b[0;36m<module>\u001b[1;34m\u001b[0m\n\u001b[1;32m----> 1\u001b[1;33m \u001b[0mmoodys_adjusted_warf\u001b[0m\u001b[1;33m(\u001b[0m\u001b[0mtrustee_df\u001b[0m\u001b[1;33m)\u001b[0m\u001b[1;33m\u001b[0m\u001b[1;33m\u001b[0m\u001b[0m\n\u001b[0m",
      "\u001b[1;32m<ipython-input-74-e9fe230eb8e4>\u001b[0m in \u001b[0;36mmoodys_adjusted_warf\u001b[1;34m(df)\u001b[0m\n\u001b[0;32m     26\u001b[0m \u001b[1;33m\u001b[0m\u001b[0m\n\u001b[0;32m     27\u001b[0m     \u001b[0mscore\u001b[0m \u001b[1;33m=\u001b[0m \u001b[0mdf\u001b[0m\u001b[1;33m[\u001b[0m\u001b[1;34m'Moody\\'s Default Probability Rating'\u001b[0m\u001b[1;33m]\u001b[0m\u001b[1;33m.\u001b[0m\u001b[0mmap\u001b[0m\u001b[1;33m(\u001b[0m\u001b[0mdict\u001b[0m\u001b[1;33m(\u001b[0m\u001b[0mmoodys_score\u001b[0m\u001b[1;33m[\u001b[0m\u001b[1;33m[\u001b[0m\u001b[1;34m'Moodys'\u001b[0m\u001b[1;33m,\u001b[0m\u001b[1;34m'Score'\u001b[0m\u001b[1;33m]\u001b[0m\u001b[1;33m]\u001b[0m\u001b[1;33m.\u001b[0m\u001b[0mvalues\u001b[0m\u001b[1;33m)\u001b[0m\u001b[1;33m)\u001b[0m\u001b[1;33m\u001b[0m\u001b[1;33m\u001b[0m\u001b[0m\n\u001b[1;32m---> 28\u001b[1;33m     \u001b[0mupdown\u001b[0m \u001b[1;33m=\u001b[0m \u001b[0mdf\u001b[0m\u001b[1;33m[\u001b[0m\u001b[1;34m'Moodys Issuer Watch'\u001b[0m\u001b[1;33m]\u001b[0m\u001b[1;33m.\u001b[0m\u001b[0;31m\\\u001b[0m\u001b[1;33m\u001b[0m\u001b[1;33m\u001b[0m\u001b[0m\n\u001b[0m\u001b[0;32m     29\u001b[0m         \u001b[0mapply\u001b[0m\u001b[1;33m(\u001b[0m\u001b[1;32mlambda\u001b[0m \u001b[0mx\u001b[0m\u001b[1;33m:\u001b[0m \u001b[1;33m-\u001b[0m\u001b[1;36m1\u001b[0m \u001b[1;32mif\u001b[0m \u001b[0mx\u001b[0m \u001b[1;33m==\u001b[0m \u001b[1;34m'Possible Upgrade'\u001b[0m \u001b[1;32melse\u001b[0m \u001b[1;36m1\u001b[0m \u001b[1;32mif\u001b[0m \u001b[0mx\u001b[0m \u001b[1;33m==\u001b[0m \u001b[1;34m'Possible Downgrade'\u001b[0m \u001b[1;32melse\u001b[0m \u001b[1;36m0\u001b[0m\u001b[1;33m)\u001b[0m\u001b[1;33m\u001b[0m\u001b[1;33m\u001b[0m\u001b[0m\n\u001b[0;32m     30\u001b[0m     \u001b[0maScore\u001b[0m \u001b[1;33m=\u001b[0m \u001b[0mscore\u001b[0m \u001b[1;33m+\u001b[0m \u001b[0mupdown\u001b[0m\u001b[1;33m\u001b[0m\u001b[1;33m\u001b[0m\u001b[0m\n",
      "\u001b[1;32m~\\Miniconda3\\lib\\site-packages\\pandas\\core\\frame.py\u001b[0m in \u001b[0;36m__getitem__\u001b[1;34m(self, key)\u001b[0m\n\u001b[0;32m   3022\u001b[0m             \u001b[1;32mif\u001b[0m \u001b[0mself\u001b[0m\u001b[1;33m.\u001b[0m\u001b[0mcolumns\u001b[0m\u001b[1;33m.\u001b[0m\u001b[0mnlevels\u001b[0m \u001b[1;33m>\u001b[0m \u001b[1;36m1\u001b[0m\u001b[1;33m:\u001b[0m\u001b[1;33m\u001b[0m\u001b[1;33m\u001b[0m\u001b[0m\n\u001b[0;32m   3023\u001b[0m                 \u001b[1;32mreturn\u001b[0m \u001b[0mself\u001b[0m\u001b[1;33m.\u001b[0m\u001b[0m_getitem_multilevel\u001b[0m\u001b[1;33m(\u001b[0m\u001b[0mkey\u001b[0m\u001b[1;33m)\u001b[0m\u001b[1;33m\u001b[0m\u001b[1;33m\u001b[0m\u001b[0m\n\u001b[1;32m-> 3024\u001b[1;33m             \u001b[0mindexer\u001b[0m \u001b[1;33m=\u001b[0m \u001b[0mself\u001b[0m\u001b[1;33m.\u001b[0m\u001b[0mcolumns\u001b[0m\u001b[1;33m.\u001b[0m\u001b[0mget_loc\u001b[0m\u001b[1;33m(\u001b[0m\u001b[0mkey\u001b[0m\u001b[1;33m)\u001b[0m\u001b[1;33m\u001b[0m\u001b[1;33m\u001b[0m\u001b[0m\n\u001b[0m\u001b[0;32m   3025\u001b[0m             \u001b[1;32mif\u001b[0m \u001b[0mis_integer\u001b[0m\u001b[1;33m(\u001b[0m\u001b[0mindexer\u001b[0m\u001b[1;33m)\u001b[0m\u001b[1;33m:\u001b[0m\u001b[1;33m\u001b[0m\u001b[1;33m\u001b[0m\u001b[0m\n\u001b[0;32m   3026\u001b[0m                 \u001b[0mindexer\u001b[0m \u001b[1;33m=\u001b[0m \u001b[1;33m[\u001b[0m\u001b[0mindexer\u001b[0m\u001b[1;33m]\u001b[0m\u001b[1;33m\u001b[0m\u001b[1;33m\u001b[0m\u001b[0m\n",
      "\u001b[1;32m~\\Miniconda3\\lib\\site-packages\\pandas\\core\\indexes\\base.py\u001b[0m in \u001b[0;36mget_loc\u001b[1;34m(self, key, method, tolerance)\u001b[0m\n\u001b[0;32m   3080\u001b[0m                 \u001b[1;32mreturn\u001b[0m \u001b[0mself\u001b[0m\u001b[1;33m.\u001b[0m\u001b[0m_engine\u001b[0m\u001b[1;33m.\u001b[0m\u001b[0mget_loc\u001b[0m\u001b[1;33m(\u001b[0m\u001b[0mcasted_key\u001b[0m\u001b[1;33m)\u001b[0m\u001b[1;33m\u001b[0m\u001b[1;33m\u001b[0m\u001b[0m\n\u001b[0;32m   3081\u001b[0m             \u001b[1;32mexcept\u001b[0m \u001b[0mKeyError\u001b[0m \u001b[1;32mas\u001b[0m \u001b[0merr\u001b[0m\u001b[1;33m:\u001b[0m\u001b[1;33m\u001b[0m\u001b[1;33m\u001b[0m\u001b[0m\n\u001b[1;32m-> 3082\u001b[1;33m                 \u001b[1;32mraise\u001b[0m \u001b[0mKeyError\u001b[0m\u001b[1;33m(\u001b[0m\u001b[0mkey\u001b[0m\u001b[1;33m)\u001b[0m \u001b[1;32mfrom\u001b[0m \u001b[0merr\u001b[0m\u001b[1;33m\u001b[0m\u001b[1;33m\u001b[0m\u001b[0m\n\u001b[0m\u001b[0;32m   3083\u001b[0m \u001b[1;33m\u001b[0m\u001b[0m\n\u001b[0;32m   3084\u001b[0m         \u001b[1;32mif\u001b[0m \u001b[0mtolerance\u001b[0m \u001b[1;32mis\u001b[0m \u001b[1;32mnot\u001b[0m \u001b[1;32mNone\u001b[0m\u001b[1;33m:\u001b[0m\u001b[1;33m\u001b[0m\u001b[1;33m\u001b[0m\u001b[0m\n",
      "\u001b[1;31mKeyError\u001b[0m: 'Moodys Issuer Watch'"
     ]
    }
   ],
   "source": [
    "moodys_adjusted_warf(trustee_df)"
   ]
  },
  {
   "cell_type": "code",
   "execution_count": 76,
   "id": "e74e4b8e",
   "metadata": {
    "ExecuteTime": {
     "end_time": "2021-06-21T18:13:21.020571Z",
     "start_time": "2021-06-21T18:13:20.997592Z"
    }
   },
   "outputs": [
    {
     "data": {
      "text/plain": [
       "{'Aaa': 1,\n",
       " 'Aa1': 10,\n",
       " 'Aa2': 20,\n",
       " 'Aa3': 40,\n",
       " 'A1': 70,\n",
       " 'A2': 120,\n",
       " 'A3': 180,\n",
       " 'Baa1': 260,\n",
       " 'Baa2': 360,\n",
       " 'Baa3': 610,\n",
       " 'Ba1': 940,\n",
       " 'Ba2': 1350,\n",
       " 'Ba3': 1766,\n",
       " 'B1': 2220,\n",
       " 'B2': 2720,\n",
       " 'B3': 3490,\n",
       " 'Caa1': 4770,\n",
       " 'Caa2': 6500,\n",
       " 'Caa3': 8070,\n",
       " 'Ca': 10000,\n",
       " 'C': 10000,\n",
       " 'NR': 10000,\n",
       " 'W/D': 10000}"
      ]
     },
     "execution_count": 76,
     "metadata": {},
     "output_type": "execute_result"
    }
   ],
   "source": [
    "dict(moodys_rfTable[['Moody\\'s Rating Factor Table','RF']].values)"
   ]
  },
  {
   "cell_type": "code",
   "execution_count": 78,
   "id": "56e6ceca",
   "metadata": {
    "ExecuteTime": {
     "end_time": "2021-06-21T18:17:34.314492Z",
     "start_time": "2021-06-21T18:17:34.294524Z"
    }
   },
   "outputs": [
    {
     "data": {
      "text/plain": [
       "LXID\n",
       "LX183929      B1\n",
       "LX175827      B2\n",
       "LX193380      B3\n",
       "LX192466      B2\n",
       "LX190422      B1\n",
       "            ... \n",
       "LX191244      B3\n",
       "LX173000    Caa2\n",
       "LX185593      B2\n",
       "LX192354      B2\n",
       "LX185219      B1\n",
       "Name: Adjusted Moody's WARF Rating, Length: 338, dtype: object"
      ]
     },
     "execution_count": 78,
     "metadata": {},
     "output_type": "execute_result"
    }
   ],
   "source": [
    "trustee_df['Adjusted Moody\\'s WARF Rating']"
   ]
  },
  {
   "cell_type": "code",
   "execution_count": 108,
   "id": "8538c686",
   "metadata": {
    "ExecuteTime": {
     "end_time": "2021-06-21T20:59:26.030510Z",
     "start_time": "2021-06-21T20:59:26.015550Z"
    }
   },
   "outputs": [
    {
     "data": {
      "text/plain": [
       "array([[6.5766297e-17]])"
      ]
     },
     "execution_count": 108,
     "metadata": {},
     "output_type": "execute_result"
    }
   ],
   "source": [
    "#round((clo_df['OCP CLO 2019-16, Ltd.'].sum()/1e8))*100\n",
    "vec = clo_df[['OCP CLO 2019-16, Ltd.','S&P Industry']].groupby('S&P Industry').sum().values\n",
    "1/vec.T.dot(vec)"
   ]
  },
  {
   "cell_type": "code",
   "execution_count": null,
   "id": "104850e0",
   "metadata": {},
   "outputs": [],
   "source": [
    "def SP_CDO_Monitor_Test(clo_df,col='OCP CLO 2019-16, Ltd.'):\n",
    "    C0 = 0.185893082941552\n",
    "    C1 = 3.70021989750327\n",
    "    C2 = 0.881097473356921\n",
    "    \n",
    "    clo_df['S&P CLO Specified Assets'] = clo_df.loc[clo_df['S&P Rating']!='CC' | clo_df['S&P Rating']!='SD' | \\\n",
    "                                                    clo_df['S&P Rating']!='D','Principal Balance']\n",
    "    \n",
    "    # Target Par Amount\n",
    "    # this is a quick estimate until we have a default parameter set for each\n",
    "    OP = round((clo_df[col].sum()/1e8))*100\n",
    "    \n",
    "    # Agg Principal Balance (excl < CCC-)\n",
    "    NP = clo_df['S&P CLO Specified Assets'].sum()\n",
    "    \n",
    "    # Weighted Average Spread\n",
    "    SPWAS = weighted_average(clo_df,cols=[col,'Libor Spread'])\n",
    "    \n",
    "    # Weighted Average Recovery Rate\n",
    "    # uses par no default basically\n",
    "    SPWARR = weighted_average(clo_df,cols=[col,'S&P Recovery Rating'])\n",
    "    \n",
    "    # Weighted Average Rating Factor\n",
    "    # uses specified assets\n",
    "    SPWARF = weighted_average(clo_df,cols=['S&P CLO Specified Assets','S&P Global Ratings Factor'])\n",
    "    \n",
    "    clo_df['Absolute Deviation'] = abs(clo_df['S&P Global Ratings Factor']-SPWARF)\n",
    "    # Default Rate Dispersion\n",
    "    # weighted average of |Global Rating Factor - WARF| (excl < CCC-)\n",
    "    # use specified assets\n",
    "    DRD = weighted_average(clo_df,cols=['S&P CLO Specified Assets','Absolute Deviation'])\n",
    "    \n",
    "    # Obligor Diversity Measure\n",
    "    vec = clo_df[['OCP CLO 2019-16, Ltd.','Parent Company']].groupby('Parent Company').sum().values/NP\n",
    "    ODM = 1/vec.T.dot(vec)\n",
    "    \n",
    "    # Industry Diversity Measure\n",
    "    vec = clo_df[['OCP CLO 2019-16, Ltd.','S&P Industry']].groupby('S&P Industry').sum().values/NP\n",
    "    IDM = 1/vec.T.dot(vec)\n",
    "    \n",
    "    # Regional Diversity Measure\n",
    "    # Annex D : S&P CDO Evaluator Country Codes, Regions and Recovery Groups\n",
    "    vec = clo_df[['OCP CLO 2019-16, Ltd.','Issuer Country']].groupby('Issuer Country').sum().values/NP\n",
    "    RDM = 1/vec.T.dot(vec)\n",
    "    \n",
    "    # Weighted Average Life\n",
    "    WAL = Weighted_Average_Life_Test(clo_df)\n",
    "    \n",
    "    # S&P CDO Monitor BDR\n",
    "    BDR = C0 + (C1 * SPWAS) + (C2 * SPWARR)\n",
    "    \n",
    "    # S&P CDO Monitor Adjusted BDR\n",
    "    AdjBDR = BDR * (OP/NP) - (NP - OP)/(NP *(1-SPWARR))\n",
    "    \n",
    "    # S&P CDO Monitor SDR\n",
    "    SDR = 0.247621 + (SPWARF/9162.65) - DRD/16757.2 - ODM/7677.8 - IDM/2177.56 - RDM/34.0948 \\\n",
    "        + WAL/27.3896\n",
    "    \n",
    "    print('Pass' if AdjBDR >= SDR else 'Fail')\n",
    "    \n",
    "    return SDR, AdjBDR, BDR"
   ]
  },
  {
   "cell_type": "code",
   "execution_count": 79,
   "id": "bcd0c86d",
   "metadata": {
    "ExecuteTime": {
     "end_time": "2021-06-21T19:01:06.517720Z",
     "start_time": "2021-06-21T19:01:06.490793Z"
    }
   },
   "outputs": [
    {
     "data": {
      "text/html": [
       "<div>\n",
       "<style scoped>\n",
       "    .dataframe tbody tr th:only-of-type {\n",
       "        vertical-align: middle;\n",
       "    }\n",
       "\n",
       "    .dataframe tbody tr th {\n",
       "        vertical-align: top;\n",
       "    }\n",
       "\n",
       "    .dataframe thead th {\n",
       "        text-align: right;\n",
       "    }\n",
       "</style>\n",
       "<table border=\"1\" class=\"dataframe\">\n",
       "  <thead>\n",
       "    <tr style=\"text-align: right;\">\n",
       "      <th></th>\n",
       "      <th>S&amp;P Recovery Rating</th>\n",
       "      <th>S&amp;P Recovery Rating</th>\n",
       "      <th>S&amp;P Recovery Rate (AAA)</th>\n",
       "      <th>S&amp;P Range</th>\n",
       "    </tr>\n",
       "    <tr>\n",
       "      <th>LXID</th>\n",
       "      <th></th>\n",
       "      <th></th>\n",
       "      <th></th>\n",
       "      <th></th>\n",
       "    </tr>\n",
       "  </thead>\n",
       "  <tbody>\n",
       "    <tr>\n",
       "      <th>LX183929</th>\n",
       "      <td>2(70%)</td>\n",
       "      <td>2(70%)</td>\n",
       "      <td>0.500</td>\n",
       "      <td>70</td>\n",
       "    </tr>\n",
       "    <tr>\n",
       "      <th>LX175827</th>\n",
       "      <td>3(60%)</td>\n",
       "      <td>3(60%)</td>\n",
       "      <td>0.400</td>\n",
       "      <td>60</td>\n",
       "    </tr>\n",
       "    <tr>\n",
       "      <th>LX193380</th>\n",
       "      <td>NaN</td>\n",
       "      <td>NaN</td>\n",
       "      <td>0.500</td>\n",
       "      <td>NaN</td>\n",
       "    </tr>\n",
       "    <tr>\n",
       "      <th>LX192466</th>\n",
       "      <td>3(60%)</td>\n",
       "      <td>3(60%)</td>\n",
       "      <td>0.400</td>\n",
       "      <td>60</td>\n",
       "    </tr>\n",
       "    <tr>\n",
       "      <th>LX190422</th>\n",
       "      <td>3(65%)</td>\n",
       "      <td>3(65%)</td>\n",
       "      <td>0.450</td>\n",
       "      <td>NaN</td>\n",
       "    </tr>\n",
       "    <tr>\n",
       "      <th>...</th>\n",
       "      <td>...</td>\n",
       "      <td>...</td>\n",
       "      <td>...</td>\n",
       "      <td>...</td>\n",
       "    </tr>\n",
       "    <tr>\n",
       "      <th>LX191244</th>\n",
       "      <td>3(55%)</td>\n",
       "      <td>3(55%)</td>\n",
       "      <td>0.350</td>\n",
       "      <td>55</td>\n",
       "    </tr>\n",
       "    <tr>\n",
       "      <th>LX173000</th>\n",
       "      <td>4(45%)</td>\n",
       "      <td>4(45%)</td>\n",
       "      <td>0.285</td>\n",
       "      <td>45</td>\n",
       "    </tr>\n",
       "    <tr>\n",
       "      <th>LX185593</th>\n",
       "      <td>3(50%)</td>\n",
       "      <td>3(50%)</td>\n",
       "      <td>0.300</td>\n",
       "      <td>50</td>\n",
       "    </tr>\n",
       "    <tr>\n",
       "      <th>LX192354</th>\n",
       "      <td>3(50%)</td>\n",
       "      <td>3(50%)</td>\n",
       "      <td>0.300</td>\n",
       "      <td>50</td>\n",
       "    </tr>\n",
       "    <tr>\n",
       "      <th>LX185219</th>\n",
       "      <td>3(65%)</td>\n",
       "      <td>3(65%)</td>\n",
       "      <td>0.450</td>\n",
       "      <td>65</td>\n",
       "    </tr>\n",
       "  </tbody>\n",
       "</table>\n",
       "<p>338 rows × 4 columns</p>\n",
       "</div>"
      ],
      "text/plain": [
       "         S&P Recovery Rating S&P Recovery Rating  S&P Recovery Rate (AAA)  \\\n",
       "LXID                                                                        \n",
       "LX183929              2(70%)              2(70%)                    0.500   \n",
       "LX175827              3(60%)              3(60%)                    0.400   \n",
       "LX193380                 NaN                 NaN                    0.500   \n",
       "LX192466              3(60%)              3(60%)                    0.400   \n",
       "LX190422              3(65%)              3(65%)                    0.450   \n",
       "...                      ...                 ...                      ...   \n",
       "LX191244              3(55%)              3(55%)                    0.350   \n",
       "LX173000              4(45%)              4(45%)                    0.285   \n",
       "LX185593              3(50%)              3(50%)                    0.300   \n",
       "LX192354              3(50%)              3(50%)                    0.300   \n",
       "LX185219              3(65%)              3(65%)                    0.450   \n",
       "\n",
       "         S&P Range  \n",
       "LXID                \n",
       "LX183929        70  \n",
       "LX175827        60  \n",
       "LX193380       NaN  \n",
       "LX192466        60  \n",
       "LX190422       NaN  \n",
       "...            ...  \n",
       "LX191244        55  \n",
       "LX173000        45  \n",
       "LX185593        50  \n",
       "LX192354        50  \n",
       "LX185219        65  \n",
       "\n",
       "[338 rows x 4 columns]"
      ]
     },
     "execution_count": 79,
     "metadata": {},
     "output_type": "execute_result"
    }
   ],
   "source": [
    "trustee_df[['S&P Recovery Rating','S&P Recovery Rate (AAA)','S&P Range']]"
   ]
  },
  {
   "cell_type": "code",
   "execution_count": null,
   "id": "a1639c50",
   "metadata": {},
   "outputs": [],
   "source": [
    "# "
   ]
  }
 ],
 "metadata": {
  "kernelspec": {
   "display_name": "Python 3",
   "language": "python",
   "name": "python3"
  },
  "language_info": {
   "codemirror_mode": {
    "name": "ipython",
    "version": 3
   },
   "file_extension": ".py",
   "mimetype": "text/x-python",
   "name": "python",
   "nbconvert_exporter": "python",
   "pygments_lexer": "ipython3",
   "version": "3.8.5"
  },
  "latex_envs": {
   "LaTeX_envs_menu_present": true,
   "autoclose": false,
   "autocomplete": true,
   "bibliofile": "biblio.bib",
   "cite_by": "apalike",
   "current_citInitial": 1,
   "eqLabelWithNumbers": true,
   "eqNumInitial": 1,
   "hotkeys": {
    "equation": "Ctrl-E",
    "itemize": "Ctrl-I"
   },
   "labels_anchors": false,
   "latex_user_defs": false,
   "report_style_numbering": false,
   "user_envs_cfg": false
  },
  "toc": {
   "base_numbering": 1,
   "nav_menu": {},
   "number_sections": true,
   "sideBar": true,
   "skip_h1_title": false,
   "title_cell": "Table of Contents",
   "title_sidebar": "Contents",
   "toc_cell": false,
   "toc_position": {},
   "toc_section_display": true,
   "toc_window_display": true
  },
  "varInspector": {
   "cols": {
    "lenName": 16,
    "lenType": 16,
    "lenVar": 40
   },
   "kernels_config": {
    "python": {
     "delete_cmd_postfix": "",
     "delete_cmd_prefix": "del ",
     "library": "var_list.py",
     "varRefreshCmd": "print(var_dic_list())"
    },
    "r": {
     "delete_cmd_postfix": ") ",
     "delete_cmd_prefix": "rm(",
     "library": "var_list.r",
     "varRefreshCmd": "cat(var_dic_list()) "
    }
   },
   "types_to_exclude": [
    "module",
    "function",
    "builtin_function_or_method",
    "instance",
    "_Feature"
   ],
   "window_display": true
  }
 },
 "nbformat": 4,
 "nbformat_minor": 5
}
