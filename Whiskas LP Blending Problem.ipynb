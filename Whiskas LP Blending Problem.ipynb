{
 "cells": [
  {
   "cell_type": "code",
   "execution_count": 1,
   "id": "focal-determination",
   "metadata": {
    "ExecuteTime": {
     "end_time": "2021-05-03T20:32:22.156166Z",
     "start_time": "2021-05-03T20:32:13.404523Z"
    }
   },
   "outputs": [
    {
     "name": "stdout",
     "output_type": "stream",
     "text": [
      "Collecting PuLP\n",
      "  Downloading PuLP-2.4-py3-none-any.whl (40.6 MB)\n",
      "Collecting amply>=0.1.2\n",
      "  Downloading amply-0.1.4-py3-none-any.whl (16 kB)\n",
      "Requirement already satisfied: pyparsing in c:\\users\\jknechtel\\miniconda3\\lib\\site-packages (from amply>=0.1.2->PuLP) (2.4.7)\n",
      "Collecting docutils>=0.3\n",
      "  Downloading docutils-0.17.1-py2.py3-none-any.whl (575 kB)\n",
      "Installing collected packages: docutils, amply, PuLP\n",
      "Successfully installed PuLP-2.4 amply-0.1.4 docutils-0.17.1\n",
      "Note: you may need to restart the kernel to use updated packages.\n"
     ]
    },
    {
     "name": "stderr",
     "output_type": "stream",
     "text": [
      "WARNING: You are using pip version 20.3.3; however, version 21.1.1 is available.\n",
      "You should consider upgrading via the 'C:\\Users\\jknechtel\\Miniconda3\\python.exe -m pip install --upgrade pip' command.\n"
     ]
    }
   ],
   "source": [
    "pip install PuLP"
   ]
  },
  {
   "cell_type": "markdown",
   "id": "detailed-march",
   "metadata": {},
   "source": [
    "## Let's try to define the problem mathematically\n",
    "\n",
    "$$\\max_{w \\in [0,1]} \\sum_{i=0}^{n} w_{i} s_{i} $$\n",
    "\n",
    "s.t.\n",
    "$$ \\sum_{i=1}^{n} w_{i} RF_{i} \\leq WARFTest $$\n",
    "$$ \\sum_{i=1}^{n} w_{i} RR_{i} \\geq WARRTest $$\n",
    "$$ \\sum_{i=1}^{n} w_{i} = TotalTargetPar $$\n",
    "$$ abs(\\sum_{i=1}^{n} w_{i} ParBL_{i}) \\leq ParBLLim $$\n",
    "$$ f(w_{i}) \\geq DiversityTest $$\n",
    "\n",
    "Where, $w$ is the par mount of each loan (Par No Default typically).  There might be other constraints such as WAPP, Percent C-, Percent 2ndLien, etc, but they are straightforward like above\n",
    "\n",
    "$f(\\boldsymbol{w})$ is piecewise linear.  Need to determine a way to write it in a way the optimizer can handle.   \n",
    "\n",
    "$$EUScore_{i} = \\min(\\frac{Par_{i}}{\\overline{Par_{i}}},1)$$\n",
    "The sector contributions is the trickier part. \n",
    "$$AIEUS_{j} = \\sum_{i \\in sector_{j}} EUScore_{i}$$   \n",
    "$$AIEUS_{j} \\Rightarrow IDS_{j}$$   \n",
    "This is where we could estimate the functional form. The mapping\n",
    "looks similar to the sqrt() but with some shifting/scaling.\n",
    "$$ IDX_{j} = \\hat{f}(AIEUS_{j})$$\n",
    "\n",
    "$$ DiversityScore = \\sum_{j} IDS_{j}$$\n",
    "\n",
    "potentially,\n",
    "$$ DiversityScore = \\sum_{j} \\hat{f} [\\sum_{i \\in sector_{j}}\\min(\\frac{Par_{i}}{\\overline{Par_{i}}},1)] $$\n",
    "\n",
    "(In the above $Par_{i} = w_{i}$, they are the same, but I wrote it more explicit with $Par$.)\n",
    "\n",
    "\n"
   ]
  },
  {
   "cell_type": "code",
   "execution_count": 2,
   "id": "joined-david",
   "metadata": {
    "ExecuteTime": {
     "end_time": "2021-05-17T15:47:44.387946Z",
     "start_time": "2021-05-17T15:47:42.922866Z"
    }
   },
   "outputs": [
    {
     "name": "stderr",
     "output_type": "stream",
     "text": [
      "C:\\Users\\jknechtel\\Miniconda3\\lib\\site-packages\\pulp\\pulp.py:1199: UserWarning: Spaces are not permitted in the name. Converted to '_'\n",
      "  warnings.warn(\"Spaces are not permitted in the name. Converted to '_'\")\n"
     ]
    },
    {
     "name": "stdout",
     "output_type": "stream",
     "text": [
      "Status: Optimal\n",
      "Ingr_BEEF = 60.0\n",
      "Ingr_CHICKEN = 0.0\n",
      "Ingr_GEL = 40.0\n",
      "Ingr_MUTTON = 0.0\n",
      "Ingr_RICE = 0.0\n",
      "Ingr_WHEAT = 0.0\n",
      "Total Cost of Ingredients per can =  0.52\n"
     ]
    }
   ],
   "source": [
    "\"\"\"\n",
    "The Simplified Whiskas Model Python Formulation for the PuLP Modeller\n",
    "\n",
    "Authors: Antony Phillips, Dr Stuart Mitchell  2007\n",
    "\"\"\"\n",
    "\n",
    "# Import PuLP modeler functions\n",
    "from pulp import *\n",
    "\n",
    "# Create the 'prob' variable to contain the problem data\n",
    "prob = LpProblem(\"The Whiskas Problem\",LpMinimize)\n",
    "\n",
    "\n",
    "# Creates a list of the Ingredients\n",
    "Ingredients = ['CHICKEN', 'BEEF', 'MUTTON', 'RICE', 'WHEAT', 'GEL']\n",
    "\n",
    "# A dictionary of the costs of each of the Ingredients is created\n",
    "costs = {'CHICKEN': 0.013, \n",
    "         'BEEF': 0.008, \n",
    "         'MUTTON': 0.010, \n",
    "         'RICE': 0.002, \n",
    "         'WHEAT': 0.005, \n",
    "         'GEL': 0.001}\n",
    "\n",
    "# A dictionary of the protein percent in each of the Ingredients is created\n",
    "proteinPercent = {'CHICKEN': 0.100, \n",
    "                  'BEEF': 0.200, \n",
    "                  'MUTTON': 0.150, \n",
    "                  'RICE': 0.000, \n",
    "                  'WHEAT': 0.040, \n",
    "                  'GEL': 0.000}\n",
    "\n",
    "# A dictionary of the fat percent in each of the Ingredients is created\n",
    "fatPercent = {'CHICKEN': 0.080, \n",
    "              'BEEF': 0.100, \n",
    "              'MUTTON': 0.110, \n",
    "              'RICE': 0.010, \n",
    "              'WHEAT': 0.010, \n",
    "              'GEL': 0.000}\n",
    "\n",
    "# A dictionary of the fibre percent in each of the Ingredients is created\n",
    "fibrePercent = {'CHICKEN': 0.001, \n",
    "                'BEEF': 0.005, \n",
    "                'MUTTON': 0.003, \n",
    "                'RICE': 0.100, \n",
    "                'WHEAT': 0.150, \n",
    "                'GEL': 0.000}\n",
    "\n",
    "# A dictionary of the salt percent in each of the Ingredients is created\n",
    "saltPercent = {'CHICKEN': 0.002, \n",
    "               'BEEF': 0.005, \n",
    "               'MUTTON': 0.007, \n",
    "               'RICE': 0.002, \n",
    "               'WHEAT': 0.008, \n",
    "               'GEL': 0.000}\n",
    "\n",
    "# A dictionary called 'ingredient_vars' is created to contain the referenced Variables\n",
    "ingredient_vars = LpVariable.dicts(\"Ingr\", Ingredients, 0)\n",
    "\n",
    "# The objective function is added to 'prob' first\n",
    "prob += lpSum([costs[i]*ingredient_vars[i] for i in Ingredients]), \"Total Cost of Ingredients per can\"\n",
    "\n",
    "# The five constraints are added to 'prob'\n",
    "prob += lpSum([ingredient_vars[i] for i in Ingredients]) == 100, \"PercentagesSum\"\n",
    "prob += lpSum([proteinPercent[i] * ingredient_vars[i] for i in Ingredients]) >= 8.0, \"ProteinRequirement\"\n",
    "prob += lpSum([fatPercent[i] * ingredient_vars[i] for i in Ingredients]) >= 6.0, \"FatRequirement\"\n",
    "prob += lpSum([fibrePercent[i] * ingredient_vars[i] for i in Ingredients]) <= 2.0, \"FibreRequirement\"\n",
    "prob += lpSum([saltPercent[i] * ingredient_vars[i] for i in Ingredients]) <= 0.4, \"SaltRequirement\"\n",
    "\n",
    "# The problem data is written to an .lp file\n",
    "prob.writeLP(\"WhiskasModel.lp\")\n",
    "\n",
    "# The problem is solved using PuLP's choice of Solver\n",
    "prob.solve()\n",
    "\n",
    "# The status of the solution is printed to the screen\n",
    "print (\"Status:\", LpStatus[prob.status])\n",
    "# Each of the variables is printed with it's resolved optimum value\n",
    "for v in prob.variables():\n",
    "    print (v.name, \"=\", v.varValue)\n",
    "    \n",
    "# The optimised objective function value is printed to the screen\n",
    "print (\"Total Cost of Ingredients per can = \", value(prob.objective))"
   ]
  },
  {
   "cell_type": "code",
   "execution_count": 3,
   "id": "breathing-northern",
   "metadata": {
    "ExecuteTime": {
     "end_time": "2021-05-17T15:48:00.516792Z",
     "start_time": "2021-05-17T15:48:00.491857Z"
    }
   },
   "outputs": [
    {
     "data": {
      "text/plain": [
       "{'CHICKEN': Ingr_CHICKEN,\n",
       " 'BEEF': Ingr_BEEF,\n",
       " 'MUTTON': Ingr_MUTTON,\n",
       " 'RICE': Ingr_RICE,\n",
       " 'WHEAT': Ingr_WHEAT,\n",
       " 'GEL': Ingr_GEL}"
      ]
     },
     "execution_count": 3,
     "metadata": {},
     "output_type": "execute_result"
    }
   ],
   "source": [
    "ingredient_vars"
   ]
  },
  {
   "cell_type": "code",
   "execution_count": null,
   "id": "corporate-leather",
   "metadata": {},
   "outputs": [],
   "source": [
    "def knapSack(W, wt, val, n): \n",
    "    K = [[0 for x in range(W + 1)] for x in range(n + 1)] \n",
    "   \n",
    "    # Build table K[][] in bottom up manner \n",
    "    for i in range(n + 1): \n",
    "        for w in range(W + 1): \n",
    "            if i == 0 or w == 0: \n",
    "                K[i][w] = 0\n",
    "            elif wt[i-1] <= w: \n",
    "                K[i][w] = max(val[i-1] \n",
    "                          + K[i-1][w-wt[i-1]],   \n",
    "                              K[i-1][w]) \n",
    "            else: \n",
    "                K[i][w] = K[i-1][w] \n",
    "   \n",
    "    return K[n][W] \n",
    "   \n",
    "   \n",
    "# Driver code \n",
    "val = [60, 100, 120] \n",
    "wt = [10, 20, 30] \n",
    "W = 400000000\n",
    "n = len(val) \n",
    "print(knapSack(W, wt, val, n)) "
   ]
  }
 ],
 "metadata": {
  "kernelspec": {
   "display_name": "Python 3",
   "language": "python",
   "name": "python3"
  },
  "language_info": {
   "codemirror_mode": {
    "name": "ipython",
    "version": 3
   },
   "file_extension": ".py",
   "mimetype": "text/x-python",
   "name": "python",
   "nbconvert_exporter": "python",
   "pygments_lexer": "ipython3",
   "version": "3.8.5"
  },
  "latex_envs": {
   "LaTeX_envs_menu_present": true,
   "autoclose": false,
   "autocomplete": true,
   "bibliofile": "biblio.bib",
   "cite_by": "apalike",
   "current_citInitial": 1,
   "eqLabelWithNumbers": true,
   "eqNumInitial": 1,
   "hotkeys": {
    "equation": "Ctrl-E",
    "itemize": "Ctrl-I"
   },
   "labels_anchors": false,
   "latex_user_defs": false,
   "report_style_numbering": false,
   "user_envs_cfg": false
  },
  "toc": {
   "base_numbering": 1,
   "nav_menu": {},
   "number_sections": true,
   "sideBar": true,
   "skip_h1_title": false,
   "title_cell": "Table of Contents",
   "title_sidebar": "Contents",
   "toc_cell": false,
   "toc_position": {},
   "toc_section_display": true,
   "toc_window_display": false
  },
  "varInspector": {
   "cols": {
    "lenName": 16,
    "lenType": 16,
    "lenVar": 40
   },
   "kernels_config": {
    "python": {
     "delete_cmd_postfix": "",
     "delete_cmd_prefix": "del ",
     "library": "var_list.py",
     "varRefreshCmd": "print(var_dic_list())"
    },
    "r": {
     "delete_cmd_postfix": ") ",
     "delete_cmd_prefix": "rm(",
     "library": "var_list.r",
     "varRefreshCmd": "cat(var_dic_list()) "
    }
   },
   "types_to_exclude": [
    "module",
    "function",
    "builtin_function_or_method",
    "instance",
    "_Feature"
   ],
   "window_display": true
  }
 },
 "nbformat": 4,
 "nbformat_minor": 5
}
